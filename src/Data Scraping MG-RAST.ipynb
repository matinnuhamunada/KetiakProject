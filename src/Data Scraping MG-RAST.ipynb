{
 "cells": [
  {
   "cell_type": "code",
   "execution_count": 18,
   "metadata": {},
   "outputs": [
    {
     "name": "stdout",
     "output_type": "stream",
     "text": [
      "      Sample ID      Run ID\n",
      "0     SRS451417   SRR919527\n",
      "1     SRS451417   SRR919587\n",
      "2     SRS451418   SRR919528\n",
      "3     SRS451418   SRR919588\n",
      "4     SRS451419   SRR919529\n",
      "5     SRS451419   SRR919589\n",
      "6     SRS451420   SRR919530\n",
      "7     SRS451420   SRR919590\n",
      "8     SRS451421   SRR919531\n",
      "9     SRS451421   SRR919591\n",
      "10    SRS451422   SRR919532\n",
      "11    SRS451422   SRR919592\n",
      "12    SRS451423   SRR919533\n",
      "13    SRS451423   SRR919593\n",
      "14    SRS451424   SRR919534\n",
      "15    SRS451424   SRR919594\n",
      "16    SRS451425   SRR919535\n",
      "17    SRS451425   SRR919595\n",
      "18    SRS451426   SRR919537\n",
      "19    SRS451426   SRR919597\n",
      "20    SRS451427   SRR919536\n",
      "21    SRS451427   SRR919596\n",
      "22    SRS451428   SRR919538\n",
      "23    SRS451428   SRR919598\n",
      "24    SRS451429   SRR919539\n",
      "25    SRS451429   SRR919599\n",
      "26    SRS451430   SRR919540\n",
      "27    SRS451430   SRR919600\n",
      "28    SRS451431   SRR919541\n",
      "29    SRS451431   SRR919601\n",
      "...         ...         ...\n",
      "4368  SRS732139  SRR1633154\n",
      "4369  SRS732139  SRR1633155\n",
      "4370  SRS732139  SRR1633156\n",
      "4371  SRS732139  SRR1633157\n",
      "4372  SRS732139  SRR1633158\n",
      "4373  SRS732140  SRR1633147\n",
      "4374  SRS732140  SRR1633148\n",
      "4375  SRS732140  SRR1633149\n",
      "4376  SRS732140  SRR1633150\n",
      "4377  SRS732140  SRR1633151\n",
      "4378  SRS732140  SRR1633152\n",
      "4379  SRS732141  SRR1633159\n",
      "4380  SRS732141  SRR1633160\n",
      "4381  SRS732141  SRR1633161\n",
      "4382  SRS732141  SRR1633162\n",
      "4383  SRS732141  SRR1633163\n",
      "4384  SRS732141  SRR1633164\n",
      "4385  SRS732141  SRR1633165\n",
      "4386  SRS732142  SRR1633166\n",
      "4387  SRS732142  SRR1633167\n",
      "4388  SRS732142  SRR1633168\n",
      "4389  SRS732142  SRR1633169\n",
      "4390  SRS732142  SRR1633170\n",
      "4391  SRS732142  SRR1633171\n",
      "4392  SRS732144  SRR1633172\n",
      "4393  SRS732144  SRR1633173\n",
      "4394  SRS732144  SRR1633174\n",
      "4395  SRS732144  SRR1633175\n",
      "4396  SRS732144  SRR1633176\n",
      "4397  SRS732144  SRR1633177\n",
      "\n",
      "[4398 rows x 2 columns]\n"
     ]
    }
   ],
   "source": [
    "import pandas as pd\n",
    "df1 = pd.read_csv(\"skin.csv\")\n",
    "df2 = df1.set_index(\"Sample Name\", drop = False)\n",
    "df3 = df1.loc[:,\"Sample ID\":\"Run ID\"]\n",
    "print(df3)"
   ]
  },
  {
   "cell_type": "code",
   "execution_count": 28,
   "metadata": {},
   "outputs": [
    {
     "name": "stdout",
     "output_type": "stream",
     "text": [
      "0     SRS451417\n",
      "1     SRS451417\n",
      "2     SRS451418\n",
      "3     SRS451418\n",
      "4     SRS451419\n",
      "5     SRS451419\n",
      "6     SRS451420\n",
      "7     SRS451420\n",
      "8     SRS451421\n",
      "9     SRS451421\n",
      "10    SRS451422\n",
      "Name: Sample ID, dtype: object\n"
     ]
    }
   ],
   "source": [
    "data = df3\n",
    "print(data.loc[0:10,'Sample ID'])"
   ]
  },
  {
   "cell_type": "code",
   "execution_count": 4,
   "metadata": {},
   "outputs": [
    {
     "name": "stdout",
     "output_type": "stream",
     "text": [
      "D:\\Jupyter\\KetiakProject\\src\n"
     ]
    }
   ],
   "source": [
    "#Create ouput folder\n",
    "import os, sys\n",
    "\n",
    "cwd = os.getcwd()\n",
    "output_folder = \"\\output\" #name output folder, use \\ for directory\n",
    "\n",
    "if not os.path.isdir(cwd + output_folder):\n",
    "    os.mkdir(cwd + output_folder)\n",
    "\n",
    "new_dir = cwd + output_folder\n",
    "    \n",
    "print(cwd)"
   ]
  },
  {
   "cell_type": "code",
   "execution_count": 6,
   "metadata": {},
   "outputs": [
    {
     "name": "stdout",
     "output_type": "stream",
     "text": [
      "SRR919527.biom\n",
      "SRR919587.biom\n",
      "SRR919528.biom\n",
      "SRR919588.biom\n",
      "SRR919529.biom\n",
      "SRR919589.biom\n",
      "SRR919530.biom\n",
      "SRR919590.biom\n",
      "SRR919531.biom\n",
      "SRR919591.biom\n",
      "done\n"
     ]
    }
   ],
   "source": [
    "import pycurl\n",
    "\n",
    "#Ambil data dari EBI\n",
    "for i in range(10): #(len(data)):\n",
    "    os.chdir(new_dir) #pindah ke folder output\n",
    "    filename = data[i] +'.biom'\n",
    "    print(filename)\n",
    "    if not os.path.isfile(filename):\n",
    "        with open(filename, 'wb') as f:\n",
    "            c = pycurl.Curl()\n",
    "            c.setopt(c.URL, 'https://www.ebi.ac.uk/metagenomics//projects/SRP002480/samples/SRS727157/runs/' + filename +'/results/versions/2.0/taxonomy/OTU-table-JSON-BIOM')\n",
    "            c.setopt(c.WRITEDATA, f)\n",
    "            c.perform()\n",
    "            c.close()\n",
    "    os.chdir(cwd) #balik ke folder semula\n",
    "print('done')"
   ]
  },
  {
   "cell_type": "code",
   "execution_count": 20,
   "metadata": {},
   "outputs": [
    {
     "name": "stdout",
     "output_type": "stream",
     "text": [
      "4477901.3gz\n"
     ]
    }
   ],
   "source": []
  },
  {
   "cell_type": "code",
   "execution_count": null,
   "metadata": {},
   "outputs": [],
   "source": []
  }
 ],
 "metadata": {
  "kernelspec": {
   "display_name": "Python 3",
   "language": "python",
   "name": "python3"
  },
  "language_info": {
   "codemirror_mode": {
    "name": "ipython",
    "version": 3
   },
   "file_extension": ".py",
   "mimetype": "text/x-python",
   "name": "python",
   "nbconvert_exporter": "python",
   "pygments_lexer": "ipython3",
   "version": "3.6.4"
  }
 },
 "nbformat": 4,
 "nbformat_minor": 2
}
