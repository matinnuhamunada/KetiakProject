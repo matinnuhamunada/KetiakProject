{
 "cells": [
  {
   "cell_type": "markdown",
   "metadata": {},
   "source": [
    "# Data Mining of Human Skin Microbiome from EBI-Metagenomics Portal\n",
    "\n",
    "_Matin Nuhamunada_<sup>1*</sup>, _Gregorius Altius Pratama_<sup>1</sup>, _Setianing Wikanthi_<sup>2</sup>, and _Mohamad Khoirul Anam_<sup>1</sup>\n",
    "\n",
    "<sup>1</sup>Department of Tropical Biology, Universitas Gadjah Mada;   \n",
    "Jl. Teknika Selatan, Sekip Utara, Bulaksumur, Yogyakarta, Indonesia, 55281;   \n",
    "\n",
    "<sup>2</sup>Department of Agricultural Microbiology, Universitas Gadjah Mada;  \n",
    "\n",
    "*Correspondence: [matin_nuhamunada@ugm.ac.id](mailto:matin_nuhamunada@mail.ugm.ac.id)  \n",
    "[mohamad.khoirul.anam@mail.ugm.ac.id](mailto:mohamad.khoirul.anam@mail.ugm.ac.id)  \n",
    "[gregorius.altius.p@mail.ugm.ac.id](mailto:gregorius.altius.p@mail.ugm.ac.id)  \n",
    "[setianingwikanthi@mail.ugm.ac.id](mailto:setianingwikanthi@mail.ugm.ac.id)\n",
    "\n",
    "---\n",
    "## Abstract\n",
    "Human skin microbiome is unique to individuals in regards to many aspects, including behaviour, environment, and perhaps maybe genes. To understand more about the distribution of human skin microbiome across the globe, we compare several skin microbiome study available in the EBI-Metagenomic Portal. Study data was acquired using EBI-Metagenome API, and sample data was selected based on sex, location, and bodysite. The biological observation matrix from the analysis result of the selected samples were compared using MEGAN. \n",
    "\n",
    "### Keywords\n",
    "Human Skin, Microbiome, EBI-Metagenome\n"
   ]
  },
  {
   "cell_type": "markdown",
   "metadata": {},
   "source": [
    "## Import Python Modules\n",
    "We use python 3 script using ``pandas``, ``jsonapi_client``, ``pycurl``, to mine the data from EBI-metagenomic portal  [[1]](#ref1)."
   ]
  },
  {
   "cell_type": "code",
   "execution_count": 2,
   "metadata": {},
   "outputs": [],
   "source": [
    "from pandas import DataFrame\n",
    "import pandas as pd\n",
    "\n",
    "try:\n",
    "    from urllib import urlencode\n",
    "except ImportError:\n",
    "    from urllib.parse import urlencode"
   ]
  },
  {
   "cell_type": "code",
   "execution_count": 3,
   "metadata": {},
   "outputs": [],
   "source": [
    "from jsonapi_client import Session, Filter\n",
    "\n",
    "API_BASE = 'https://www.ebi.ac.uk/metagenomics/api/latest/'"
   ]
  },
  {
   "cell_type": "code",
   "execution_count": 4,
   "metadata": {},
   "outputs": [],
   "source": [
    "import pycurl\n",
    "import os, sys\n",
    "from tqdm import tqdm_notebook\n",
    "import numpy as np\n",
    "from time import sleep"
   ]
  },
  {
   "cell_type": "markdown",
   "metadata": {},
   "source": [
    "## Load Functions"
   ]
  },
  {
   "cell_type": "code",
   "execution_count": 5,
   "metadata": {},
   "outputs": [],
   "source": [
    "def get_metadata(metadata, key):\n",
    "    import html\n",
    "    for m in metadata:\n",
    "        if m['key'].lower() == key.lower():\n",
    "            value = m['value']\n",
    "            unit = html.unescape(m['unit']) if m['unit'] else \"\"\n",
    "            return \"{value} {unit}\".format(value=value, unit=unit)\n",
    "    return None\n",
    "\n",
    "def get_study(term, lineage, biome, filename):\n",
    "    if not os.path.isfile(filename):\n",
    "        with open(filename, 'wb') as f:\n",
    "            c = pycurl.Curl()\n",
    "            c.setopt(c.URL, 'https://www.ebi.ac.uk/metagenomics/projects/doExportDetails?searchTerm='+term+'&includingChildren=true&biomeLineage=root%3A'+lineage+'%3A'+biome+'&search=Search')\n",
    "            c.setopt(c.WRITEDATA, f)\n",
    "            c.perform()\n",
    "            c.close()\n",
    "    return filename\n",
    "\n",
    "def get_analysis_result(run, extension):\n",
    "    API_BASE_RUN = 'https://www.ebi.ac.uk/metagenomics/api/latest/runs'\n",
    "    with Session(API_BASE_RUN) as s:\n",
    "        study = s.get(run,'analysis').resource\n",
    "        for i in study.downloads:\n",
    "            if extension in i.file_format['name']:\n",
    "                link = i.url\n",
    "    return link"
   ]
  },
  {
   "cell_type": "markdown",
   "metadata": {},
   "source": [
    "## Get Study\n",
    "We search the EBI Metagenomic database on human skin microbiome study in the host-associated biome with 'skin' as search term. The study list can be found on this link: https://www.ebi.ac.uk/metagenomics/projects/doExportDetails?searchTerm=skin&includingChildren=true&biomeLineage=root%3AHost-associated%3AHuman&search=Search"
   ]
  },
  {
   "cell_type": "code",
   "execution_count": null,
   "metadata": {},
   "outputs": [],
   "source": [
    "#Search Study\n",
    "term = 'skin'\n",
    "lineage = 'Host-associated'\n",
    "biome = 'Human'\n",
    "file_study = '01_Study_'+term+'+'+biome+'+'+lineage+'_raw.csv'"
   ]
  },
  {
   "cell_type": "code",
   "execution_count": null,
   "metadata": {},
   "outputs": [],
   "source": [
    "#Download study information\n",
    "get_study(term, biome, lineage, file_study)"
   ]
  },
  {
   "cell_type": "code",
   "execution_count": null,
   "metadata": {},
   "outputs": [],
   "source": [
    "#Load Study information\n",
    "df1 = pd.read_csv(file_study)\n",
    "#df1"
   ]
  },
  {
   "cell_type": "code",
   "execution_count": null,
   "metadata": {},
   "outputs": [],
   "source": [
    "#Select relevant information\n",
    "df_study = df1[[\"Study ID\",\"Study Name\",\"Number Of Samples\", \"Submitted Date\", \"Experimental Factor\", \"Study Abstract\"]]\n",
    "#df_study"
   ]
  },
  {
   "cell_type": "code",
   "execution_count": null,
   "metadata": {},
   "outputs": [],
   "source": [
    "#Add information on biome\n",
    "df2 = DataFrame(columns=(\"Biome\",\"Lineage\",\"Publication\"))\n",
    "#df2.index.name = 'No'\n",
    "\n",
    "for i in tqdm_notebook(range(len(df_study))):\n",
    "    with Session(API_BASE) as s:\n",
    "        std = s.get('studies', df_study.loc[i, \"Study ID\"]).resource\n",
    "        for a in std.biomes:\n",
    "            df2.loc[i] = [a.biome_name,\n",
    "                          a.lineage,\n",
    "                          study.publications\n",
    "        ]\n",
    "#df2"
   ]
  },
  {
   "cell_type": "code",
   "execution_count": null,
   "metadata": {},
   "outputs": [],
   "source": [
    "#Merge & Filter Table\n",
    "df3 = pd.concat([df_study, df2], axis=1)\n",
    "df3.set_index([\"Study ID\"])\n",
    "df_study_biome = df3.query('Biome == [\"Human\", \"Skin\"] and Lineage == [\"root:Host-associated:Human:Skin\"]')\n",
    "df_study_biome"
   ]
  },
  {
   "cell_type": "code",
   "execution_count": null,
   "metadata": {},
   "outputs": [],
   "source": [
    "#Export study data\n",
    "df_study_biome.to_csv('02_Study_'+term+'+'+biome+'+'+lineage+'_filtered.csv')"
   ]
  },
  {
   "cell_type": "markdown",
   "metadata": {},
   "source": [
    "### Choose relevant study\n",
    "Our search using the keyterm \"skin\" on Human host-associated biome found 7 hits of studies. Of this studies, we tried to select comparable sample of human skin microbiome to get more understanding of human microbiome profile from different studies.\n",
    "\n",
    "From the data above, we can filter which study can be used as the data for comparative microbiome analysis of human skin samples. Therefore we choose the study ID 'SRP002480' as our data"
   ]
  },
  {
   "cell_type": "code",
   "execution_count": 6,
   "metadata": {},
   "outputs": [],
   "source": [
    "#Selected study\n",
    "study = 'SRP002480'"
   ]
  },
  {
   "cell_type": "markdown",
   "metadata": {},
   "source": [
    "### Get list of sample for a given study and its metadata\n",
    "\n",
    "Get study: https://www.ebi.ac.uk/metagenomics/api/latest/studies/SRP002480\n",
    "List samples: https://www.ebi.ac.uk/metagenomics/api/latest/studies/SRP002480/samples\n",
    "Fetch samples for the given study accession: https://www.ebi.ac.uk/metagenomics/api/latest/samples?study_accession=SRP002480\n"
   ]
  },
  {
   "cell_type": "code",
   "execution_count": null,
   "metadata": {},
   "outputs": [],
   "source": [
    "#Fetch a list of sample data from a given study\n",
    "filename_sample = '03_sample_'+study+'_raw.csv'\n",
    "print(filename_sample)\n",
    "if not os.path.isfile(filename_sample):\n",
    "    with open(filename_sample, 'wb') as f:\n",
    "        c = pycurl.Curl()\n",
    "        c.setopt(c.URL, 'https://www.ebi.ac.uk/metagenomics/projects/'+study+'/overview/doExport')\n",
    "        c.setopt(c.WRITEDATA, f)\n",
    "        c.perform()\n",
    "        c.close()"
   ]
  },
  {
   "cell_type": "code",
   "execution_count": null,
   "metadata": {},
   "outputs": [],
   "source": [
    "#Filter relevant information from the list\n",
    "df_sample = pd.read_csv(filename_sample)\n",
    "df_sample_refine = df_sample[[\"Sample ID\",\"Run ID\",\"Release version\"]]"
   ]
  },
  {
   "cell_type": "code",
   "execution_count": null,
   "metadata": {},
   "outputs": [],
   "source": [
    "#Create Container\n",
    "if not os.path.isfile('04_raw_meta_'+study+'.csv'):\n",
    "    df_meta = DataFrame(columns=('Sex',\"Body site\"))\n",
    "    df_meta.index.name = 'No'\n",
    "else:\n",
    "    df_meta = pd.read_csv('04_raw_meta_'+study+'.csv', index_col=0)\n",
    "\n",
    "#Fetch metadata for given sample\n",
    "pbar = tqdm_notebook(range(len(df_sample_refine))) #to make progressbar\n",
    "for i in pbar:\n",
    "    if not i in df_meta.index:\n",
    "        with Session(API_BASE) as s:\n",
    "            s_meta = s.get('samples', df_sample_refine.loc[i, \"Sample ID\"]).resource\n",
    "            df_meta.loc[i] = [\n",
    "                get_metadata(s_meta.sample_metadata, 'sex'),\n",
    "                get_metadata(s_meta.sample_metadata, 'body site')\n",
    "            ]\n",
    "        pbar.set_description('processed: %d' % (i))\n",
    "        pbar.update(1)\n",
    "        sleep(1)"
   ]
  },
  {
   "cell_type": "code",
   "execution_count": null,
   "metadata": {},
   "outputs": [],
   "source": [
    "#Write to container\n",
    "df_meta.to_csv('04_raw_meta_'+study+'.csv')\n",
    "#df_meta"
   ]
  },
  {
   "cell_type": "code",
   "execution_count": null,
   "metadata": {},
   "outputs": [],
   "source": [
    "#Merge metadata with the raw sample list\n",
    "result = pd.concat([df_sample_refine, df_meta], axis=1)\n",
    "result.to_csv('05_sample_'+study+'_meta.csv')"
   ]
  },
  {
   "cell_type": "markdown",
   "metadata": {},
   "source": [
    "### Query samples based on its metadata"
   ]
  },
  {
   "cell_type": "code",
   "execution_count": null,
   "metadata": {},
   "outputs": [],
   "source": [
    "#Load sample list\n",
    "df_result_raw = pd.read_csv('05_sample_'+study+'_meta.csv', index_col = 0)"
   ]
  },
  {
   "cell_type": "code",
   "execution_count": null,
   "metadata": {},
   "outputs": [],
   "source": [
    "#Refine the column name to make it easier for filtering \n",
    "df_result_raw.columns = df_result_raw.columns.str.replace(' ', '_') \n",
    "#df_result_raw"
   ]
  },
  {
   "cell_type": "code",
   "execution_count": null,
   "metadata": {},
   "outputs": [],
   "source": [
    "#Delete empty datas\n",
    "df = df_result_raw\n",
    "df_result_refine = df[df_result_raw != '#N/A ']\n",
    "df_result_refine = df_result_refine.dropna()"
   ]
  },
  {
   "cell_type": "code",
   "execution_count": null,
   "metadata": {},
   "outputs": [],
   "source": [
    "#Create a list of values in body site metadata\n",
    "meta_list = df_result_refine[\"Body_site\"].tolist()\n",
    "meta_list_refine = list(set(meta_list))\n",
    "meta_list_refine"
   ]
  },
  {
   "cell_type": "code",
   "execution_count": null,
   "metadata": {},
   "outputs": [],
   "source": [
    "#Create dataframes based on sorted metadata\n",
    "def sort_by_meta(dataframe, sex, body_site): \n",
    "        return df.query('Sex==@sex and Body_site==@body_site')\n",
    "    \n",
    "df = df_result_refine\n",
    "f = 'female ' #Change to male or female\n",
    "m = 'male '\n",
    "bs = 'occiput '\n",
    "df_sort = sort_by_meta(df, m, bs)\n",
    "df_sort"
   ]
  },
  {
   "cell_type": "markdown",
   "metadata": {},
   "source": [
    "#### Automatize the body site metadata input\n",
    "for i in range(len(meta_list_refine)): \n",
    "    bs = meta_list_refine[i]  \n",
    "    #Create sorted dataframes\n",
    "    sort_by_meta(df, s, bs)"
   ]
  },
  {
   "cell_type": "markdown",
   "metadata": {},
   "source": [
    "#### Create .csv files of sorted dataframes\n",
    "    filename_sample = 'sort_by_meta ' + s + bs + '.csv' \n",
    "    print(filename_sample) #To check the files' names\n",
    "    if not os.path.isfile(filename_sample):\n",
    "        sort_by_meta(df, s, bs).to_csv('sort_by_meta ' + s + bs + '.csv')"
   ]
  },
  {
   "cell_type": "markdown",
   "metadata": {},
   "source": [
    "## Random sampling"
   ]
  },
  {
   "cell_type": "code",
   "execution_count": null,
   "metadata": {},
   "outputs": [],
   "source": [
    "def random_sampling(dataframe, amount):\n",
    "    df_random = DataFrame(columns=('Sample_ID','Run_ID','Release_version','Sex','Body_site'))\n",
    "    df_random.index.name = 'No'\n",
    "    a = 0\n",
    "    while a < amount:\n",
    "        i = np.random.choice(dataframe.index.values, 1)\n",
    "        container = df_random.loc[:, 'Sample_ID']\n",
    "        if not container.isin([dataframe.loc[i[0], 'Sample_ID']]).any():\n",
    "            df_random.loc[i[0]] = [dataframe.loc[i[0], 'Sample_ID'], \\\n",
    "                                   dataframe.loc[i[0], 'Run_ID'], \\\n",
    "                                   dataframe.loc[i[0], 'Release_version'], \\\n",
    "                                   dataframe.loc[i[0], 'Sex'], \\\n",
    "                                   dataframe.loc[i[0], 'Body_site']\n",
    "                                  ]\n",
    "            a = a + 1\n",
    "    return df_random"
   ]
  },
  {
   "cell_type": "code",
   "execution_count": null,
   "metadata": {},
   "outputs": [],
   "source": [
    "dataframe = df_sort\n",
    "amount = 5\n",
    "df_random_sample = random_sampling(dataframe, amount)\n",
    "df_random_sample"
   ]
  },
  {
   "cell_type": "code",
   "execution_count": null,
   "metadata": {},
   "outputs": [],
   "source": [
    "df_random_sample.to_csv('06_sampled_biom_'+study+'.csv')"
   ]
  },
  {
   "cell_type": "markdown",
   "metadata": {},
   "source": [
    "### Get analysis result of a given sample in a study\n",
    "https://www.ebi.ac.uk/metagenomics//projects/SRP002480/samples/SRS451457/runs/SRR919567/results/versions/2.0/taxonomy/OTU-table-HDF5-BIOM"
   ]
  },
  {
   "cell_type": "code",
   "execution_count": 7,
   "metadata": {},
   "outputs": [
    {
     "data": {
      "text/plain": [
       "'E:\\\\Jupyter_Lab\\\\KetiakProject\\\\src\\\\output_SRP002480'"
      ]
     },
     "execution_count": 7,
     "metadata": {},
     "output_type": "execute_result"
    }
   ],
   "source": [
    "#Create ouput folder\n",
    "cwd = os.getcwd() #get current working directory\n",
    "output_folder = \"\\output_\"+study #name of the output folder for a given study, use \\ for directory in windows\n",
    "if not os.path.isdir(cwd + output_folder):\n",
    "    os.mkdir(cwd + output_folder)\n",
    "new_dir = cwd + output_folder \n",
    "new_dir"
   ]
  },
  {
   "cell_type": "code",
   "execution_count": 8,
   "metadata": {},
   "outputs": [
    {
     "data": {
      "application/vnd.jupyter.widget-view+json": {
       "model_id": "cbf5415d8f1040049e5b90141b011470",
       "version_major": 2,
       "version_minor": 0
      },
      "text/plain": [
       "HBox(children=(IntProgress(value=0, max=5), HTML(value='')))"
      ]
     },
     "metadata": {},
     "output_type": "display_data"
    },
    {
     "name": "stdout",
     "output_type": "stream",
     "text": [
      "\n"
     ]
    }
   ],
   "source": [
    "extension = 'JSON Biom'\n",
    "df_result_m_back = pd.read_csv('06_sampled_biom_'+study+'.csv')\n",
    "\n",
    "#Ambil data dari EBI\n",
    "for i in tqdm_notebook(df_result_m_back.index):\n",
    "    os.chdir(new_dir) #pindah ke folder output\n",
    "    filename = df_result_m_back.loc[i, \"Sample_ID\"]+'.biom'\n",
    "    if not os.path.isfile(filename):\n",
    "        link = get_analysis_result(df_result_m_back.loc[i, \"Run_ID\"], extension)\n",
    "        with open(filename, 'wb') as f:\n",
    "            c = pycurl.Curl()\n",
    "            c.setopt(c.URL, link)\n",
    "            c.setopt(c.WRITEDATA, f)\n",
    "            c.perform()\n",
    "            c.close()\n",
    "    os.chdir(cwd) #balik ke folder semula"
   ]
  },
  {
   "cell_type": "markdown",
   "metadata": {},
   "source": [
    "## Download accompanying metadata for downloaded file"
   ]
  },
  {
   "cell_type": "code",
   "execution_count": 9,
   "metadata": {},
   "outputs": [],
   "source": [
    "df_meta_random = DataFrame(columns=('#SampleID','BarcodeSequence','LinkerPrimerSequence', 'RunID', 'Sex', 'BodySite', 'Description'))"
   ]
  },
  {
   "cell_type": "code",
   "execution_count": 10,
   "metadata": {},
   "outputs": [
    {
     "data": {
      "text/html": [
       "<div>\n",
       "<style scoped>\n",
       "    .dataframe tbody tr th:only-of-type {\n",
       "        vertical-align: middle;\n",
       "    }\n",
       "\n",
       "    .dataframe tbody tr th {\n",
       "        vertical-align: top;\n",
       "    }\n",
       "\n",
       "    .dataframe thead th {\n",
       "        text-align: right;\n",
       "    }\n",
       "</style>\n",
       "<table border=\"1\" class=\"dataframe\">\n",
       "  <thead>\n",
       "    <tr style=\"text-align: right;\">\n",
       "      <th></th>\n",
       "      <th>#SampleID</th>\n",
       "      <th>BarcodeSequence</th>\n",
       "      <th>LinkerPrimerSequence</th>\n",
       "      <th>RunID</th>\n",
       "      <th>Sex</th>\n",
       "      <th>BodySite</th>\n",
       "      <th>Description</th>\n",
       "    </tr>\n",
       "  </thead>\n",
       "  <tbody>\n",
       "  </tbody>\n",
       "</table>\n",
       "</div>"
      ],
      "text/plain": [
       "Empty DataFrame\n",
       "Columns: [#SampleID, BarcodeSequence, LinkerPrimerSequence, RunID, Sex, BodySite, Description]\n",
       "Index: []"
      ]
     },
     "execution_count": 10,
     "metadata": {},
     "output_type": "execute_result"
    }
   ],
   "source": [
    "df_meta_random"
   ]
  },
  {
   "cell_type": "code",
   "execution_count": 11,
   "metadata": {},
   "outputs": [
    {
     "data": {
      "application/vnd.jupyter.widget-view+json": {
       "model_id": "9c57cc7422ce4eafb885a186fdf69cf4",
       "version_major": 2,
       "version_minor": 0
      },
      "text/plain": [
       "HBox(children=(IntProgress(value=0, max=5), HTML(value='')))"
      ]
     },
     "metadata": {},
     "output_type": "display_data"
    },
    {
     "name": "stdout",
     "output_type": "stream",
     "text": [
      "\n"
     ]
    },
    {
     "data": {
      "text/html": [
       "<div>\n",
       "<style scoped>\n",
       "    .dataframe tbody tr th:only-of-type {\n",
       "        vertical-align: middle;\n",
       "    }\n",
       "\n",
       "    .dataframe tbody tr th {\n",
       "        vertical-align: top;\n",
       "    }\n",
       "\n",
       "    .dataframe thead th {\n",
       "        text-align: right;\n",
       "    }\n",
       "</style>\n",
       "<table border=\"1\" class=\"dataframe\">\n",
       "  <thead>\n",
       "    <tr style=\"text-align: right;\">\n",
       "      <th></th>\n",
       "      <th>#SampleID</th>\n",
       "      <th>BarcodeSequence</th>\n",
       "      <th>LinkerPrimerSequence</th>\n",
       "      <th>RunID</th>\n",
       "      <th>Sex</th>\n",
       "      <th>BodySite</th>\n",
       "      <th>Description</th>\n",
       "    </tr>\n",
       "  </thead>\n",
       "  <tbody>\n",
       "    <tr>\n",
       "      <th>0</th>\n",
       "      <td>SRS452130</td>\n",
       "      <td>_</td>\n",
       "      <td>_</td>\n",
       "      <td>SRR921066</td>\n",
       "      <td>male</td>\n",
       "      <td>back</td>\n",
       "      <td>_</td>\n",
       "    </tr>\n",
       "    <tr>\n",
       "      <th>1</th>\n",
       "      <td>SRS451948</td>\n",
       "      <td>_</td>\n",
       "      <td>_</td>\n",
       "      <td>SRR920746</td>\n",
       "      <td>male</td>\n",
       "      <td>back</td>\n",
       "      <td>_</td>\n",
       "    </tr>\n",
       "    <tr>\n",
       "      <th>2</th>\n",
       "      <td>SRS451924</td>\n",
       "      <td>_</td>\n",
       "      <td>_</td>\n",
       "      <td>SRR920722</td>\n",
       "      <td>male</td>\n",
       "      <td>back</td>\n",
       "      <td>_</td>\n",
       "    </tr>\n",
       "    <tr>\n",
       "      <th>3</th>\n",
       "      <td>SRS451876</td>\n",
       "      <td>_</td>\n",
       "      <td>_</td>\n",
       "      <td>SRR920674</td>\n",
       "      <td>male</td>\n",
       "      <td>back</td>\n",
       "      <td>_</td>\n",
       "    </tr>\n",
       "    <tr>\n",
       "      <th>4</th>\n",
       "      <td>SRS451427</td>\n",
       "      <td>_</td>\n",
       "      <td>_</td>\n",
       "      <td>SRR919596</td>\n",
       "      <td>male</td>\n",
       "      <td>back</td>\n",
       "      <td>_</td>\n",
       "    </tr>\n",
       "  </tbody>\n",
       "</table>\n",
       "</div>"
      ],
      "text/plain": [
       "   #SampleID BarcodeSequence LinkerPrimerSequence      RunID    Sex BodySite  \\\n",
       "0  SRS452130               _                    _  SRR921066  male     back    \n",
       "1  SRS451948               _                    _  SRR920746  male     back    \n",
       "2  SRS451924               _                    _  SRR920722  male     back    \n",
       "3  SRS451876               _                    _  SRR920674  male     back    \n",
       "4  SRS451427               _                    _  SRR919596  male     back    \n",
       "\n",
       "  Description  \n",
       "0           _  \n",
       "1           _  \n",
       "2           _  \n",
       "3           _  \n",
       "4           _  "
      ]
     },
     "execution_count": 11,
     "metadata": {},
     "output_type": "execute_result"
    }
   ],
   "source": [
    "df9 = pd.read_csv('06_sampled_biom_'+study+'.csv')\n",
    "\n",
    "pbar = tqdm_notebook(range(len(df9))) #to make progressbar\n",
    "for i in pbar:\n",
    "    df_meta_random.loc[i] = [df9.loc[i, 'Sample_ID'], \\\n",
    "                            '_', \\\n",
    "                            '_', \\\n",
    "                            df9.loc[i, 'Run_ID'], \\\n",
    "                            df9.loc[i, 'Sex'], \\\n",
    "                            df9.loc[i, 'Body_site'], \\\n",
    "                            '_'\n",
    "                           ]\n",
    "df_meta_random"
   ]
  },
  {
   "cell_type": "code",
   "execution_count": 16,
   "metadata": {},
   "outputs": [],
   "source": [
    "df_meta_random.to_csv('07_metadata.txt', sep=\"\\t\", index = False)"
   ]
  },
  {
   "cell_type": "markdown",
   "metadata": {},
   "source": [
    "## Download file lain"
   ]
  },
  {
   "cell_type": "code",
   "execution_count": null,
   "metadata": {},
   "outputs": [],
   "source": []
  },
  {
   "cell_type": "markdown",
   "metadata": {},
   "source": [
    "### References\n",
    "---\n",
    "<a id='ref1'></a>\n",
    "1. Alex L Mitchell, Maxim Scheremetjew, Hubert Denise, Simon Potter, Aleksandra Tarkowska, Matloob Qureshi, Gustavo A Salazar, Sebastien Pesseat, Miguel A Boland, Fiona M I Hunter, Petra ten Hoopen, Blaise Alako, Clara Amid, Darren J Wilkinson, Thomas P Curtis, Guy Cochrane, Robert D Finn; EBI Metagenomics in 2017: enriching the analysis of microbial communities, from sequence reads to assemblies, Nucleic Acids Research, Volume 46, Issue D1, 4 January 2018, Pages D726–D735, https://doi.org/10.1093/nar/gkx967"
   ]
  },
  {
   "cell_type": "code",
   "execution_count": null,
   "metadata": {},
   "outputs": [],
   "source": []
  }
 ],
 "metadata": {
  "kernelspec": {
   "display_name": "Python 3",
   "language": "python",
   "name": "python3"
  },
  "language_info": {
   "codemirror_mode": {
    "name": "ipython",
    "version": 3
   },
   "file_extension": ".py",
   "mimetype": "text/x-python",
   "name": "python",
   "nbconvert_exporter": "python",
   "pygments_lexer": "ipython3",
   "version": "3.6.0"
  }
 },
 "nbformat": 4,
 "nbformat_minor": 2
}
