{
 "cells": [
  {
   "cell_type": "code",
   "execution_count": null,
   "metadata": {},
   "outputs": [],
   "source": [
    "from pandas import DataFrame\n",
    "import pandas as pd\n",
    "\n",
    "try:\n",
    "    from urllib import urlencode\n",
    "except ImportError:\n",
    "    from urllib.parse import urlencode"
   ]
  },
  {
   "cell_type": "code",
   "execution_count": null,
   "metadata": {},
   "outputs": [],
   "source": [
    "from jsonapi_client import Session, Filter\n",
    "\n",
    "API_BASE = 'https://www.ebi.ac.uk/metagenomics/api/latest/'"
   ]
  },
  {
   "cell_type": "code",
   "execution_count": null,
   "metadata": {},
   "outputs": [],
   "source": [
    "import pycurl\n",
    "import os, sys"
   ]
  },
  {
   "cell_type": "code",
   "execution_count": null,
   "metadata": {},
   "outputs": [],
   "source": [
    "study1 = 'SRP002480'"
   ]
  },
  {
   "cell_type": "markdown",
   "metadata": {},
   "source": [
    "### List samples with biomes for the given study\n",
    "\n",
    "Get study: https://www.ebi.ac.uk/metagenomics/api/latest/studies/SRP002480\n",
    "\n",
    "List samples: https://www.ebi.ac.uk/metagenomics/api/latest/studies/SRP002480/samples\n",
    "\n",
    "\n",
    "Fetch samples for the given study accession: https://www.ebi.ac.uk/metagenomics/api/latest/samples?study_accession=SRP002480\n"
   ]
  },
  {
   "cell_type": "code",
   "execution_count": null,
   "metadata": {},
   "outputs": [],
   "source": [
    "df = DataFrame(columns=('sample name', 'lineage', 'sex', 'sample metadata', 'description'))\n",
    "df.index.name = 'accession'\n",
    "\n",
    "with Session(API_BASE) as s:\n",
    "    params = {\n",
    "        'study_accession': study1,\n",
    "        'page_size': 100,\n",
    "    }\n",
    "    f = Filter(urlencode(params))\n",
    "    for sample in s.iterate('samples', f):\n",
    "        df.loc[sample.accession] = [\n",
    "            sample.sample_name,\n",
    "            sample.biome.id,\n",
    "            sample.sample_metadata[0][\"value\"],\n",
    "            sample.sample_metadata[1][\"value\"],\n",
    "            sample.sample_desc\n",
    "        ]\n",
    "df"
   ]
  }
 ],
 "metadata": {
  "kernelspec": {
   "display_name": "Python 3",
   "language": "python",
   "name": "python3"
  },
  "language_info": {
   "codemirror_mode": {
    "name": "ipython",
    "version": 3
   },
   "file_extension": ".py",
   "mimetype": "text/x-python",
   "name": "python",
   "nbconvert_exporter": "python",
   "pygments_lexer": "ipython3",
   "version": "3.6.0"
  }
 },
 "nbformat": 4,
 "nbformat_minor": 2
}
