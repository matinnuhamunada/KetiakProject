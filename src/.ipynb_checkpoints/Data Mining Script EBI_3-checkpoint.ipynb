{
 "cells": [
  {
   "cell_type": "markdown",
   "metadata": {},
   "source": [
    "# Data Mining of Human Skin Microbiome from EBI-Metagenomics Portal\n",
    "\n",
    "_Matin Nuhamunada_<sup>1*</sup>, _Gregorius Altius Pratama_<sup>1</sup>, _Setianing Wikanthi_<sup>2</sup>, and _Mohamad Khoirul Anam_<sup>1</sup>\n",
    "\n",
    "<sup>1</sup>Department of Tropical Biology, Universitas Gadjah Mada;   \n",
    "Jl. Teknika Selatan, Sekip Utara, Bulaksumur, Yogyakarta, Indonesia, 55281;   \n",
    "\n",
    "<sup>2</sup>Department of Agricultural Microbiology, Universitas Gadjah Mada;  \n",
    "\n",
    "*Correspondence: [matin_nuhamunada@ugm.ac.id](mailto:matin_nuhamunada@mail.ugm.ac.id)  \n",
    "[mohamad.khoirul.anam@mail.ugm.ac.id](mailto:mohamad.khoirul.anam@mail.ugm.ac.id)  \n",
    "[gregorius.altius.p@mail.ugm.ac.id](mailto:gregorius.altius.p@mail.ugm.ac.id)  \n",
    "[setianingwikanthi@mail.ugm.ac.id](mailto:setianingwikanthi@mail.ugm.ac.id)\n",
    "\n",
    "---\n",
    "## Abstract\n",
    "Human skin microbiome is unique to individuals in regards to many aspects, including behaviour, environment, and perhaps maybe genes. To understand more about the distribution of human skin microbiome across the globe, we compare several skin microbiome study available in the EBI-Metagenomic Portal. Study data was acquired using EBI-Metagenome API, and sample data was selected based on sex, location, and bodysite. The biological observation matrix from the analysis result of the selected samples were compared using MEGAN. \n",
    "\n",
    "### Keywords\n",
    "Human Skin, Microbiome, EBI-Metagenome\n"
   ]
  },
  {
   "cell_type": "markdown",
   "metadata": {},
   "source": [
    "## Import Python Modules\n",
    "We use python 3 script using ``pandas``, ``jsonapi_client``, ``pycurl``, to mine the data from EBI-metagenomic portal  [[1]](#ref1)."
   ]
  },
  {
   "cell_type": "code",
   "execution_count": 1,
   "metadata": {},
   "outputs": [],
   "source": [
    "from pandas import DataFrame\n",
    "import pandas as pd\n",
    "\n",
    "try:\n",
    "    from urllib import urlencode\n",
    "except ImportError:\n",
    "    from urllib.parse import urlencode"
   ]
  },
  {
   "cell_type": "code",
   "execution_count": 2,
   "metadata": {},
   "outputs": [],
   "source": [
    "from jsonapi_client import Session, Filter\n",
    "\n",
    "API_BASE = 'https://www.ebi.ac.uk/metagenomics/api/latest/'"
   ]
  },
  {
   "cell_type": "code",
   "execution_count": 3,
   "metadata": {},
   "outputs": [],
   "source": [
    "import pycurl\n",
    "import os, sys\n",
    "from tqdm import tqdm_notebook\n",
    "import numpy as np\n",
    "from time import sleep"
   ]
  },
  {
   "cell_type": "markdown",
   "metadata": {},
   "source": [
    "## Load Functions"
   ]
  },
  {
   "cell_type": "code",
   "execution_count": null,
   "metadata": {},
   "outputs": [],
   "source": [
    "def get_metadata(metadata, key):\n",
    "    import html\n",
    "    for m in metadata:\n",
    "        if m['key'].lower() == key.lower():\n",
    "            value = m['value']\n",
    "            unit = html.unescape(m['unit']) if m['unit'] else \"\"\n",
    "            return \"{value} {unit}\".format(value=value, unit=unit)\n",
    "    return None\n",
    "\n",
    "def get_study(term, lineage, biome, filename):\n",
    "    if not os.path.isfile(filename):\n",
    "        with open(filename, 'wb') as f:\n",
    "            c = pycurl.Curl()\n",
    "            c.setopt(c.URL, 'https://www.ebi.ac.uk/metagenomics/projects/doExportDetails?searchTerm='+term+'&includingChildren=true&biomeLineage=root%3A'+lineage+'%3A'+biome+'&search=Search')\n",
    "            c.setopt(c.WRITEDATA, f)\n",
    "            c.perform()\n",
    "            c.close()\n",
    "    return filename\n",
    "\n",
    "def get_analysis_result(run, extension):\n",
    "    API_BASE_RUN = 'https://www.ebi.ac.uk/metagenomics/api/latest/runs'\n",
    "    with Session(API_BASE_RUN) as s:\n",
    "        study = s.get(run,'analysis').resource\n",
    "        for i in study.downloads:\n",
    "            if extension in i.file_format['name']:\n",
    "                i.url\n",
    "    return i.url"
   ]
  },
  {
   "cell_type": "markdown",
   "metadata": {},
   "source": [
    "## Get Study\n",
    "We search the EBI Metagenomic database on human skin microbiome study in the host-associated biome with 'skin' as search term. The study list can be found on this link: https://www.ebi.ac.uk/metagenomics/projects/doExportDetails?searchTerm=skin&includingChildren=true&biomeLineage=root%3AHost-associated%3AHuman&search=Search"
   ]
  },
  {
   "cell_type": "code",
   "execution_count": null,
   "metadata": {},
   "outputs": [],
   "source": [
    "#Search Study\n",
    "term = 'skin'\n",
    "lineage = 'Host-associated'\n",
    "biome = 'Human'\n",
    "file_study = '01_Study_'+term+'+'+biome+'+'+lineage+'_raw.csv'"
   ]
  },
  {
   "cell_type": "code",
   "execution_count": null,
   "metadata": {},
   "outputs": [],
   "source": [
    "#Download study information\n",
    "get_study(term, biome, lineage, file_study)"
   ]
  },
  {
   "cell_type": "code",
   "execution_count": null,
   "metadata": {},
   "outputs": [],
   "source": [
    "#Load Study information\n",
    "df1 = pd.read_csv(file_study)\n",
    "#df1"
   ]
  },
  {
   "cell_type": "code",
   "execution_count": null,
   "metadata": {},
   "outputs": [],
   "source": [
    "#Select relevant information\n",
    "df_study = df1[[\"Study ID\",\"Study Name\",\"Number Of Samples\", \"Submitted Date\", \"Experimental Factor\", \"Study Abstract\"]]\n",
    "#df_study"
   ]
  },
  {
   "cell_type": "code",
   "execution_count": null,
   "metadata": {},
   "outputs": [],
   "source": [
    "#Add information on biome\n",
    "df2 = DataFrame(columns=(\"Biome\",\"Lineage\",\"Publication\"))\n",
    "#df2.index.name = 'No'\n",
    "\n",
    "for i in tqdm_notebook(range(len(df_study))):\n",
    "    with Session(API_BASE) as s:\n",
    "        study = s.get('studies', df_study.loc[i, \"Study ID\"]).resource\n",
    "        for biome in study.biomes:\n",
    "            df2.loc[i] = [biome.biome_name,\n",
    "                          biome.lineage,\n",
    "                          study.publications\n",
    "        ]\n",
    "#df2"
   ]
  },
  {
   "cell_type": "code",
   "execution_count": null,
   "metadata": {},
   "outputs": [],
   "source": [
    "#Merge & Filter Table\n",
    "df3 = pd.concat([df_study, df2], axis=1)\n",
    "df3.set_index([\"Study ID\"])\n",
    "df_study_biome = df3.query('Biome == [\"Human\", \"Skin\"] and Lineage == [\"root:Host-associated:Human:Skin\"]')\n",
    "df_study_biome"
   ]
  },
  {
   "cell_type": "code",
   "execution_count": null,
   "metadata": {},
   "outputs": [],
   "source": [
    "#Export study data\n",
    "df_study_biome.to_csv('02_Study_Skin+Host-Associated+Human_filtered.csv')"
   ]
  },
  {
   "cell_type": "markdown",
   "metadata": {},
   "source": [
    "## Choose relevant study\n",
    "From the data above, we can filter which study can be used as the data for comparative microbiome analysis of human skin samples. Therefore we choose the study ID 'SRP002480' as our data"
   ]
  },
  {
   "cell_type": "code",
   "execution_count": 4,
   "metadata": {},
   "outputs": [],
   "source": [
    "#Selected study\n",
    "study = 'SRP002480'"
   ]
  },
  {
   "cell_type": "markdown",
   "metadata": {},
   "source": [
    "### Get list of sample for a given study and its metadata\n",
    "\n",
    "Get study: https://www.ebi.ac.uk/metagenomics/api/latest/studies/SRP002480\n",
    "List samples: https://www.ebi.ac.uk/metagenomics/api/latest/studies/SRP002480/samples\n",
    "Fetch samples for the given study accession: https://www.ebi.ac.uk/metagenomics/api/latest/samples?study_accession=SRP002480\n"
   ]
  },
  {
   "cell_type": "code",
   "execution_count": null,
   "metadata": {},
   "outputs": [],
   "source": [
    "#Fetch a list of sample data from a given study\n",
    "filename_sample = '03_sample_'+study+'_raw.csv'\n",
    "print(filename_sample)\n",
    "if not os.path.isfile(filename_sample):\n",
    "    with open(filename_sample, 'wb') as f:\n",
    "        c = pycurl.Curl()\n",
    "        c.setopt(c.URL, 'https://www.ebi.ac.uk/metagenomics/projects/'+study+'/overview/doExport')\n",
    "        c.setopt(c.WRITEDATA, f)\n",
    "        c.perform()\n",
    "        c.close()"
   ]
  },
  {
   "cell_type": "code",
   "execution_count": null,
   "metadata": {},
   "outputs": [],
   "source": [
    "#Filter relevant information from the list\n",
    "df_sample = pd.read_csv(filename_sample)\n",
    "df_sample_refine = df_sample[[\"Sample ID\",\"Run ID\",\"Release version\"]]"
   ]
  },
  {
   "cell_type": "code",
   "execution_count": null,
   "metadata": {},
   "outputs": [],
   "source": [
    "#Create Container\n",
    "if not os.path.isfile('04_raw_meta_'+study+'.csv'):\n",
    "    df_meta = DataFrame(columns=('Sex',\"Body site\"))\n",
    "    df_meta.index.name = 'No'\n",
    "else:\n",
    "    df_meta = pd.read_csv('04_raw_meta_'+study+'.csv', index_col=0)\n",
    "\n",
    "#Fetch metadata for given sample\n",
    "pbar = tqdm_notebook(range(len(df_sample_refine))) #to make progressbar\n",
    "for i in pbar:\n",
    "    if not i in df_meta.index:\n",
    "        with Session(API_BASE) as s:\n",
    "            s_meta = s.get('samples', df_sample_refine.loc[i, \"Sample ID\"]).resource\n",
    "            df_meta.loc[i] = [\n",
    "                get_metadata(s_meta.sample_metadata, 'sex'),\n",
    "                get_metadata(s_meta.sample_metadata, 'body site')\n",
    "            ]\n",
    "        pbar.set_description('processed: %d' % (i))\n",
    "        pbar.update(1)\n",
    "        sleep(1)"
   ]
  },
  {
   "cell_type": "code",
   "execution_count": null,
   "metadata": {},
   "outputs": [],
   "source": [
    "#Write to container\n",
    "df_meta.to_csv('04_raw_meta_'+study+'.csv')\n",
    "#df_meta"
   ]
  },
  {
   "cell_type": "code",
   "execution_count": null,
   "metadata": {},
   "outputs": [],
   "source": [
    "#s_meta.sample_metadata"
   ]
  },
  {
   "cell_type": "code",
   "execution_count": null,
   "metadata": {},
   "outputs": [],
   "source": [
    "#Merge metadata with the raw sample list\n",
    "result = pd.concat([df_sample_refine, df_meta], axis=1)\n",
    "result.to_csv('05_sample_'+study+'_meta.csv')"
   ]
  },
  {
   "cell_type": "markdown",
   "metadata": {},
   "source": [
    "### Query samples based on its metadata"
   ]
  },
  {
   "cell_type": "code",
   "execution_count": 6,
   "metadata": {},
   "outputs": [],
   "source": [
    "#Load sample list\n",
    "df_result_raw = pd.read_csv('05_sample_'+study+'_meta.csv', index_col = 0)\n",
    "#df_result_raw"
   ]
  },
  {
   "cell_type": "code",
   "execution_count": 7,
   "metadata": {},
   "outputs": [
    {
     "data": {
      "text/html": [
       "<div>\n",
       "<style>\n",
       "    .dataframe thead tr:only-child th {\n",
       "        text-align: right;\n",
       "    }\n",
       "\n",
       "    .dataframe thead th {\n",
       "        text-align: left;\n",
       "    }\n",
       "\n",
       "    .dataframe tbody tr th {\n",
       "        vertical-align: top;\n",
       "    }\n",
       "</style>\n",
       "<table border=\"1\" class=\"dataframe\">\n",
       "  <thead>\n",
       "    <tr style=\"text-align: right;\">\n",
       "      <th></th>\n",
       "      <th>Sample_ID</th>\n",
       "      <th>Run_ID</th>\n",
       "      <th>Release_version</th>\n",
       "      <th>Sex</th>\n",
       "      <th>Body_site</th>\n",
       "    </tr>\n",
       "  </thead>\n",
       "  <tbody>\n",
       "    <tr>\n",
       "      <th>2</th>\n",
       "      <td>SRS451418</td>\n",
       "      <td>SRR919528</td>\n",
       "      <td>2.0</td>\n",
       "      <td>male</td>\n",
       "      <td>back</td>\n",
       "    </tr>\n",
       "    <tr>\n",
       "      <th>3</th>\n",
       "      <td>SRS451418</td>\n",
       "      <td>SRR919588</td>\n",
       "      <td>2.0</td>\n",
       "      <td>male</td>\n",
       "      <td>back</td>\n",
       "    </tr>\n",
       "    <tr>\n",
       "      <th>20</th>\n",
       "      <td>SRS451427</td>\n",
       "      <td>SRR919536</td>\n",
       "      <td>2.0</td>\n",
       "      <td>male</td>\n",
       "      <td>back</td>\n",
       "    </tr>\n",
       "    <tr>\n",
       "      <th>21</th>\n",
       "      <td>SRS451427</td>\n",
       "      <td>SRR919596</td>\n",
       "      <td>2.0</td>\n",
       "      <td>male</td>\n",
       "      <td>back</td>\n",
       "    </tr>\n",
       "    <tr>\n",
       "      <th>42</th>\n",
       "      <td>SRS451438</td>\n",
       "      <td>SRR919548</td>\n",
       "      <td>2.0</td>\n",
       "      <td>male</td>\n",
       "      <td>back</td>\n",
       "    </tr>\n",
       "    <tr>\n",
       "      <th>43</th>\n",
       "      <td>SRS451438</td>\n",
       "      <td>SRR919608</td>\n",
       "      <td>2.0</td>\n",
       "      <td>male</td>\n",
       "      <td>back</td>\n",
       "    </tr>\n",
       "    <tr>\n",
       "      <th>190</th>\n",
       "      <td>SRS451613</td>\n",
       "      <td>SRR919884</td>\n",
       "      <td>2.0</td>\n",
       "      <td>male</td>\n",
       "      <td>back</td>\n",
       "    </tr>\n",
       "    <tr>\n",
       "      <th>191</th>\n",
       "      <td>SRS451613</td>\n",
       "      <td>SRR919934</td>\n",
       "      <td>2.0</td>\n",
       "      <td>male</td>\n",
       "      <td>back</td>\n",
       "    </tr>\n",
       "    <tr>\n",
       "      <th>226</th>\n",
       "      <td>SRS451712</td>\n",
       "      <td>SRR920114</td>\n",
       "      <td>2.0</td>\n",
       "      <td>male</td>\n",
       "      <td>back</td>\n",
       "    </tr>\n",
       "    <tr>\n",
       "      <th>227</th>\n",
       "      <td>SRS451712</td>\n",
       "      <td>SRR920161</td>\n",
       "      <td>2.0</td>\n",
       "      <td>male</td>\n",
       "      <td>back</td>\n",
       "    </tr>\n",
       "    <tr>\n",
       "      <th>400</th>\n",
       "      <td>SRS451876</td>\n",
       "      <td>SRR920587</td>\n",
       "      <td>2.0</td>\n",
       "      <td>male</td>\n",
       "      <td>back</td>\n",
       "    </tr>\n",
       "    <tr>\n",
       "      <th>401</th>\n",
       "      <td>SRS451876</td>\n",
       "      <td>SRR920674</td>\n",
       "      <td>2.0</td>\n",
       "      <td>male</td>\n",
       "      <td>back</td>\n",
       "    </tr>\n",
       "    <tr>\n",
       "      <th>496</th>\n",
       "      <td>SRS451924</td>\n",
       "      <td>SRR920635</td>\n",
       "      <td>2.0</td>\n",
       "      <td>male</td>\n",
       "      <td>back</td>\n",
       "    </tr>\n",
       "    <tr>\n",
       "      <th>497</th>\n",
       "      <td>SRS451924</td>\n",
       "      <td>SRR920722</td>\n",
       "      <td>2.0</td>\n",
       "      <td>male</td>\n",
       "      <td>back</td>\n",
       "    </tr>\n",
       "    <tr>\n",
       "      <th>544</th>\n",
       "      <td>SRS451948</td>\n",
       "      <td>SRR920659</td>\n",
       "      <td>2.0</td>\n",
       "      <td>male</td>\n",
       "      <td>back</td>\n",
       "    </tr>\n",
       "    <tr>\n",
       "      <th>545</th>\n",
       "      <td>SRS451948</td>\n",
       "      <td>SRR920746</td>\n",
       "      <td>2.0</td>\n",
       "      <td>male</td>\n",
       "      <td>back</td>\n",
       "    </tr>\n",
       "    <tr>\n",
       "      <th>598</th>\n",
       "      <td>SRS452050</td>\n",
       "      <td>SRR920923</td>\n",
       "      <td>2.0</td>\n",
       "      <td>male</td>\n",
       "      <td>back</td>\n",
       "    </tr>\n",
       "    <tr>\n",
       "      <th>599</th>\n",
       "      <td>SRS452050</td>\n",
       "      <td>SRR920986</td>\n",
       "      <td>2.0</td>\n",
       "      <td>male</td>\n",
       "      <td>back</td>\n",
       "    </tr>\n",
       "    <tr>\n",
       "      <th>644</th>\n",
       "      <td>SRS452073</td>\n",
       "      <td>SRR920947</td>\n",
       "      <td>2.0</td>\n",
       "      <td>male</td>\n",
       "      <td>back</td>\n",
       "    </tr>\n",
       "    <tr>\n",
       "      <th>645</th>\n",
       "      <td>SRS452073</td>\n",
       "      <td>SRR921010</td>\n",
       "      <td>2.0</td>\n",
       "      <td>male</td>\n",
       "      <td>back</td>\n",
       "    </tr>\n",
       "    <tr>\n",
       "      <th>758</th>\n",
       "      <td>SRS452130</td>\n",
       "      <td>SRR921066</td>\n",
       "      <td>2.0</td>\n",
       "      <td>male</td>\n",
       "      <td>back</td>\n",
       "    </tr>\n",
       "    <tr>\n",
       "      <th>759</th>\n",
       "      <td>SRS452130</td>\n",
       "      <td>SRR921129</td>\n",
       "      <td>2.0</td>\n",
       "      <td>male</td>\n",
       "      <td>back</td>\n",
       "    </tr>\n",
       "  </tbody>\n",
       "</table>\n",
       "</div>"
      ],
      "text/plain": [
       "     Sample_ID     Run_ID  Release_version    Sex Body_site\n",
       "2    SRS451418  SRR919528              2.0  male      back \n",
       "3    SRS451418  SRR919588              2.0  male      back \n",
       "20   SRS451427  SRR919536              2.0  male      back \n",
       "21   SRS451427  SRR919596              2.0  male      back \n",
       "42   SRS451438  SRR919548              2.0  male      back \n",
       "43   SRS451438  SRR919608              2.0  male      back \n",
       "190  SRS451613  SRR919884              2.0  male      back \n",
       "191  SRS451613  SRR919934              2.0  male      back \n",
       "226  SRS451712  SRR920114              2.0  male      back \n",
       "227  SRS451712  SRR920161              2.0  male      back \n",
       "400  SRS451876  SRR920587              2.0  male      back \n",
       "401  SRS451876  SRR920674              2.0  male      back \n",
       "496  SRS451924  SRR920635              2.0  male      back \n",
       "497  SRS451924  SRR920722              2.0  male      back \n",
       "544  SRS451948  SRR920659              2.0  male      back \n",
       "545  SRS451948  SRR920746              2.0  male      back \n",
       "598  SRS452050  SRR920923              2.0  male      back \n",
       "599  SRS452050  SRR920986              2.0  male      back \n",
       "644  SRS452073  SRR920947              2.0  male      back \n",
       "645  SRS452073  SRR921010              2.0  male      back \n",
       "758  SRS452130  SRR921066              2.0  male      back \n",
       "759  SRS452130  SRR921129              2.0  male      back "
      ]
     },
     "execution_count": 7,
     "metadata": {},
     "output_type": "execute_result"
    }
   ],
   "source": [
    "df_result_raw.columns = df_result_raw.columns.str.replace(' ', '_') #Refine the data to make it easier for filtering \n",
    "\n",
    "#Query for back sample from male population\n",
    "df_result_m_back = df_result_raw.query('Sex == [\"male \"] and Body_site == [\"back \"]')\n",
    "df_result_m_back"
   ]
  },
  {
   "cell_type": "markdown",
   "metadata": {},
   "source": [
    "dataframe = df_result_m_back\n",
    "Sex = 'male '\n",
    "Body_site = 'back '\n",
    "\n",
    "def sort_by_meta(dataframe, Sex, Body_site):\n",
    "    return dataframe.query('Sex == [' + Sex + '] and Body_site == [' + Body_site + ']')\n",
    "\n",
    "sort_by_meta(dataframe, Sex, Body_site)"
   ]
  },
  {
   "cell_type": "code",
   "execution_count": null,
   "metadata": {},
   "outputs": [],
   "source": [
    "run = 'SRR919528'\n",
    "extension = 'JSON Biom'\n",
    "\n",
    "#Ambil data dari EBI\n",
    "for i in tqdm_notebook(df_result_m_back.index):\n",
    "    os.chdir(new_dir) #pindah ke folder output\n",
    "    filename = df_result_m_back.loc[i, \"Sample_ID\"]+\\\n",
    "    '_'+df_result_m_back.loc[i, \"Run_ID\"]+\\\n",
    "    '_'+df_result_m_back.loc[i, \"Sex\"]+\\\n",
    "    df_result_m_back.loc[i, \"Body_site\"]+\\\n",
    "    '.biom'\n",
    "    if not os.path.isfile(filename):\n",
    "        with open(filename, 'wb') as f:\n",
    "            c = pycurl.Curl()\n",
    "            c.setopt(c.URL, get_analysis_result(run, extension))\n",
    "            c.setopt(c.WRITEDATA, f)\n",
    "            c.perform()\n",
    "            c.close()\n",
    "    os.chdir(cwd) #balik ke folder semula"
   ]
  },
  {
   "cell_type": "markdown",
   "metadata": {},
   "source": [
    "## Random sampling"
   ]
  },
  {
   "cell_type": "code",
   "execution_count": 12,
   "metadata": {},
   "outputs": [],
   "source": [
    "def random_sampling(dataframe, amount):\n",
    "    df_random = DataFrame(columns=('Sample_ID','Run_ID','Release_version','Sex','Body_site'))\n",
    "    df_random.index.name = 'No'\n",
    "    a = 0\n",
    "    while a < amount:\n",
    "        i = np.random.choice(dataframe.index.values, 1)\n",
    "        container = df_random.loc[:, 'Sample_ID']\n",
    "        if not container.isin([dataframe.loc[i[0], 'Sample_ID']]).any():\n",
    "            df_random.loc[i[0]] = [dataframe.loc[i[0], 'Sample_ID'], \\\n",
    "                                   dataframe.loc[i[0], 'Run_ID'], \\\n",
    "                                   dataframe.loc[i[0], 'Release_version'], \\\n",
    "                                   dataframe.loc[i[0], 'Sex'], \\\n",
    "                                   dataframe.loc[i[0], 'Body_site']\n",
    "                                  ]\n",
    "            a = a + 1\n",
    "    return df_random"
   ]
  },
  {
   "cell_type": "code",
   "execution_count": 15,
   "metadata": {},
   "outputs": [],
   "source": [
    "dataframe = df_result_m_back\n",
    "amount = 5\n",
    "df_random_sample = random_sampling(dataframe, amount)"
   ]
  },
  {
   "cell_type": "code",
   "execution_count": 16,
   "metadata": {},
   "outputs": [],
   "source": [
    "df_random_sample.to_csv('06_sampled_biom_'+study+'.csv')"
   ]
  },
  {
   "cell_type": "markdown",
   "metadata": {},
   "source": [
    "### Get analysis result of a given sample in a study\n",
    "https://www.ebi.ac.uk/metagenomics//projects/SRP002480/samples/SRS451457/runs/SRR919567/results/versions/2.0/taxonomy/OTU-table-HDF5-BIOM"
   ]
  },
  {
   "cell_type": "code",
   "execution_count": null,
   "metadata": {},
   "outputs": [],
   "source": [
    "#Create ouput folder\n",
    "cwd = os.getcwd() #get current working directory\n",
    "output_folder = \"\\output_\"+study #name of the output folder for a given study, use \\ for directory in windows\n",
    "if not os.path.isdir(cwd + output_folder):\n",
    "    os.mkdir(cwd + output_folder)\n",
    "new_dir = cwd + output_folder \n",
    "new_dir"
   ]
  },
  {
   "cell_type": "code",
   "execution_count": null,
   "metadata": {},
   "outputs": [],
   "source": [
    "run = 'SRR919528'\n",
    "extension = 'JSON Biom'\n",
    "\n",
    "#Ambil data dari EBI\n",
    "for i in tqdm_notebook(df_result_m_back.index):\n",
    "    os.chdir(new_dir) #pindah ke folder output\n",
    "    filename = df_result_m_back.loc[i, \"Sample_ID\"]+\\\n",
    "    '_'+df_result_m_back.loc[i, \"Run_ID\"]+\\\n",
    "    '_'+df_result_m_back.loc[i, \"Sex\"]+\\\n",
    "    df_result_m_back.loc[i, \"Body_site\"]+\\\n",
    "    '.biom'\n",
    "    if not os.path.isfile(filename):\n",
    "        with open(filename, 'wb') as f:\n",
    "            c = pycurl.Curl()\n",
    "            c.setopt(c.URL, get_analysis_result(run, extension))\n",
    "            c.setopt(c.WRITEDATA, f)\n",
    "            c.perform()\n",
    "            c.close()\n",
    "    os.chdir(cwd) #balik ke folder semula"
   ]
  },
  {
   "cell_type": "markdown",
   "metadata": {},
   "source": [
    "### References\n",
    "---\n",
    "<a id='ref1'></a>\n",
    "1. Alex L Mitchell, Maxim Scheremetjew, Hubert Denise, Simon Potter, Aleksandra Tarkowska, Matloob Qureshi, Gustavo A Salazar, Sebastien Pesseat, Miguel A Boland, Fiona M I Hunter, Petra ten Hoopen, Blaise Alako, Clara Amid, Darren J Wilkinson, Thomas P Curtis, Guy Cochrane, Robert D Finn; EBI Metagenomics in 2017: enriching the analysis of microbial communities, from sequence reads to assemblies, Nucleic Acids Research, Volume 46, Issue D1, 4 January 2018, Pages D726–D735, https://doi.org/10.1093/nar/gkx967"
   ]
  }
 ],
 "metadata": {
  "kernelspec": {
   "display_name": "Python 3",
   "language": "python",
   "name": "python3"
  },
  "language_info": {
   "codemirror_mode": {
    "name": "ipython",
    "version": 3
   },
   "file_extension": ".py",
   "mimetype": "text/x-python",
   "name": "python",
   "nbconvert_exporter": "python",
   "pygments_lexer": "ipython3",
   "version": "3.6.0"
  }
 },
 "nbformat": 4,
 "nbformat_minor": 2
}
