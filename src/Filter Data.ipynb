{
 "cells": [
  {
   "cell_type": "code",
   "execution_count": 1,
   "metadata": {},
   "outputs": [],
   "source": [
    "from pandas import DataFrame\n",
    "import pandas as pd\n",
    "\n",
    "try:\n",
    "    from urllib import urlencode\n",
    "except ImportError:\n",
    "    from urllib.parse import urlencode"
   ]
  },
  {
   "cell_type": "code",
   "execution_count": 2,
   "metadata": {},
   "outputs": [],
   "source": [
    "from jsonapi_client import Session, Filter\n",
    "\n",
    "API_BASE = 'https://www.ebi.ac.uk/metagenomics/api/latest/'"
   ]
  },
  {
   "cell_type": "code",
   "execution_count": 3,
   "metadata": {},
   "outputs": [],
   "source": [
    "study1 = 'SRP002480'"
   ]
  },
  {
   "cell_type": "markdown",
   "metadata": {},
   "source": [
    "### List samples with biomes for the given study\n",
    "\n",
    "Get study: https://www.ebi.ac.uk/metagenomics/api/latest/studies/SRP002480\n",
    "\n",
    "List samples: https://www.ebi.ac.uk/metagenomics/api/latest/studies/SRP002480/samples\n",
    "\n",
    "\n",
    "Fetch samples for the given study accession: https://www.ebi.ac.uk/metagenomics/api/latest/samples?study_accession=SRP002480\n"
   ]
  },
  {
   "cell_type": "code",
   "execution_count": 28,
   "metadata": {},
   "outputs": [
    {
     "name": "stdout",
     "output_type": "stream",
     "text": [
      "[{'key': 'sex', 'value': 'male', 'unit': None}, {'key': 'body site', 'value': 'antecubital crease', 'unit': None}, {'key': 'NCBI sample classification', 'value': '646099', 'unit': None}, {'key': 'instrument model', 'value': '454 GS FLX Titanium', 'unit': None}]\n"
     ]
    }
   ],
   "source": [
    "with Session(API_BASE) as s:\n",
    "    study = s.get('samples', 'SRS451417').resource\n",
    "    #print(study.accession)\n",
    "    #print(study.attributes)\n",
    "    #print(study.biome)\n",
    "    #print(study.environment_feature)\n",
    "    print(study.sample_metadata)\n",
    "    #print('Study name:', study.study_name)\n",
    "    #print('Study abstract:', study.study_abstract)\n",
    "    #for biome in study.biomes:\n",
    "    #    print('Biome:', biome.biome_name, biome.lineage)"
   ]
  },
  {
   "cell_type": "code",
   "execution_count": 33,
   "metadata": {},
   "outputs": [
    {
     "name": "stdout",
     "output_type": "stream",
     "text": [
      "male \n"
     ]
    }
   ],
   "source": [
    "def get_metadata(metadata, key):\n",
    "    import html\n",
    "    for m in metadata:\n",
    "        if m['key'].lower() == key.lower():\n",
    "            value = m['value']\n",
    "            unit = html.unescape(m['unit']) if m['unit'] else \"\"\n",
    "            return \"{value} {unit}\".format(value=value, unit=unit)\n",
    "    return None\n",
    "\n",
    "temp_label = 'sex'\n",
    "\n",
    "print(get_metadata(study.sample_metadata, temp_label))\n"
   ]
  },
  {
   "cell_type": "code",
   "execution_count": null,
   "metadata": {},
   "outputs": [],
   "source": []
  }
 ],
 "metadata": {
  "kernelspec": {
   "display_name": "Python 3",
   "language": "python",
   "name": "python3"
  },
  "language_info": {
   "codemirror_mode": {
    "name": "ipython",
    "version": 3
   },
   "file_extension": ".py",
   "mimetype": "text/x-python",
   "name": "python",
   "nbconvert_exporter": "python",
   "pygments_lexer": "ipython3",
   "version": "3.6.0"
  }
 },
 "nbformat": 4,
 "nbformat_minor": 2
}
