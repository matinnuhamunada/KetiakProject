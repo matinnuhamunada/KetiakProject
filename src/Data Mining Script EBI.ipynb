{
 "cells": [
  {
   "cell_type": "markdown",
   "metadata": {},
   "source": [
    "# Data Mining of Human Skin Microbiome from EBI-Metagenomics Portal\n",
    "\n",
    "_Matin Nuhamunada_<sup>1*</sup>, _Gregorius Altius Pratama_<sup>1</sup>, _Setianing Wikanthi_<sup>2</sup>, and _Mohamad Khoirul Anam_<sup>1</sup>\n",
    "\n",
    "<sup>1</sup>Department of Tropical Biology, Universitas Gadjah Mada;   \n",
    "Jl. Teknika Selatan, Sekip Utara, Bulaksumur, Yogyakarta, Indonesia, 55281;   \n",
    "\n",
    "<sup>2</sup>Department of Agricultural Microbiology, Universitas Gadjah Mada;  \n",
    "\n",
    "*Correspondence: [matin_nuhamunada@ugm.ac.id](mailto:matin_nuhamunada@mail.ugm.ac.id)  \n",
    "[mohamad.khoirul.anam@mail.ugm.ac.id](mailto:mohamad.khoirul.anam@mail.ugm.ac.id)  \n",
    "[gregorius.altius.p@mail.ugm.ac.id](mailto:gregorius.altius.p@mail.ugm.ac.id)  \n",
    "[setianingwikanthi@mail.ugm.ac.id](mailto:setianingwikanthi@mail.ugm.ac.id)\n",
    "\n",
    "---\n",
    "## Abstract\n",
    "Human skin microbiome is unique to individuals in regards to many aspects, including behaviour, environment, and perhaps maybe genes. To understand more about the distribution of human skin microbiome across the globe, we compare several skin microbiome study available in the EBI-Metagenomic Portal. Study data was acquired using EBI-Metagenome API, and sample data was selected based on sex, location, and bodysite. The biological observation matrix from the analysis result of the selected samples were compared using MEGAN. \n",
    "\n",
    "### Keywords\n",
    "Human Skin, Microbiome, EBI-Metagenome\n"
   ]
  },
  {
   "cell_type": "markdown",
   "metadata": {},
   "source": [
    "## Import Python Modules\n",
    "We use python 3 script using ``pandas``, ``jsonapi_client``, ``pycurl``, to mine the data from EBI-metagenomic portal  [[1]](#ref1)."
   ]
  },
  {
   "cell_type": "code",
<<<<<<< HEAD
   "execution_count": 136,
=======
<<<<<<< HEAD
   "execution_count": 2,
=======
   "execution_count": 1,
>>>>>>> a31cd396f0ffb961202d10f450ab912417ac233d
>>>>>>> 0d4ccf8d2e810056d8f602443abb8101dc2b2a17
   "metadata": {},
   "outputs": [],
   "source": [
    "from pandas import DataFrame\n",
    "import pandas as pd\n",
    "\n",
    "try:\n",
    "    from urllib import urlencode\n",
    "except ImportError:\n",
    "    from urllib.parse import urlencode"
   ]
  },
  {
   "cell_type": "code",
<<<<<<< HEAD
   "execution_count": 137,
=======
<<<<<<< HEAD
   "execution_count": 3,
=======
   "execution_count": 2,
>>>>>>> a31cd396f0ffb961202d10f450ab912417ac233d
>>>>>>> 0d4ccf8d2e810056d8f602443abb8101dc2b2a17
   "metadata": {},
   "outputs": [],
   "source": [
    "from jsonapi_client import Session, Filter\n",
    "\n",
    "API_BASE = 'https://www.ebi.ac.uk/metagenomics/api/latest/'"
   ]
  },
  {
   "cell_type": "code",
<<<<<<< HEAD
   "execution_count": 138,
=======
<<<<<<< HEAD
   "execution_count": 4,
=======
   "execution_count": 3,
>>>>>>> a31cd396f0ffb961202d10f450ab912417ac233d
>>>>>>> 0d4ccf8d2e810056d8f602443abb8101dc2b2a17
   "metadata": {},
   "outputs": [],
   "source": [
    "import ipywidgets\n",
    "import pycurl\n",
    "import os, sys\n",
    "from tqdm import tqdm_notebook\n",
    "import numpy as np\n",
    "from time import sleep\n",
    "import glob"
   ]
  },
  {
   "cell_type": "markdown",
   "metadata": {},
   "source": [
    "## Load Functions"
   ]
  },
  {
   "cell_type": "code",
   "execution_count": 4,
   "metadata": {},
   "outputs": [],
   "source": [
    "def get_metadata(metadata, key):\n",
    "    import html\n",
    "    for m in metadata:\n",
    "        if m['key'].lower() == key.lower():\n",
    "            value = m['value']\n",
    "            unit = html.unescape(m['unit']) if m['unit'] else \"\"\n",
    "            return \"{value} {unit}\".format(value=value, unit=unit)\n",
    "    return None\n",
    "\n",
    "def get_study(term, lineage, biome, filename):\n",
    "    if not os.path.isfile(filename):\n",
    "        with open(filename, 'wb') as f:\n",
    "            c = pycurl.Curl()\n",
    "            c.setopt(c.URL, 'https://www.ebi.ac.uk/metagenomics/projects/doExportDetails?searchTerm='+term+'&includingChildren=true&biomeLineage=root%3A'+lineage+'%3A'+biome+'&search=Search')\n",
    "            c.setopt(c.WRITEDATA, f)\n",
    "            c.perform()\n",
    "            c.close()\n",
    "    return filename\n",
    "\n",
    "def get_analysis_result(run, extension):\n",
    "    API_BASE_RUN = 'https://www.ebi.ac.uk/metagenomics/api/latest/runs'\n",
    "    with Session(API_BASE_RUN) as s:\n",
    "        study = s.get(run,'analysis').resource\n",
    "        for i in study.downloads:\n",
    "            if extension in i.file_format['name']:\n",
    "                link = i.url\n",
    "    return link"
   ]
  },
  {
   "cell_type": "markdown",
   "metadata": {},
   "source": [
    "## Get Study\n",
    "We search the EBI Metagenomic database on human skin microbiome study in the host-associated biome with 'skin' as search term. The study list can be found on this link: https://www.ebi.ac.uk/metagenomics/projects/doExportDetails?searchTerm=skin&includingChildren=true&biomeLineage=root%3AHost-associated%3AHuman&search=Search"
   ]
  },
  {
   "cell_type": "code",
   "execution_count": 5,
<<<<<<< HEAD
=======
   "metadata": {},
   "outputs": [],
   "source": [
    "#Search Study\n",
    "term = 'skin'\n",
    "lineage = 'Host-associated'\n",
    "biome = 'Human'\n",
    "file_study = '01_Study_'+term+'+'+biome+'+'+lineage+'_raw.csv'"
   ]
  },
  {
   "cell_type": "code",
   "execution_count": 6,
>>>>>>> a31cd396f0ffb961202d10f450ab912417ac233d
   "metadata": {},
   "outputs": [
    {
     "data": {
      "text/plain": [
       "'01_Study_skin+Human+Host-associated_raw.csv'"
      ]
     },
     "execution_count": 6,
     "metadata": {},
     "output_type": "execute_result"
    }
   ],
   "source": [
    "#Download study information\n",
    "get_study(term, biome, lineage, file_study)"
   ]
  },
  {
   "cell_type": "code",
   "execution_count": 6,
   "metadata": {},
<<<<<<< HEAD
   "outputs": [
    {
     "name": "stdout",
     "output_type": "stream",
     "text": [
      "     Study ID                                         Study Name  \\\n",
      "0   ERP104068  EMG produced TPA metagenomics assembly of the ...   \n",
      "1   SRP002480  Gene-Environment Interactions at the Skin Surface   \n",
      "2   ERP018577  Human skin bacterial and fungal microbiotas an...   \n",
      "3   ERP022958  Impact of the Mk VI SkinSuit on skin microbiot...   \n",
      "4   ERP019566  Longitudinal study of the diabetic skin and wo...   \n",
      "5   ERP016629  Microbiome samples derived from Buruli ulcer w...   \n",
      "6   ERP021525  Micromes on salmon skin and surrounding sea water   \n",
      "7   SRP056364  Skin microbiome in human volunteers inoculated...   \n",
      "8   ERP104518                  skin microbiota in infected frogs   \n",
      "9   ERP104520                 Skin microbiota of Scinax alcatraz   \n",
      "10  ERP104516  Variations on the diversity of amphibian skin ...   \n",
      "\n",
      "    Number Of Samples Submitted Date  Analysis NCBI Project ID  \\\n",
      "0                  45     2017-11-15  Finished      PRJEB22388   \n",
      "1                2560     2016-02-03  Finished      PRJNA46333   \n",
      "2                  96     2016-11-03  Finished      PRJEB16723   \n",
      "3                 204     2017-06-16  Finished      PRJEB20777   \n",
      "4                 258     2017-11-27  Finished      PRJEB17696   \n",
      "5                  14     2016-07-29  Finished      PRJEB14948   \n",
      "6                   5     2017-02-28  Finished      PRJEB19482   \n",
      "7                 191     2016-02-04  Finished     PRJNA278873   \n",
      "8                  21     2017-10-02  Finished      PRJEB22812   \n",
      "9                  13     2017-10-02  Finished      PRJEB22814   \n",
      "10                 32     2017-09-30  Finished      PRJEB22810   \n",
      "\n",
      "   Public Release Date                     Centre Name Experimental Factor  \\\n",
      "0                  NaN                             EMG                null   \n",
      "1                  NaN                           NIAMS                null   \n",
      "2           2016-12-23     Universidade Federal do ABC                null   \n",
      "3                  NaN                           LSHTM                null   \n",
      "4                  NaN            The ithree institute                null   \n",
      "5           2016-10-30  Institute of tropical medicine                null   \n",
      "6                  NaN                          NOFIMA                null   \n",
      "7                  NaN                      BioProject           Infection   \n",
      "8                  NaN       UNIVERSIDADE DE SAO PAULO                null   \n",
      "9                  NaN         University of Sao Paulo                null   \n",
      "10                 NaN         UNIVERSITY OF SAO PAULO                null   \n",
      "\n",
      "   Is Public                                     Study Abstract  \n",
      "0       True  The human gut metagenome Third Party Annotatio...  \n",
      "1       True  16S rRNA gene sequences amplified from subject...  \n",
      "2       True  Using high-throughput 16S rDNA and ITS1 sequen...  \n",
      "3       True  Microgravity induces physiological decondition...  \n",
      "4       True  Background: Type II diabetes is a chronic heal...  \n",
      "5       True  Background: Buruli ulcer (BU) is an infectious...  \n",
      "6       True  Pilot study to investigate if sampled Atlantic...  \n",
      "7       True  The aim of this project was to investigate the...  \n",
      "8       True                  skin microbiota in infected frogs  \n",
      "9       True                 Skin microbiota of Scinax alcatraz  \n",
      "10      True  Variations on the diversity of amphibian skin ...  \n"
     ]
    }
   ],
=======
   "outputs": [],
>>>>>>> a31cd396f0ffb961202d10f450ab912417ac233d
   "source": [
    "#Load Study information\n",
    "df1 = pd.read_csv(file_study)\n",
    "#df1"
   ]
  },
  {
   "cell_type": "code",
   "execution_count": 8,
   "metadata": {},
   "outputs": [],
   "source": [
    "#Select relevant information\n",
    "df_study = df1[[\"Study ID\",\"Study Name\",\"Number Of Samples\", \"Submitted Date\", \"Experimental Factor\", \"Study Abstract\"]]\n",
    "#df_study"
   ]
  },
  {
   "cell_type": "code",
   "execution_count": 9,
   "metadata": {},
   "outputs": [
    {
     "data": {
      "application/vnd.jupyter.widget-view+json": {
       "model_id": "cea4de350377497c8c86fee17e8f2e6c",
       "version_major": 2,
       "version_minor": 0
      },
      "text/plain": [
       "HBox(children=(IntProgress(value=0, max=11), HTML(value='')))"
      ]
     },
     "metadata": {},
     "output_type": "display_data"
    },
    {
     "name": "stdout",
     "output_type": "stream",
     "text": [
      "\n"
     ]
    },
    {
     "ename": "NameError",
     "evalue": "name 'study' is not defined",
     "output_type": "error",
     "traceback": [
      "\u001b[1;31m---------------------------------------------------------------------------\u001b[0m",
      "\u001b[1;31mNameError\u001b[0m                                 Traceback (most recent call last)",
      "\u001b[1;32m<ipython-input-9-cfdba2911660>\u001b[0m in \u001b[0;36m<module>\u001b[1;34m()\u001b[0m\n\u001b[0;32m      9\u001b[0m             df2.loc[i] = [a.biome_name,\n\u001b[0;32m     10\u001b[0m                           \u001b[0ma\u001b[0m\u001b[1;33m.\u001b[0m\u001b[0mlineage\u001b[0m\u001b[1;33m,\u001b[0m\u001b[1;33m\u001b[0m\u001b[0m\n\u001b[1;32m---> 11\u001b[1;33m                           \u001b[0mstudy\u001b[0m\u001b[1;33m.\u001b[0m\u001b[0mpublications\u001b[0m\u001b[1;33m\u001b[0m\u001b[0m\n\u001b[0m\u001b[0;32m     12\u001b[0m         ]\n\u001b[0;32m     13\u001b[0m \u001b[1;31m#df2\u001b[0m\u001b[1;33m\u001b[0m\u001b[1;33m\u001b[0m\u001b[0m\n",
      "\u001b[1;31mNameError\u001b[0m: name 'study' is not defined"
     ]
    }
   ],
   "source": [
    "#Add information on biome\n",
    "df2 = DataFrame(columns=(\"Biome\",\"Lineage\",\"Publication\"))\n",
    "#df2.index.name = 'No'\n",
    "\n",
    "for i in tqdm_notebook(range(len(df_study))):\n",
    "    with Session(API_BASE) as s:\n",
    "        std = s.get('studies', df_study.loc[i, \"Study ID\"]).resource\n",
    "        for a in std.biomes:\n",
    "            df2.loc[i] = [a.biome_name,\n",
    "                          a.lineage,\n",
    "                          study.publications\n",
    "        ]\n",
    "#df2"
   ]
  },
  {
   "cell_type": "code",
<<<<<<< HEAD
   "execution_count": 10,
=======
   "execution_count": null,
   "metadata": {},
   "outputs": [],
   "source": [
    "#Merge & Filter Table\n",
    "df3 = pd.concat([df_study, df2], axis=1)\n",
    "df3.set_index([\"Study ID\"])\n",
    "df_study_biome = df3.query('Biome == [\"Human\", \"Skin\"] and Lineage == [\"root:Host-associated:Human:Skin\"]')\n",
    "df_study_biome"
   ]
  },
  {
   "cell_type": "code",
   "execution_count": null,
>>>>>>> a31cd396f0ffb961202d10f450ab912417ac233d
   "metadata": {},
   "outputs": [],
   "source": [
    "#Export study data\n",
    "df_study_biome.to_csv('02_Study_'+term+'+'+biome+'+'+lineage+'_filtered.csv')"
   ]
  },
  {
   "cell_type": "markdown",
   "metadata": {},
   "source": [
    "### Choose relevant study\n",
    "Our search using the keyterm \"skin\" on Human host-associated biome found 7 hits of studies. Of this studies, we tried to select comparable sample of human skin microbiome to get more understanding of human microbiome profile from different studies.\n",
    "\n",
    "From the data above, we can filter which study can be used as the data for comparative microbiome analysis of human skin samples. Therefore we choose the study ID 'SRP002480' as our data"
   ]
  },
  {
   "cell_type": "code",
   "execution_count": 11,
   "metadata": {},
   "outputs": [],
   "source": [
    "#Selected study\n",
    "study = 'SRP002480'"
   ]
  },
  {
   "cell_type": "markdown",
   "metadata": {},
   "source": [
    "### Get list of sample for a given study and its metadata\n",
    "\n",
    "Get study: https://www.ebi.ac.uk/metagenomics/api/latest/studies/SRP002480\n",
    "List samples: https://www.ebi.ac.uk/metagenomics/api/latest/studies/SRP002480/samples\n",
    "Fetch samples for the given study accession: https://www.ebi.ac.uk/metagenomics/api/latest/samples?study_accession=SRP002480\n"
   ]
  },
  {
   "cell_type": "code",
<<<<<<< HEAD
   "execution_count": 11,
=======
   "execution_count": 12,
>>>>>>> a31cd396f0ffb961202d10f450ab912417ac233d
   "metadata": {},
   "outputs": [
    {
     "name": "stdout",
     "output_type": "stream",
     "text": [
      "03_sample_SRP002480_raw.csv\n"
     ]
    }
   ],
   "source": [
    "#Fetch a list of sample data from a given study\n",
    "filename_sample = '03_sample_'+study+'_raw.csv'\n",
    "print(filename_sample)\n",
    "if not os.path.isfile(filename_sample):\n",
    "    with open(filename_sample, 'wb') as f:\n",
    "        c = pycurl.Curl()\n",
    "        c.setopt(c.URL, 'https://www.ebi.ac.uk/metagenomics/projects/'+study+'/overview/doExport')\n",
    "        c.setopt(c.WRITEDATA, f)\n",
    "        c.perform()\n",
    "        c.close()"
   ]
  },
  {
   "cell_type": "code",
<<<<<<< HEAD
   "execution_count": 12,
=======
   "execution_count": 13,
   "metadata": {},
   "outputs": [],
   "source": [
    "#Filter relevant information from the list\n",
    "df_sample = pd.read_csv(filename_sample)\n",
    "df_sample_refine = df_sample[[\"Sample ID\",\"Run ID\",\"Release version\"]]"
   ]
  },
  {
   "cell_type": "code",
   "execution_count": 14,
   "metadata": {},
   "outputs": [
    {
     "data": {
      "application/vnd.jupyter.widget-view+json": {
       "model_id": "6ad87df61de3450fa486177604418f6f",
       "version_major": 2,
       "version_minor": 0
      },
      "text/plain": [
       "HBox(children=(IntProgress(value=0, max=4398), HTML(value='')))"
      ]
     },
     "metadata": {},
     "output_type": "display_data"
    },
    {
     "name": "stdout",
     "output_type": "stream",
     "text": [
      "\n"
     ]
    }
   ],
   "source": [
    "#Create Container\n",
    "if not os.path.isfile('04_raw_meta_'+study+'.csv'):\n",
    "    df_meta = DataFrame(columns=('Sex',\"Body site\"))\n",
    "    df_meta.index.name = 'No'\n",
    "else:\n",
    "    df_meta = pd.read_csv('04_raw_meta_'+study+'.csv', index_col=0)\n",
    "\n",
    "#Fetch metadata for given sample\n",
    "pbar = tqdm_notebook(range(len(df_sample_refine))) #to make progressbar\n",
    "for i in pbar:\n",
    "    if not i in df_meta.index:\n",
    "        with Session(API_BASE) as s:\n",
    "            s_meta = s.get('samples', df_sample_refine.loc[i, \"Sample ID\"]).resource\n",
    "            df_meta.loc[i] = [\n",
    "                get_metadata(s_meta.sample_metadata, 'sex'),\n",
    "                get_metadata(s_meta.sample_metadata, 'body site')\n",
    "            ]\n",
    "        pbar.set_description('processed: %d' % (i))\n",
    "        pbar.update(1)\n",
    "        sleep(1)"
   ]
  },
  {
   "cell_type": "code",
   "execution_count": null,
   "metadata": {},
   "outputs": [],
   "source": [
    "#Write to container\n",
    "df_meta.to_csv('04_raw_meta_'+study+'.csv')\n",
    "#df_meta"
   ]
  },
  {
   "cell_type": "code",
   "execution_count": null,
   "metadata": {},
   "outputs": [],
   "source": [
    "#Merge metadata with the raw sample list\n",
    "result = pd.concat([df_sample_refine, df_meta], axis=1)\n",
    "result.to_csv('05_sample_'+study+'_meta.csv')"
   ]
  },
  {
   "cell_type": "markdown",
   "metadata": {},
   "source": [
    "### Query samples based on its metadata"
   ]
  },
  {
   "cell_type": "code",
   "execution_count": 57,
   "metadata": {},
   "outputs": [
    {
     "ename": "FileNotFoundError",
     "evalue": "File b'05_sample_SRP002480_meta.csv' does not exist",
     "output_type": "error",
     "traceback": [
      "\u001b[1;31m---------------------------------------------------------------------------\u001b[0m",
      "\u001b[1;31mFileNotFoundError\u001b[0m                         Traceback (most recent call last)",
      "\u001b[1;32m<ipython-input-57-1bc12d2fcaa3>\u001b[0m in \u001b[0;36m<module>\u001b[1;34m()\u001b[0m\n\u001b[0;32m      1\u001b[0m \u001b[1;31m#Load sample list\u001b[0m\u001b[1;33m\u001b[0m\u001b[1;33m\u001b[0m\u001b[0m\n\u001b[1;32m----> 2\u001b[1;33m \u001b[0mdf_result_raw\u001b[0m \u001b[1;33m=\u001b[0m \u001b[0mpd\u001b[0m\u001b[1;33m.\u001b[0m\u001b[0mread_csv\u001b[0m\u001b[1;33m(\u001b[0m\u001b[1;34m'05_sample_'\u001b[0m\u001b[1;33m+\u001b[0m\u001b[0mstudy\u001b[0m\u001b[1;33m+\u001b[0m\u001b[1;34m'_meta.csv'\u001b[0m\u001b[1;33m,\u001b[0m \u001b[0mindex_col\u001b[0m \u001b[1;33m=\u001b[0m \u001b[1;36m0\u001b[0m\u001b[1;33m)\u001b[0m\u001b[1;33m\u001b[0m\u001b[0m\n\u001b[0m",
      "\u001b[1;32mC:\\ProgramData\\Anaconda3\\lib\\site-packages\\pandas\\io\\parsers.py\u001b[0m in \u001b[0;36mparser_f\u001b[1;34m(filepath_or_buffer, sep, delimiter, header, names, index_col, usecols, squeeze, prefix, mangle_dupe_cols, dtype, engine, converters, true_values, false_values, skipinitialspace, skiprows, nrows, na_values, keep_default_na, na_filter, verbose, skip_blank_lines, parse_dates, infer_datetime_format, keep_date_col, date_parser, dayfirst, iterator, chunksize, compression, thousands, decimal, lineterminator, quotechar, quoting, escapechar, comment, encoding, dialect, tupleize_cols, error_bad_lines, warn_bad_lines, skipfooter, skip_footer, doublequote, delim_whitespace, as_recarray, compact_ints, use_unsigned, low_memory, buffer_lines, memory_map, float_precision)\u001b[0m\n\u001b[0;32m    707\u001b[0m                     skip_blank_lines=skip_blank_lines)\n\u001b[0;32m    708\u001b[0m \u001b[1;33m\u001b[0m\u001b[0m\n\u001b[1;32m--> 709\u001b[1;33m         \u001b[1;32mreturn\u001b[0m \u001b[0m_read\u001b[0m\u001b[1;33m(\u001b[0m\u001b[0mfilepath_or_buffer\u001b[0m\u001b[1;33m,\u001b[0m \u001b[0mkwds\u001b[0m\u001b[1;33m)\u001b[0m\u001b[1;33m\u001b[0m\u001b[0m\n\u001b[0m\u001b[0;32m    710\u001b[0m \u001b[1;33m\u001b[0m\u001b[0m\n\u001b[0;32m    711\u001b[0m     \u001b[0mparser_f\u001b[0m\u001b[1;33m.\u001b[0m\u001b[0m__name__\u001b[0m \u001b[1;33m=\u001b[0m \u001b[0mname\u001b[0m\u001b[1;33m\u001b[0m\u001b[0m\n",
      "\u001b[1;32mC:\\ProgramData\\Anaconda3\\lib\\site-packages\\pandas\\io\\parsers.py\u001b[0m in \u001b[0;36m_read\u001b[1;34m(filepath_or_buffer, kwds)\u001b[0m\n\u001b[0;32m    447\u001b[0m \u001b[1;33m\u001b[0m\u001b[0m\n\u001b[0;32m    448\u001b[0m     \u001b[1;31m# Create the parser.\u001b[0m\u001b[1;33m\u001b[0m\u001b[1;33m\u001b[0m\u001b[0m\n\u001b[1;32m--> 449\u001b[1;33m     \u001b[0mparser\u001b[0m \u001b[1;33m=\u001b[0m \u001b[0mTextFileReader\u001b[0m\u001b[1;33m(\u001b[0m\u001b[0mfilepath_or_buffer\u001b[0m\u001b[1;33m,\u001b[0m \u001b[1;33m**\u001b[0m\u001b[0mkwds\u001b[0m\u001b[1;33m)\u001b[0m\u001b[1;33m\u001b[0m\u001b[0m\n\u001b[0m\u001b[0;32m    450\u001b[0m \u001b[1;33m\u001b[0m\u001b[0m\n\u001b[0;32m    451\u001b[0m     \u001b[1;32mif\u001b[0m \u001b[0mchunksize\u001b[0m \u001b[1;32mor\u001b[0m \u001b[0miterator\u001b[0m\u001b[1;33m:\u001b[0m\u001b[1;33m\u001b[0m\u001b[0m\n",
      "\u001b[1;32mC:\\ProgramData\\Anaconda3\\lib\\site-packages\\pandas\\io\\parsers.py\u001b[0m in \u001b[0;36m__init__\u001b[1;34m(self, f, engine, **kwds)\u001b[0m\n\u001b[0;32m    816\u001b[0m             \u001b[0mself\u001b[0m\u001b[1;33m.\u001b[0m\u001b[0moptions\u001b[0m\u001b[1;33m[\u001b[0m\u001b[1;34m'has_index_names'\u001b[0m\u001b[1;33m]\u001b[0m \u001b[1;33m=\u001b[0m \u001b[0mkwds\u001b[0m\u001b[1;33m[\u001b[0m\u001b[1;34m'has_index_names'\u001b[0m\u001b[1;33m]\u001b[0m\u001b[1;33m\u001b[0m\u001b[0m\n\u001b[0;32m    817\u001b[0m \u001b[1;33m\u001b[0m\u001b[0m\n\u001b[1;32m--> 818\u001b[1;33m         \u001b[0mself\u001b[0m\u001b[1;33m.\u001b[0m\u001b[0m_make_engine\u001b[0m\u001b[1;33m(\u001b[0m\u001b[0mself\u001b[0m\u001b[1;33m.\u001b[0m\u001b[0mengine\u001b[0m\u001b[1;33m)\u001b[0m\u001b[1;33m\u001b[0m\u001b[0m\n\u001b[0m\u001b[0;32m    819\u001b[0m \u001b[1;33m\u001b[0m\u001b[0m\n\u001b[0;32m    820\u001b[0m     \u001b[1;32mdef\u001b[0m \u001b[0mclose\u001b[0m\u001b[1;33m(\u001b[0m\u001b[0mself\u001b[0m\u001b[1;33m)\u001b[0m\u001b[1;33m:\u001b[0m\u001b[1;33m\u001b[0m\u001b[0m\n",
      "\u001b[1;32mC:\\ProgramData\\Anaconda3\\lib\\site-packages\\pandas\\io\\parsers.py\u001b[0m in \u001b[0;36m_make_engine\u001b[1;34m(self, engine)\u001b[0m\n\u001b[0;32m   1047\u001b[0m     \u001b[1;32mdef\u001b[0m \u001b[0m_make_engine\u001b[0m\u001b[1;33m(\u001b[0m\u001b[0mself\u001b[0m\u001b[1;33m,\u001b[0m \u001b[0mengine\u001b[0m\u001b[1;33m=\u001b[0m\u001b[1;34m'c'\u001b[0m\u001b[1;33m)\u001b[0m\u001b[1;33m:\u001b[0m\u001b[1;33m\u001b[0m\u001b[0m\n\u001b[0;32m   1048\u001b[0m         \u001b[1;32mif\u001b[0m \u001b[0mengine\u001b[0m \u001b[1;33m==\u001b[0m \u001b[1;34m'c'\u001b[0m\u001b[1;33m:\u001b[0m\u001b[1;33m\u001b[0m\u001b[0m\n\u001b[1;32m-> 1049\u001b[1;33m             \u001b[0mself\u001b[0m\u001b[1;33m.\u001b[0m\u001b[0m_engine\u001b[0m \u001b[1;33m=\u001b[0m \u001b[0mCParserWrapper\u001b[0m\u001b[1;33m(\u001b[0m\u001b[0mself\u001b[0m\u001b[1;33m.\u001b[0m\u001b[0mf\u001b[0m\u001b[1;33m,\u001b[0m \u001b[1;33m**\u001b[0m\u001b[0mself\u001b[0m\u001b[1;33m.\u001b[0m\u001b[0moptions\u001b[0m\u001b[1;33m)\u001b[0m\u001b[1;33m\u001b[0m\u001b[0m\n\u001b[0m\u001b[0;32m   1050\u001b[0m         \u001b[1;32melse\u001b[0m\u001b[1;33m:\u001b[0m\u001b[1;33m\u001b[0m\u001b[0m\n\u001b[0;32m   1051\u001b[0m             \u001b[1;32mif\u001b[0m \u001b[0mengine\u001b[0m \u001b[1;33m==\u001b[0m \u001b[1;34m'python'\u001b[0m\u001b[1;33m:\u001b[0m\u001b[1;33m\u001b[0m\u001b[0m\n",
      "\u001b[1;32mC:\\ProgramData\\Anaconda3\\lib\\site-packages\\pandas\\io\\parsers.py\u001b[0m in \u001b[0;36m__init__\u001b[1;34m(self, src, **kwds)\u001b[0m\n\u001b[0;32m   1693\u001b[0m         \u001b[0mkwds\u001b[0m\u001b[1;33m[\u001b[0m\u001b[1;34m'allow_leading_cols'\u001b[0m\u001b[1;33m]\u001b[0m \u001b[1;33m=\u001b[0m \u001b[0mself\u001b[0m\u001b[1;33m.\u001b[0m\u001b[0mindex_col\u001b[0m \u001b[1;32mis\u001b[0m \u001b[1;32mnot\u001b[0m \u001b[1;32mFalse\u001b[0m\u001b[1;33m\u001b[0m\u001b[0m\n\u001b[0;32m   1694\u001b[0m \u001b[1;33m\u001b[0m\u001b[0m\n\u001b[1;32m-> 1695\u001b[1;33m         \u001b[0mself\u001b[0m\u001b[1;33m.\u001b[0m\u001b[0m_reader\u001b[0m \u001b[1;33m=\u001b[0m \u001b[0mparsers\u001b[0m\u001b[1;33m.\u001b[0m\u001b[0mTextReader\u001b[0m\u001b[1;33m(\u001b[0m\u001b[0msrc\u001b[0m\u001b[1;33m,\u001b[0m \u001b[1;33m**\u001b[0m\u001b[0mkwds\u001b[0m\u001b[1;33m)\u001b[0m\u001b[1;33m\u001b[0m\u001b[0m\n\u001b[0m\u001b[0;32m   1696\u001b[0m \u001b[1;33m\u001b[0m\u001b[0m\n\u001b[0;32m   1697\u001b[0m         \u001b[1;31m# XXX\u001b[0m\u001b[1;33m\u001b[0m\u001b[1;33m\u001b[0m\u001b[0m\n",
      "\u001b[1;32mpandas/_libs/parsers.pyx\u001b[0m in \u001b[0;36mpandas._libs.parsers.TextReader.__cinit__\u001b[1;34m()\u001b[0m\n",
      "\u001b[1;32mpandas/_libs/parsers.pyx\u001b[0m in \u001b[0;36mpandas._libs.parsers.TextReader._setup_parser_source\u001b[1;34m()\u001b[0m\n",
      "\u001b[1;31mFileNotFoundError\u001b[0m: File b'05_sample_SRP002480_meta.csv' does not exist"
     ]
    }
   ],
   "source": [
    "#Load sample list\n",
    "df_result_raw = pd.read_csv('05_sample_'+study+'_meta.csv', index_col = 0)"
   ]
  },
  {
   "cell_type": "code",
   "execution_count": 16,
   "metadata": {},
   "outputs": [],
   "source": [
    "#Refine the column name to make it easier for filtering \n",
    "df_result_raw.columns = df_result_raw.columns.str.replace(' ', '_') \n",
    "#df_result_raw"
   ]
  },
  {
   "cell_type": "code",
   "execution_count": 17,
>>>>>>> a31cd396f0ffb961202d10f450ab912417ac233d
   "metadata": {},
   "outputs": [
    {
     "data": {
      "text/html": [
       "<div>\n",
       "<table border=\"1\" class=\"dataframe\">\n",
       "  <thead>\n",
       "    <tr style=\"text-align: right;\">\n",
       "      <th></th>\n",
       "      <th>Sample_ID</th>\n",
       "      <th>Run_ID</th>\n",
       "      <th>Release_version</th>\n",
       "      <th>Sex</th>\n",
       "      <th>Body_site</th>\n",
       "    </tr>\n",
       "  </thead>\n",
       "  <tbody>\n",
       "    <tr>\n",
       "      <th>0</th>\n",
       "      <td>SRS451417</td>\n",
       "      <td>SRR919527</td>\n",
       "      <td>2.0</td>\n",
       "      <td>male</td>\n",
       "      <td>antecubital crease</td>\n",
       "    </tr>\n",
       "    <tr>\n",
       "      <th>1</th>\n",
       "      <td>SRS451417</td>\n",
       "      <td>SRR919587</td>\n",
       "      <td>2.0</td>\n",
       "      <td>male</td>\n",
       "      <td>antecubital crease</td>\n",
       "    </tr>\n",
       "    <tr>\n",
       "      <th>2</th>\n",
       "      <td>SRS451418</td>\n",
       "      <td>SRR919528</td>\n",
       "      <td>2.0</td>\n",
       "      <td>male</td>\n",
       "      <td>back</td>\n",
       "    </tr>\n",
       "    <tr>\n",
       "      <th>3</th>\n",
       "      <td>SRS451418</td>\n",
       "      <td>SRR919588</td>\n",
       "      <td>2.0</td>\n",
       "      <td>male</td>\n",
       "      <td>back</td>\n",
       "    </tr>\n",
       "    <tr>\n",
       "      <th>4</th>\n",
       "      <td>SRS451419</td>\n",
       "      <td>SRR919529</td>\n",
       "      <td>2.0</td>\n",
       "      <td>male</td>\n",
       "      <td>external auditory canal</td>\n",
       "    </tr>\n",
       "    <tr>\n",
       "      <th>5</th>\n",
       "      <td>SRS451419</td>\n",
       "      <td>SRR919589</td>\n",
       "      <td>2.0</td>\n",
       "      <td>male</td>\n",
       "      <td>external auditory canal</td>\n",
       "    </tr>\n",
       "    <tr>\n",
       "      <th>6</th>\n",
       "      <td>SRS451420</td>\n",
       "      <td>SRR919530</td>\n",
       "      <td>2.0</td>\n",
       "      <td>male</td>\n",
       "      <td>hypothenar palm</td>\n",
       "    </tr>\n",
       "    <tr>\n",
       "      <th>7</th>\n",
       "      <td>SRS451420</td>\n",
       "      <td>SRR919590</td>\n",
       "      <td>2.0</td>\n",
       "      <td>male</td>\n",
       "      <td>hypothenar palm</td>\n",
       "    </tr>\n",
       "    <tr>\n",
       "      <th>8</th>\n",
       "      <td>SRS451421</td>\n",
       "      <td>SRR919531</td>\n",
       "      <td>2.0</td>\n",
       "      <td>male</td>\n",
       "      <td>retroauricular crease</td>\n",
       "    </tr>\n",
       "    <tr>\n",
       "      <th>9</th>\n",
       "      <td>SRS451421</td>\n",
       "      <td>SRR919591</td>\n",
       "      <td>2.0</td>\n",
       "      <td>male</td>\n",
       "      <td>retroauricular crease</td>\n",
       "    </tr>\n",
       "    <tr>\n",
       "      <th>10</th>\n",
       "      <td>SRS451422</td>\n",
       "      <td>SRR919532</td>\n",
       "      <td>2.0</td>\n",
       "      <td>male</td>\n",
       "      <td>toeweb</td>\n",
       "    </tr>\n",
       "    <tr>\n",
       "      <th>11</th>\n",
       "      <td>SRS451422</td>\n",
       "      <td>SRR919592</td>\n",
       "      <td>2.0</td>\n",
       "      <td>male</td>\n",
       "      <td>toeweb</td>\n",
       "    </tr>\n",
       "    <tr>\n",
       "      <th>12</th>\n",
       "      <td>SRS451423</td>\n",
       "      <td>SRR919533</td>\n",
       "      <td>2.0</td>\n",
       "      <td>male</td>\n",
       "      <td>retroauricular crease</td>\n",
       "    </tr>\n",
       "    <tr>\n",
       "      <th>13</th>\n",
       "      <td>SRS451423</td>\n",
       "      <td>SRR919593</td>\n",
       "      <td>2.0</td>\n",
       "      <td>male</td>\n",
       "      <td>retroauricular crease</td>\n",
       "    </tr>\n",
       "    <tr>\n",
       "      <th>14</th>\n",
       "      <td>SRS451424</td>\n",
       "      <td>SRR919534</td>\n",
       "      <td>2.0</td>\n",
       "      <td>male</td>\n",
       "      <td>toeweb</td>\n",
       "    </tr>\n",
       "    <tr>\n",
       "      <th>15</th>\n",
       "      <td>SRS451424</td>\n",
       "      <td>SRR919594</td>\n",
       "      <td>2.0</td>\n",
       "      <td>male</td>\n",
       "      <td>toeweb</td>\n",
       "    </tr>\n",
       "    <tr>\n",
       "      <th>16</th>\n",
       "      <td>SRS451425</td>\n",
       "      <td>SRR919535</td>\n",
       "      <td>2.0</td>\n",
       "      <td>male</td>\n",
       "      <td>antecubital crease</td>\n",
       "    </tr>\n",
       "    <tr>\n",
       "      <th>17</th>\n",
       "      <td>SRS451425</td>\n",
       "      <td>SRR919595</td>\n",
       "      <td>2.0</td>\n",
       "      <td>male</td>\n",
       "      <td>antecubital crease</td>\n",
       "    </tr>\n",
       "    <tr>\n",
       "      <th>18</th>\n",
       "      <td>SRS451426</td>\n",
       "      <td>SRR919537</td>\n",
       "      <td>2.0</td>\n",
       "      <td>male</td>\n",
       "      <td>glabella</td>\n",
       "    </tr>\n",
       "    <tr>\n",
       "      <th>19</th>\n",
       "      <td>SRS451426</td>\n",
       "      <td>SRR919597</td>\n",
       "      <td>2.0</td>\n",
       "      <td>male</td>\n",
       "      <td>glabella</td>\n",
       "    </tr>\n",
       "    <tr>\n",
       "      <th>20</th>\n",
       "      <td>SRS451427</td>\n",
       "      <td>SRR919536</td>\n",
       "      <td>2.0</td>\n",
       "      <td>male</td>\n",
       "      <td>back</td>\n",
       "    </tr>\n",
       "    <tr>\n",
       "      <th>21</th>\n",
       "      <td>SRS451427</td>\n",
       "      <td>SRR919596</td>\n",
       "      <td>2.0</td>\n",
       "      <td>male</td>\n",
       "      <td>back</td>\n",
       "    </tr>\n",
       "    <tr>\n",
       "      <th>22</th>\n",
       "      <td>SRS451428</td>\n",
       "      <td>SRR919538</td>\n",
       "      <td>2.0</td>\n",
       "      <td>male</td>\n",
       "      <td>hypothenar palm</td>\n",
       "    </tr>\n",
       "    <tr>\n",
       "      <th>23</th>\n",
       "      <td>SRS451428</td>\n",
       "      <td>SRR919598</td>\n",
       "      <td>2.0</td>\n",
       "      <td>male</td>\n",
       "      <td>hypothenar palm</td>\n",
       "    </tr>\n",
       "    <tr>\n",
       "      <th>24</th>\n",
       "      <td>SRS451429</td>\n",
       "      <td>SRR919539</td>\n",
       "      <td>2.0</td>\n",
       "      <td>male</td>\n",
       "      <td>inguinal crease</td>\n",
       "    </tr>\n",
       "    <tr>\n",
       "      <th>25</th>\n",
       "      <td>SRS451429</td>\n",
       "      <td>SRR919599</td>\n",
       "      <td>2.0</td>\n",
       "      <td>male</td>\n",
       "      <td>inguinal crease</td>\n",
       "    </tr>\n",
       "    <tr>\n",
       "      <th>26</th>\n",
       "      <td>SRS451430</td>\n",
       "      <td>SRR919540</td>\n",
       "      <td>2.0</td>\n",
       "      <td>male</td>\n",
       "      <td>manubrium</td>\n",
       "    </tr>\n",
       "    <tr>\n",
       "      <th>27</th>\n",
       "      <td>SRS451430</td>\n",
       "      <td>SRR919600</td>\n",
       "      <td>2.0</td>\n",
       "      <td>male</td>\n",
       "      <td>manubrium</td>\n",
       "    </tr>\n",
       "    <tr>\n",
       "      <th>28</th>\n",
       "      <td>SRS451431</td>\n",
       "      <td>SRR919541</td>\n",
       "      <td>2.0</td>\n",
       "      <td>male</td>\n",
       "      <td>occiput</td>\n",
       "    </tr>\n",
       "    <tr>\n",
       "      <th>29</th>\n",
       "      <td>SRS451431</td>\n",
       "      <td>SRR919601</td>\n",
       "      <td>2.0</td>\n",
       "      <td>male</td>\n",
       "      <td>occiput</td>\n",
       "    </tr>\n",
       "    <tr>\n",
       "      <th>...</th>\n",
       "      <td>...</td>\n",
       "      <td>...</td>\n",
       "      <td>...</td>\n",
       "      <td>...</td>\n",
       "      <td>...</td>\n",
       "    </tr>\n",
       "    <tr>\n",
       "      <th>3122</th>\n",
       "      <td>SRS483634</td>\n",
       "      <td>SRR997023</td>\n",
       "      <td>2.0</td>\n",
       "      <td>male</td>\n",
       "      <td>popliteal fossa</td>\n",
       "    </tr>\n",
       "    <tr>\n",
       "      <th>3123</th>\n",
       "      <td>SRS483634</td>\n",
       "      <td>SRR997108</td>\n",
       "      <td>2.0</td>\n",
       "      <td>male</td>\n",
       "      <td>popliteal fossa</td>\n",
       "    </tr>\n",
       "    <tr>\n",
       "      <th>3124</th>\n",
       "      <td>SRS483635</td>\n",
       "      <td>SRR997025</td>\n",
       "      <td>2.0</td>\n",
       "      <td>male</td>\n",
       "      <td>antecubital fossa</td>\n",
       "    </tr>\n",
       "    <tr>\n",
       "      <th>3125</th>\n",
       "      <td>SRS483635</td>\n",
       "      <td>SRR997110</td>\n",
       "      <td>2.0</td>\n",
       "      <td>male</td>\n",
       "      <td>antecubital fossa</td>\n",
       "    </tr>\n",
       "    <tr>\n",
       "      <th>3126</th>\n",
       "      <td>SRS483636</td>\n",
       "      <td>SRR997024</td>\n",
       "      <td>2.0</td>\n",
       "      <td>male</td>\n",
       "      <td>nare</td>\n",
       "    </tr>\n",
       "    <tr>\n",
       "      <th>3127</th>\n",
       "      <td>SRS483636</td>\n",
       "      <td>SRR997109</td>\n",
       "      <td>2.0</td>\n",
       "      <td>male</td>\n",
       "      <td>nare</td>\n",
       "    </tr>\n",
       "    <tr>\n",
       "      <th>3128</th>\n",
       "      <td>SRS483637</td>\n",
       "      <td>SRR997026</td>\n",
       "      <td>2.0</td>\n",
       "      <td>male</td>\n",
       "      <td>volar forearm</td>\n",
       "    </tr>\n",
       "    <tr>\n",
       "      <th>3129</th>\n",
       "      <td>SRS483637</td>\n",
       "      <td>SRR997111</td>\n",
       "      <td>2.0</td>\n",
       "      <td>male</td>\n",
       "      <td>volar forearm</td>\n",
       "    </tr>\n",
       "    <tr>\n",
       "      <th>3130</th>\n",
       "      <td>SRS483638</td>\n",
       "      <td>SRR997027</td>\n",
       "      <td>2.0</td>\n",
       "      <td>male</td>\n",
       "      <td>popliteal fossa</td>\n",
       "    </tr>\n",
       "    <tr>\n",
       "      <th>3131</th>\n",
       "      <td>SRS483638</td>\n",
       "      <td>SRR997112</td>\n",
       "      <td>2.0</td>\n",
       "      <td>male</td>\n",
       "      <td>popliteal fossa</td>\n",
       "    </tr>\n",
       "    <tr>\n",
       "      <th>3132</th>\n",
       "      <td>SRS483639</td>\n",
       "      <td>SRR997028</td>\n",
       "      <td>2.0</td>\n",
       "      <td>male</td>\n",
       "      <td>nare</td>\n",
       "    </tr>\n",
       "    <tr>\n",
       "      <th>3133</th>\n",
       "      <td>SRS483639</td>\n",
       "      <td>SRR997113</td>\n",
       "      <td>2.0</td>\n",
       "      <td>male</td>\n",
       "      <td>nare</td>\n",
       "    </tr>\n",
       "    <tr>\n",
       "      <th>3134</th>\n",
       "      <td>SRS483640</td>\n",
       "      <td>SRR997029</td>\n",
       "      <td>2.0</td>\n",
       "      <td>male</td>\n",
       "      <td>antecubital fossa</td>\n",
       "    </tr>\n",
       "    <tr>\n",
       "      <th>3135</th>\n",
       "      <td>SRS483640</td>\n",
       "      <td>SRR997114</td>\n",
       "      <td>2.0</td>\n",
       "      <td>male</td>\n",
       "      <td>antecubital fossa</td>\n",
       "    </tr>\n",
       "    <tr>\n",
       "      <th>3136</th>\n",
       "      <td>SRS483641</td>\n",
       "      <td>SRR997030</td>\n",
       "      <td>2.0</td>\n",
       "      <td>male</td>\n",
       "      <td>volar forearm</td>\n",
       "    </tr>\n",
       "    <tr>\n",
       "      <th>3137</th>\n",
       "      <td>SRS483641</td>\n",
       "      <td>SRR997115</td>\n",
       "      <td>2.0</td>\n",
       "      <td>male</td>\n",
       "      <td>volar forearm</td>\n",
       "    </tr>\n",
       "    <tr>\n",
       "      <th>3138</th>\n",
       "      <td>SRS483642</td>\n",
       "      <td>SRR997031</td>\n",
       "      <td>2.0</td>\n",
       "      <td>male</td>\n",
       "      <td>popliteal fossa</td>\n",
       "    </tr>\n",
       "    <tr>\n",
       "      <th>3139</th>\n",
       "      <td>SRS483642</td>\n",
       "      <td>SRR997116</td>\n",
       "      <td>2.0</td>\n",
       "      <td>male</td>\n",
       "      <td>popliteal fossa</td>\n",
       "    </tr>\n",
       "    <tr>\n",
       "      <th>3140</th>\n",
       "      <td>SRS483643</td>\n",
       "      <td>SRR997033</td>\n",
       "      <td>2.0</td>\n",
       "      <td>male</td>\n",
       "      <td>antecubital fossa</td>\n",
       "    </tr>\n",
       "    <tr>\n",
       "      <th>3141</th>\n",
       "      <td>SRS483643</td>\n",
       "      <td>SRR997118</td>\n",
       "      <td>2.0</td>\n",
       "      <td>male</td>\n",
       "      <td>antecubital fossa</td>\n",
       "    </tr>\n",
       "    <tr>\n",
       "      <th>3142</th>\n",
       "      <td>SRS483644</td>\n",
       "      <td>SRR997032</td>\n",
       "      <td>2.0</td>\n",
       "      <td>male</td>\n",
       "      <td>nare</td>\n",
       "    </tr>\n",
       "    <tr>\n",
       "      <th>3143</th>\n",
       "      <td>SRS483644</td>\n",
       "      <td>SRR997117</td>\n",
       "      <td>2.0</td>\n",
       "      <td>male</td>\n",
       "      <td>nare</td>\n",
       "    </tr>\n",
       "    <tr>\n",
       "      <th>3144</th>\n",
       "      <td>SRS483645</td>\n",
       "      <td>SRR997035</td>\n",
       "      <td>2.0</td>\n",
       "      <td>male</td>\n",
       "      <td>popliteal fossa</td>\n",
       "    </tr>\n",
       "    <tr>\n",
       "      <th>3145</th>\n",
       "      <td>SRS483645</td>\n",
       "      <td>SRR997120</td>\n",
       "      <td>2.0</td>\n",
       "      <td>male</td>\n",
       "      <td>popliteal fossa</td>\n",
       "    </tr>\n",
       "    <tr>\n",
       "      <th>3146</th>\n",
       "      <td>SRS483646</td>\n",
       "      <td>SRR997034</td>\n",
       "      <td>2.0</td>\n",
       "      <td>male</td>\n",
       "      <td>volar forearm</td>\n",
       "    </tr>\n",
       "    <tr>\n",
       "      <th>3147</th>\n",
       "      <td>SRS483646</td>\n",
       "      <td>SRR997119</td>\n",
       "      <td>2.0</td>\n",
       "      <td>male</td>\n",
       "      <td>volar forearm</td>\n",
       "    </tr>\n",
       "    <tr>\n",
       "      <th>3148</th>\n",
       "      <td>SRS483647</td>\n",
       "      <td>SRR997037</td>\n",
       "      <td>2.0</td>\n",
       "      <td>female</td>\n",
       "      <td>vagina</td>\n",
       "    </tr>\n",
       "    <tr>\n",
       "      <th>3149</th>\n",
       "      <td>SRS483647</td>\n",
       "      <td>SRR997122</td>\n",
       "      <td>2.0</td>\n",
       "      <td>female</td>\n",
       "      <td>vagina</td>\n",
       "    </tr>\n",
       "    <tr>\n",
       "      <th>3150</th>\n",
       "      <td>SRS483648</td>\n",
       "      <td>SRR997036</td>\n",
       "      <td>2.0</td>\n",
       "      <td>male</td>\n",
       "      <td>nare</td>\n",
       "    </tr>\n",
       "    <tr>\n",
       "      <th>3151</th>\n",
       "      <td>SRS483648</td>\n",
       "      <td>SRR997121</td>\n",
       "      <td>2.0</td>\n",
       "      <td>male</td>\n",
       "      <td>nare</td>\n",
       "    </tr>\n",
       "  </tbody>\n",
       "</table>\n",
       "<p>3134 rows × 5 columns</p>\n",
       "</div>"
      ],
      "text/plain": [
       "      Sample_ID     Run_ID  Release_version      Sex                 Body_site\n",
       "0     SRS451417  SRR919527              2.0    male        antecubital crease \n",
       "1     SRS451417  SRR919587              2.0    male        antecubital crease \n",
       "2     SRS451418  SRR919528              2.0    male                      back \n",
       "3     SRS451418  SRR919588              2.0    male                      back \n",
       "4     SRS451419  SRR919529              2.0    male   external auditory canal \n",
       "5     SRS451419  SRR919589              2.0    male   external auditory canal \n",
       "6     SRS451420  SRR919530              2.0    male           hypothenar palm \n",
       "7     SRS451420  SRR919590              2.0    male           hypothenar palm \n",
       "8     SRS451421  SRR919531              2.0    male     retroauricular crease \n",
       "9     SRS451421  SRR919591              2.0    male     retroauricular crease \n",
       "10    SRS451422  SRR919532              2.0    male                    toeweb \n",
       "11    SRS451422  SRR919592              2.0    male                    toeweb \n",
       "12    SRS451423  SRR919533              2.0    male     retroauricular crease \n",
       "13    SRS451423  SRR919593              2.0    male     retroauricular crease \n",
       "14    SRS451424  SRR919534              2.0    male                    toeweb \n",
       "15    SRS451424  SRR919594              2.0    male                    toeweb \n",
       "16    SRS451425  SRR919535              2.0    male        antecubital crease \n",
       "17    SRS451425  SRR919595              2.0    male        antecubital crease \n",
       "18    SRS451426  SRR919537              2.0    male                  glabella \n",
       "19    SRS451426  SRR919597              2.0    male                  glabella \n",
       "20    SRS451427  SRR919536              2.0    male                      back \n",
       "21    SRS451427  SRR919596              2.0    male                      back \n",
       "22    SRS451428  SRR919538              2.0    male           hypothenar palm \n",
       "23    SRS451428  SRR919598              2.0    male           hypothenar palm \n",
       "24    SRS451429  SRR919539              2.0    male           inguinal crease \n",
       "25    SRS451429  SRR919599              2.0    male           inguinal crease \n",
       "26    SRS451430  SRR919540              2.0    male                 manubrium \n",
       "27    SRS451430  SRR919600              2.0    male                 manubrium \n",
       "28    SRS451431  SRR919541              2.0    male                   occiput \n",
       "29    SRS451431  SRR919601              2.0    male                   occiput \n",
       "...         ...        ...              ...      ...                       ...\n",
       "3122  SRS483634  SRR997023              2.0    male           popliteal fossa \n",
       "3123  SRS483634  SRR997108              2.0    male           popliteal fossa \n",
       "3124  SRS483635  SRR997025              2.0    male         antecubital fossa \n",
       "3125  SRS483635  SRR997110              2.0    male         antecubital fossa \n",
       "3126  SRS483636  SRR997024              2.0    male                      nare \n",
       "3127  SRS483636  SRR997109              2.0    male                      nare \n",
       "3128  SRS483637  SRR997026              2.0    male             volar forearm \n",
       "3129  SRS483637  SRR997111              2.0    male             volar forearm \n",
       "3130  SRS483638  SRR997027              2.0    male           popliteal fossa \n",
       "3131  SRS483638  SRR997112              2.0    male           popliteal fossa \n",
       "3132  SRS483639  SRR997028              2.0    male                      nare \n",
       "3133  SRS483639  SRR997113              2.0    male                      nare \n",
       "3134  SRS483640  SRR997029              2.0    male         antecubital fossa \n",
       "3135  SRS483640  SRR997114              2.0    male         antecubital fossa \n",
       "3136  SRS483641  SRR997030              2.0    male             volar forearm \n",
       "3137  SRS483641  SRR997115              2.0    male             volar forearm \n",
       "3138  SRS483642  SRR997031              2.0    male           popliteal fossa \n",
       "3139  SRS483642  SRR997116              2.0    male           popliteal fossa \n",
       "3140  SRS483643  SRR997033              2.0    male         antecubital fossa \n",
       "3141  SRS483643  SRR997118              2.0    male         antecubital fossa \n",
       "3142  SRS483644  SRR997032              2.0    male                      nare \n",
       "3143  SRS483644  SRR997117              2.0    male                      nare \n",
       "3144  SRS483645  SRR997035              2.0    male           popliteal fossa \n",
       "3145  SRS483645  SRR997120              2.0    male           popliteal fossa \n",
       "3146  SRS483646  SRR997034              2.0    male             volar forearm \n",
       "3147  SRS483646  SRR997119              2.0    male             volar forearm \n",
       "3148  SRS483647  SRR997037              2.0  female                    vagina \n",
       "3149  SRS483647  SRR997122              2.0  female                    vagina \n",
       "3150  SRS483648  SRR997036              2.0    male                      nare \n",
       "3151  SRS483648  SRR997121              2.0    male                      nare \n",
       "\n",
       "[3134 rows x 5 columns]"
      ]
     },
<<<<<<< HEAD
     "execution_count": 12,
=======
     "execution_count": 17,
>>>>>>> a31cd396f0ffb961202d10f450ab912417ac233d
     "metadata": {},
     "output_type": "execute_result"
    }
   ],
   "source": [
    "#Delete empty datas\n",
    "df = df_result_raw\n",
    "df_result_refine = df[df_result_raw != '#N/A ']\n",
    "df_result_refine = df_result_refine.dropna()\n",
    "df_result_refine.to_csv('05_sample_'+study+'_meta_refine.csv')\n",
    "df_result_refine"
   ]
  },
  {
   "cell_type": "code",
<<<<<<< HEAD
   "execution_count": 13,
   "metadata": {},
   "outputs": [
    {
     "data": {
      "text/plain": [
       "'SRS451417'"
      ]
     },
     "execution_count": 13,
     "metadata": {},
     "output_type": "execute_result"
    }
   ],
=======
   "execution_count": 18,
   "metadata": {},
   "outputs": [],
>>>>>>> a31cd396f0ffb961202d10f450ab912417ac233d
   "source": [
    "#Create a list of values in body site metadata\n",
    "#meta_list = df_result_refine[\"Body_site\"].tolist()\n",
    "#meta_list_refine = list(set(meta_list))\n",
    "#meta_list_refine"
   ]
  },
  {
   "cell_type": "code",
<<<<<<< HEAD
   "execution_count": 14,
=======
   "execution_count": 19,
>>>>>>> a31cd396f0ffb961202d10f450ab912417ac233d
   "metadata": {},
   "outputs": [
    {
     "data": {
      "text/html": [
       "<div>\n",
       "<table border=\"1\" class=\"dataframe\">\n",
       "  <thead>\n",
       "    <tr style=\"text-align: right;\">\n",
       "      <th></th>\n",
       "      <th>Sample_ID</th>\n",
       "      <th>Run_ID</th>\n",
       "      <th>Release_version</th>\n",
       "      <th>Sex</th>\n",
       "      <th>Body_site</th>\n",
       "    </tr>\n",
       "  </thead>\n",
       "  <tbody>\n",
       "    <tr>\n",
       "      <th>28</th>\n",
       "      <td>SRS451431</td>\n",
       "      <td>SRR919541</td>\n",
       "      <td>2.0</td>\n",
       "      <td>male</td>\n",
       "      <td>occiput</td>\n",
       "    </tr>\n",
       "    <tr>\n",
       "      <th>29</th>\n",
       "      <td>SRS451431</td>\n",
       "      <td>SRR919601</td>\n",
       "      <td>2.0</td>\n",
       "      <td>male</td>\n",
       "      <td>occiput</td>\n",
       "    </tr>\n",
       "    <tr>\n",
       "      <th>60</th>\n",
       "      <td>SRS451447</td>\n",
       "      <td>SRR919557</td>\n",
       "      <td>2.0</td>\n",
       "      <td>male</td>\n",
       "      <td>occiput</td>\n",
       "    </tr>\n",
       "    <tr>\n",
       "      <th>61</th>\n",
       "      <td>SRS451447</td>\n",
       "      <td>SRR919617</td>\n",
       "      <td>2.0</td>\n",
       "      <td>male</td>\n",
       "      <td>occiput</td>\n",
       "    </tr>\n",
       "    <tr>\n",
       "      <th>198</th>\n",
       "      <td>SRS451617</td>\n",
       "      <td>SRR919888</td>\n",
       "      <td>2.0</td>\n",
       "      <td>male</td>\n",
       "      <td>occiput</td>\n",
       "    </tr>\n",
       "    <tr>\n",
       "      <th>199</th>\n",
       "      <td>SRS451617</td>\n",
       "      <td>SRR919938</td>\n",
       "      <td>2.0</td>\n",
       "      <td>male</td>\n",
       "      <td>occiput</td>\n",
       "    </tr>\n",
       "    <tr>\n",
       "      <th>248</th>\n",
       "      <td>SRS451723</td>\n",
       "      <td>SRR920125</td>\n",
       "      <td>2.0</td>\n",
       "      <td>male</td>\n",
       "      <td>occiput</td>\n",
       "    </tr>\n",
       "    <tr>\n",
       "      <th>249</th>\n",
       "      <td>SRS451723</td>\n",
       "      <td>SRR920172</td>\n",
       "      <td>2.0</td>\n",
       "      <td>male</td>\n",
       "      <td>occiput</td>\n",
       "    </tr>\n",
       "    <tr>\n",
       "      <th>408</th>\n",
       "      <td>SRS451880</td>\n",
       "      <td>SRR920591</td>\n",
       "      <td>2.0</td>\n",
       "      <td>male</td>\n",
       "      <td>occiput</td>\n",
       "    </tr>\n",
       "    <tr>\n",
       "      <th>409</th>\n",
       "      <td>SRS451880</td>\n",
       "      <td>SRR920678</td>\n",
       "      <td>2.0</td>\n",
       "      <td>male</td>\n",
       "      <td>occiput</td>\n",
       "    </tr>\n",
       "    <tr>\n",
       "      <th>508</th>\n",
       "      <td>SRS451930</td>\n",
       "      <td>SRR920639</td>\n",
       "      <td>2.0</td>\n",
       "      <td>male</td>\n",
       "      <td>occiput</td>\n",
       "    </tr>\n",
       "    <tr>\n",
       "      <th>509</th>\n",
       "      <td>SRS451930</td>\n",
       "      <td>SRR920726</td>\n",
       "      <td>2.0</td>\n",
       "      <td>male</td>\n",
       "      <td>occiput</td>\n",
       "    </tr>\n",
       "    <tr>\n",
       "      <th>606</th>\n",
       "      <td>SRS452054</td>\n",
       "      <td>SRR920927</td>\n",
       "      <td>2.0</td>\n",
       "      <td>male</td>\n",
       "      <td>occiput</td>\n",
       "    </tr>\n",
       "    <tr>\n",
       "      <th>607</th>\n",
       "      <td>SRS452054</td>\n",
       "      <td>SRR920990</td>\n",
       "      <td>2.0</td>\n",
       "      <td>male</td>\n",
       "      <td>occiput</td>\n",
       "    </tr>\n",
       "    <tr>\n",
       "      <th>654</th>\n",
       "      <td>SRS452078</td>\n",
       "      <td>SRR920951</td>\n",
       "      <td>2.0</td>\n",
       "      <td>male</td>\n",
       "      <td>occiput</td>\n",
       "    </tr>\n",
       "    <tr>\n",
       "      <th>655</th>\n",
       "      <td>SRS452078</td>\n",
       "      <td>SRR921014</td>\n",
       "      <td>2.0</td>\n",
       "      <td>male</td>\n",
       "      <td>occiput</td>\n",
       "    </tr>\n",
       "    <tr>\n",
       "      <th>682</th>\n",
       "      <td>SRS452092</td>\n",
       "      <td>SRR921029</td>\n",
       "      <td>2.0</td>\n",
       "      <td>male</td>\n",
       "      <td>occiput</td>\n",
       "    </tr>\n",
       "    <tr>\n",
       "      <th>683</th>\n",
       "      <td>SRS452092</td>\n",
       "      <td>SRR921092</td>\n",
       "      <td>2.0</td>\n",
       "      <td>male</td>\n",
       "      <td>occiput</td>\n",
       "    </tr>\n",
       "    <tr>\n",
       "      <th>778</th>\n",
       "      <td>SRS452140</td>\n",
       "      <td>SRR921077</td>\n",
       "      <td>2.0</td>\n",
       "      <td>male</td>\n",
       "      <td>occiput</td>\n",
       "    </tr>\n",
       "    <tr>\n",
       "      <th>779</th>\n",
       "      <td>SRS452140</td>\n",
       "      <td>SRR921140</td>\n",
       "      <td>2.0</td>\n",
       "      <td>male</td>\n",
       "      <td>occiput</td>\n",
       "    </tr>\n",
       "  </tbody>\n",
       "</table>\n",
       "</div>"
      ],
      "text/plain": [
       "     Sample_ID     Run_ID  Release_version    Sex Body_site\n",
       "28   SRS451431  SRR919541              2.0  male   occiput \n",
       "29   SRS451431  SRR919601              2.0  male   occiput \n",
       "60   SRS451447  SRR919557              2.0  male   occiput \n",
       "61   SRS451447  SRR919617              2.0  male   occiput \n",
       "198  SRS451617  SRR919888              2.0  male   occiput \n",
       "199  SRS451617  SRR919938              2.0  male   occiput \n",
       "248  SRS451723  SRR920125              2.0  male   occiput \n",
       "249  SRS451723  SRR920172              2.0  male   occiput \n",
       "408  SRS451880  SRR920591              2.0  male   occiput \n",
       "409  SRS451880  SRR920678              2.0  male   occiput \n",
       "508  SRS451930  SRR920639              2.0  male   occiput \n",
       "509  SRS451930  SRR920726              2.0  male   occiput \n",
       "606  SRS452054  SRR920927              2.0  male   occiput \n",
       "607  SRS452054  SRR920990              2.0  male   occiput \n",
       "654  SRS452078  SRR920951              2.0  male   occiput \n",
       "655  SRS452078  SRR921014              2.0  male   occiput \n",
       "682  SRS452092  SRR921029              2.0  male   occiput \n",
       "683  SRS452092  SRR921092              2.0  male   occiput \n",
       "778  SRS452140  SRR921077              2.0  male   occiput \n",
       "779  SRS452140  SRR921140              2.0  male   occiput "
      ]
     },
<<<<<<< HEAD
     "execution_count": 14,
=======
     "execution_count": 19,
>>>>>>> a31cd396f0ffb961202d10f450ab912417ac233d
     "metadata": {},
     "output_type": "execute_result"
    }
   ],
   "source": [
    "#Create dataframes based on sorted metadata\n",
    "def sort_by_meta(dataframe, sex, body_site): \n",
    "        return df.query('Sex==@sex and Body_site==@body_site')\n",
    "\n",
    "df = df_result_refine\n",
    "f = 'female ' #Change to male or female\n",
    "m = 'male '\n",
    "bs = 'occiput '\n",
    "df_sort = sort_by_meta(df, m, bs)\n",
    "df_sort"
   ]
  },
  {
   "cell_type": "markdown",
   "metadata": {},
   "source": [
    "#### Automatize the body site metadata input\n",
    "for i in range(len(meta_list_refine)): \n",
    "    bs = meta_list_refine[i]  \n",
    "    #Create sorted dataframes\n",
    "    sort_by_meta(df, s, bs)"
   ]
  },
  {
   "cell_type": "markdown",
   "metadata": {},
   "source": [
    "#### Create .csv files of sorted dataframes\n",
    "    filename_sample = 'sort_by_meta ' + s + bs + '.csv' \n",
    "    print(filename_sample) #To check the files' names\n",
    "    if not os.path.isfile(filename_sample):\n",
    "        sort_by_meta(df, s, bs).to_csv('sort_by_meta ' + s + bs + '.csv')"
   ]
  },
  {
   "cell_type": "code",
   "execution_count": 153,
   "metadata": {},
   "outputs": [
    {
     "name": "stdout",
     "output_type": "stream",
     "text": [
      "sort_by_meta female antecubital crease .csv\n",
      "20\n",
      "sort_by_meta female antecubital fossa .csv\n",
      "274\n",
      "sort_by_meta female back .csv\n",
      "10\n",
      "sort_by_meta female external auditory canal .csv\n",
      "20\n",
      "sort_by_meta female glabella .csv\n",
      "10\n",
      "sort_by_meta female hypothenar palm .csv\n",
      "22\n",
      "sort_by_meta female inguinal crease .csv\n",
      "20\n",
      "sort_by_meta female manubrium .csv\n",
      "12\n",
      "sort_by_meta female nare .csv\n",
      "168\n",
      "sort_by_meta female occiput .csv\n",
      "14\n",
      "sort_by_meta female plantar heel .csv\n",
      "28\n",
      "sort_by_meta female popliteal fossa .csv\n",
      "84\n",
      "sort_by_meta female retroauricular crease .csv\n",
      "112\n",
      "sort_by_meta female toenail .csv\n",
      "28\n",
      "sort_by_meta female toeweb .csv\n",
      "26\n",
      "sort_by_meta female vagina .csv\n",
      "2\n",
      "sort_by_meta female volar forearm .csv\n",
      "214\n",
      "sort_by_meta male antecubital crease .csv\n",
      "44\n",
      "sort_by_meta male antecubital fossa .csv\n",
      "480\n",
      "sort_by_meta male back .csv\n",
      "22\n",
      "sort_by_meta male external auditory canal .csv\n",
      "44\n",
      "sort_by_meta male glabella .csv\n",
      "46\n",
      "sort_by_meta male hypothenar palm .csv\n",
      "44\n",
      "sort_by_meta male inguinal crease .csv\n",
      "44\n",
      "sort_by_meta male manubrium .csv\n",
      "22\n",
      "sort_by_meta male nare .csv\n",
      "372\n",
      "sort_by_meta male occiput .csv\n",
      "20\n",
      "sort_by_meta male plantar heel .csv\n",
      "44\n",
      "sort_by_meta male popliteal fossa .csv\n",
      "118\n",
      "sort_by_meta male retroauricular crease .csv\n",
      "274\n",
      "sort_by_meta male toenail .csv\n",
      "40\n",
      "sort_by_meta male toeweb .csv\n",
      "40\n",
      "sort_by_meta male volar forearm .csv\n",
      "416\n",
      "Minimum rows: 2\n",
      "Maximum rows: 480\n"
     ]
    }
   ],
   "source": [
    "cwd = os.getcwd() #get current working directory\n",
    "os.chdir('D:\\Jupyter\\KetiakProject\\src\\sorted files')\n",
    "\n",
    "filenames = glob.glob('sort_by_meta*.csv')\n",
    "\n",
    "count_list = []\n",
    "\n",
    "for i in range(len(filenames)):\n",
    "    print(filenames[i])\n",
    "    n = sum(1 for line in open(filenames[i])) - 1\n",
    "    print(n)\n",
    "    count_list.append(n)\n",
    "\n",
    "minimum_rows = min(count_list)\n",
    "maximum_rows = max(count_list)\n",
    "print('Minimum rows:', minimum_rows)    \n",
    "print('Maximum rows:', maximum_rows)\n",
    "\n",
    "os.chdir(cwd)"
   ]
  },
  {
   "cell_type": "markdown",
   "metadata": {},
   "source": [
    "## Random sampling"
   ]
  },
  {
   "cell_type": "code",
   "execution_count": 39,
   "metadata": {},
   "outputs": [],
   "source": [
    "def random_sampling(dataframe, amount):\n",
    "    df_random = DataFrame(columns=('Sample_ID','Run_ID','Release_version','Sex','Body_site'))\n",
    "    df_random.index.name = 'No'\n",
    "    a = 0\n",
    "    while a < amount:\n",
    "        i = np.random.choice(dataframe.index.values, 1)\n",
    "        container = df_random.loc[:, 'Sample_ID']\n",
    "        if not container.isin([dataframe.loc[i[0], 'Sample_ID']]).any():\n",
    "            df_random.loc[i[0]] = [dataframe.loc[i[0], 'Sample_ID'], \\\n",
    "                                   dataframe.loc[i[0], 'Run_ID'], \\\n",
    "                                   dataframe.loc[i[0], 'Release_version'], \\\n",
    "                                   dataframe.loc[i[0], 'Sex'], \\\n",
    "                                   dataframe.loc[i[0], 'Body_site']\n",
    "                                  ]\n",
    "            a = a + 1\n",
    "    return df_random"
   ]
  },
  {
   "cell_type": "code",
<<<<<<< HEAD
   "execution_count": 15,
=======
   "execution_count": 40,
>>>>>>> a31cd396f0ffb961202d10f450ab912417ac233d
   "metadata": {},
   "outputs": [
    {
     "data": {
      "text/html": [
       "<div>\n",
       "<table border=\"1\" class=\"dataframe\">\n",
       "  <thead>\n",
       "    <tr style=\"text-align: right;\">\n",
       "      <th></th>\n",
       "      <th>Sample_ID</th>\n",
       "      <th>Run_ID</th>\n",
       "      <th>Release_version</th>\n",
       "      <th>Sex</th>\n",
       "      <th>Body_site</th>\n",
       "    </tr>\n",
       "    <tr>\n",
       "      <th>No</th>\n",
       "      <th></th>\n",
       "      <th></th>\n",
       "      <th></th>\n",
       "      <th></th>\n",
       "      <th></th>\n",
       "    </tr>\n",
       "  </thead>\n",
       "  <tbody>\n",
       "    <tr>\n",
       "      <th>60</th>\n",
       "      <td>SRS451447</td>\n",
       "      <td>SRR919557</td>\n",
       "      <td>2.0</td>\n",
       "      <td>male</td>\n",
       "      <td>occiput</td>\n",
       "    </tr>\n",
       "    <tr>\n",
       "      <th>606</th>\n",
       "      <td>SRS452054</td>\n",
       "      <td>SRR920927</td>\n",
       "      <td>2.0</td>\n",
       "      <td>male</td>\n",
       "      <td>occiput</td>\n",
       "    </tr>\n",
       "    <tr>\n",
       "      <th>655</th>\n",
       "      <td>SRS452078</td>\n",
       "      <td>SRR921014</td>\n",
       "      <td>2.0</td>\n",
       "      <td>male</td>\n",
       "      <td>occiput</td>\n",
       "    </tr>\n",
       "    <tr>\n",
       "      <th>249</th>\n",
       "      <td>SRS451723</td>\n",
       "      <td>SRR920172</td>\n",
       "      <td>2.0</td>\n",
       "      <td>male</td>\n",
       "      <td>occiput</td>\n",
       "    </tr>\n",
       "    <tr>\n",
       "      <th>779</th>\n",
       "      <td>SRS452140</td>\n",
       "      <td>SRR921140</td>\n",
       "      <td>2.0</td>\n",
       "      <td>male</td>\n",
       "      <td>occiput</td>\n",
       "    </tr>\n",
       "  </tbody>\n",
       "</table>\n",
       "</div>"
      ],
      "text/plain": [
       "     Sample_ID     Run_ID  Release_version    Sex Body_site\n",
       "No                                                         \n",
       "60   SRS451447  SRR919557              2.0  male   occiput \n",
       "606  SRS452054  SRR920927              2.0  male   occiput \n",
       "655  SRS452078  SRR921014              2.0  male   occiput \n",
       "249  SRS451723  SRR920172              2.0  male   occiput \n",
       "779  SRS452140  SRR921140              2.0  male   occiput "
      ]
     },
<<<<<<< HEAD
     "execution_count": 15,
=======
     "execution_count": 40,
>>>>>>> a31cd396f0ffb961202d10f450ab912417ac233d
     "metadata": {},
     "output_type": "execute_result"
    }
   ],
   "source": [
    "dataframe = df_sort\n",
    "amount = 5\n",
    "df_random_sample = random_sampling(dataframe, amount)\n",
    "df_random_sample"
   ]
  },
  {
   "cell_type": "code",
   "execution_count": 22,
   "metadata": {},
   "outputs": [],
   "source": [
    "df_random_sample.to_csv('06_sampled_biom_'+study+'.csv')"
   ]
  },
  {
   "cell_type": "markdown",
   "metadata": {},
   "source": [
    "### Get analysis result of a given sample in a study\n",
    "https://www.ebi.ac.uk/metagenomics//projects/SRP002480/samples/SRS451457/runs/SRR919567/results/versions/2.0/taxonomy/OTU-table-HDF5-BIOM"
   ]
  },
  {
   "cell_type": "code",
   "execution_count": 19,
   "metadata": {},
   "outputs": [],
   "source": [
    "#Create ouput folder\n",
    "cwd = os.getcwd() #get current working directory\n",
    "output_folder = \"\\output_\"+study #name of the output folder for a given study, use \\ for directory in windows\n",
    "if not os.path.isdir(cwd + output_folder):\n",
    "    os.mkdir(cwd + output_folder)\n",
    "new_dir = cwd + output_folder \n",
    "new_dir"
   ]
  },
  {
   "cell_type": "code",
   "execution_count": 27,
   "metadata": {},
   "outputs": [
    {
     "ename": "DocumentError",
     "evalue": "Error 404: ?",
     "output_type": "error",
     "traceback": [
      "\u001b[0;31m---------------------------------------------------------------------------\u001b[0m",
      "\u001b[0;31mDocumentError\u001b[0m                             Traceback (most recent call last)",
      "\u001b[0;32m<ipython-input-27-9af9f53d5e57>\u001b[0m in \u001b[0;36m<module>\u001b[0;34m()\u001b[0m\n\u001b[1;32m     20\u001b[0m     }\n\u001b[1;32m     21\u001b[0m     \u001b[0mf\u001b[0m \u001b[1;33m=\u001b[0m \u001b[0mFilter\u001b[0m\u001b[1;33m(\u001b[0m\u001b[0murlencode\u001b[0m\u001b[1;33m(\u001b[0m\u001b[0mparams\u001b[0m\u001b[1;33m)\u001b[0m\u001b[1;33m)\u001b[0m\u001b[1;33m\u001b[0m\u001b[0m\n\u001b[0;32m---> 22\u001b[0;31m     \u001b[1;32mfor\u001b[0m \u001b[0msample\u001b[0m \u001b[1;32min\u001b[0m \u001b[0ms\u001b[0m\u001b[1;33m.\u001b[0m\u001b[0miterate\u001b[0m\u001b[1;33m(\u001b[0m\u001b[1;34m'study'\u001b[0m\u001b[1;33m,\u001b[0m \u001b[0mf\u001b[0m\u001b[1;33m)\u001b[0m\u001b[1;33m:\u001b[0m\u001b[1;33m\u001b[0m\u001b[0m\n\u001b[0m\u001b[1;32m     23\u001b[0m         df.loc[sample.accession] = [\n\u001b[1;32m     24\u001b[0m             \u001b[0msample\u001b[0m\u001b[1;33m.\u001b[0m\u001b[0msample_name\u001b[0m\u001b[1;33m,\u001b[0m \u001b[0msample\u001b[0m\u001b[1;33m.\u001b[0m\u001b[0mbiome\u001b[0m\u001b[1;33m.\u001b[0m\u001b[0mid\u001b[0m\u001b[1;33m,\u001b[0m\u001b[1;33m\u001b[0m\u001b[0m\n",
      "\u001b[0;32mC:\\anaconda\\lib\\site-packages\\jsonapi_client\\session.py\u001b[0m in \u001b[0;36m_iterate_sync\u001b[0;34m(self, resource_type, filter)\u001b[0m\n\u001b[1;32m    364\u001b[0m     \u001b[1;32mdef\u001b[0m \u001b[0m_iterate_sync\u001b[0m\u001b[1;33m(\u001b[0m\u001b[0mself\u001b[0m\u001b[1;33m,\u001b[0m \u001b[0mresource_type\u001b[0m\u001b[1;33m:\u001b[0m \u001b[0mstr\u001b[0m\u001b[1;33m,\u001b[0m \u001b[0mfilter\u001b[0m\u001b[1;33m:\u001b[0m \u001b[1;34m'Filter'\u001b[0m\u001b[1;33m=\u001b[0m\u001b[1;32mNone\u001b[0m\u001b[1;33m)\u001b[0m\u001b[0;31m \u001b[0m\u001b[0;31m\\\u001b[0m\u001b[1;33m\u001b[0m\u001b[0m\n\u001b[1;32m    365\u001b[0m             \u001b[1;33m->\u001b[0m \u001b[1;34m'Iterator[ResourceObject]'\u001b[0m\u001b[1;33m:\u001b[0m\u001b[1;33m\u001b[0m\u001b[0m\n\u001b[0;32m--> 366\u001b[0;31m         \u001b[0mdoc\u001b[0m \u001b[1;33m=\u001b[0m \u001b[0mself\u001b[0m\u001b[1;33m.\u001b[0m\u001b[0mget\u001b[0m\u001b[1;33m(\u001b[0m\u001b[0mresource_type\u001b[0m\u001b[1;33m,\u001b[0m \u001b[0mfilter\u001b[0m\u001b[1;33m)\u001b[0m\u001b[1;33m\u001b[0m\u001b[0m\n\u001b[0m\u001b[1;32m    367\u001b[0m         \u001b[1;32myield\u001b[0m \u001b[1;32mfrom\u001b[0m \u001b[0mdoc\u001b[0m\u001b[1;33m.\u001b[0m\u001b[0m_iterator_sync\u001b[0m\u001b[1;33m(\u001b[0m\u001b[1;33m)\u001b[0m\u001b[1;33m\u001b[0m\u001b[0m\n\u001b[1;32m    368\u001b[0m \u001b[1;33m\u001b[0m\u001b[0m\n",
      "\u001b[0;32mC:\\anaconda\\lib\\site-packages\\jsonapi_client\\session.py\u001b[0m in \u001b[0;36mget\u001b[0;34m(self, resource_type, resource_id_or_filter)\u001b[0m\n\u001b[1;32m    360\u001b[0m             \u001b[1;32mreturn\u001b[0m \u001b[0mself\u001b[0m\u001b[1;33m.\u001b[0m\u001b[0m_get_async\u001b[0m\u001b[1;33m(\u001b[0m\u001b[0mresource_type\u001b[0m\u001b[1;33m,\u001b[0m \u001b[0mresource_id_or_filter\u001b[0m\u001b[1;33m)\u001b[0m\u001b[1;33m\u001b[0m\u001b[0m\n\u001b[1;32m    361\u001b[0m         \u001b[1;32melse\u001b[0m\u001b[1;33m:\u001b[0m\u001b[1;33m\u001b[0m\u001b[0m\n\u001b[0;32m--> 362\u001b[0;31m             \u001b[1;32mreturn\u001b[0m \u001b[0mself\u001b[0m\u001b[1;33m.\u001b[0m\u001b[0m_get_sync\u001b[0m\u001b[1;33m(\u001b[0m\u001b[0mresource_type\u001b[0m\u001b[1;33m,\u001b[0m \u001b[0mresource_id_or_filter\u001b[0m\u001b[1;33m)\u001b[0m\u001b[1;33m\u001b[0m\u001b[0m\n\u001b[0m\u001b[1;32m    363\u001b[0m \u001b[1;33m\u001b[0m\u001b[0m\n\u001b[1;32m    364\u001b[0m     \u001b[1;32mdef\u001b[0m \u001b[0m_iterate_sync\u001b[0m\u001b[1;33m(\u001b[0m\u001b[0mself\u001b[0m\u001b[1;33m,\u001b[0m \u001b[0mresource_type\u001b[0m\u001b[1;33m:\u001b[0m \u001b[0mstr\u001b[0m\u001b[1;33m,\u001b[0m \u001b[0mfilter\u001b[0m\u001b[1;33m:\u001b[0m \u001b[1;34m'Filter'\u001b[0m\u001b[1;33m=\u001b[0m\u001b[1;32mNone\u001b[0m\u001b[1;33m)\u001b[0m\u001b[0;31m \u001b[0m\u001b[0;31m\\\u001b[0m\u001b[1;33m\u001b[0m\u001b[0m\n",
      "\u001b[0;32mC:\\anaconda\\lib\\site-packages\\jsonapi_client\\session.py\u001b[0m in \u001b[0;36m_get_sync\u001b[0;34m(self, resource_type, resource_id_or_filter)\u001b[0m\n\u001b[1;32m    336\u001b[0m                                                                 resource_id_or_filter)\n\u001b[1;32m    337\u001b[0m         \u001b[0murl\u001b[0m \u001b[1;33m=\u001b[0m \u001b[0mself\u001b[0m\u001b[1;33m.\u001b[0m\u001b[0m_url_for_resource\u001b[0m\u001b[1;33m(\u001b[0m\u001b[0mresource_type\u001b[0m\u001b[1;33m,\u001b[0m \u001b[0mresource_id\u001b[0m\u001b[1;33m,\u001b[0m \u001b[0mfilter_\u001b[0m\u001b[1;33m)\u001b[0m\u001b[1;33m\u001b[0m\u001b[0m\n\u001b[0;32m--> 338\u001b[0;31m         \u001b[1;32mreturn\u001b[0m \u001b[0mself\u001b[0m\u001b[1;33m.\u001b[0m\u001b[0mfetch_document_by_url\u001b[0m\u001b[1;33m(\u001b[0m\u001b[0murl\u001b[0m\u001b[1;33m)\u001b[0m\u001b[1;33m\u001b[0m\u001b[0m\n\u001b[0m\u001b[1;32m    339\u001b[0m \u001b[1;33m\u001b[0m\u001b[0m\n\u001b[1;32m    340\u001b[0m     async def _get_async(self, resource_type: str,\n",
      "\u001b[0;32mC:\\anaconda\\lib\\site-packages\\jsonapi_client\\session.py\u001b[0m in \u001b[0;36mfetch_document_by_url\u001b[0;34m(self, url)\u001b[0m\n\u001b[1;32m    453\u001b[0m \u001b[1;33m\u001b[0m\u001b[0m\n\u001b[1;32m    454\u001b[0m         \u001b[1;31m# TODO: should we try to guess type, id from url?\u001b[0m\u001b[1;33m\u001b[0m\u001b[1;33m\u001b[0m\u001b[0m\n\u001b[0;32m--> 455\u001b[0;31m         \u001b[1;32mreturn\u001b[0m \u001b[0mself\u001b[0m\u001b[1;33m.\u001b[0m\u001b[0mdocuments_by_link\u001b[0m\u001b[1;33m.\u001b[0m\u001b[0mget\u001b[0m\u001b[1;33m(\u001b[0m\u001b[0murl\u001b[0m\u001b[1;33m)\u001b[0m \u001b[1;32mor\u001b[0m \u001b[0mself\u001b[0m\u001b[1;33m.\u001b[0m\u001b[0m_ext_fetch_by_url\u001b[0m\u001b[1;33m(\u001b[0m\u001b[0murl\u001b[0m\u001b[1;33m)\u001b[0m\u001b[1;33m\u001b[0m\u001b[0m\n\u001b[0m\u001b[1;32m    456\u001b[0m \u001b[1;33m\u001b[0m\u001b[0m\n\u001b[1;32m    457\u001b[0m     \u001b[1;33masync\u001b[0m \u001b[1;32mdef\u001b[0m \u001b[0mfetch_document_by_url_async\u001b[0m\u001b[1;33m(\u001b[0m\u001b[0mself\u001b[0m\u001b[1;33m,\u001b[0m \u001b[0murl\u001b[0m\u001b[1;33m:\u001b[0m \u001b[0mstr\u001b[0m\u001b[1;33m)\u001b[0m \u001b[1;33m->\u001b[0m \u001b[1;34m'Document'\u001b[0m\u001b[1;33m:\u001b[0m\u001b[1;33m\u001b[0m\u001b[0m\n",
      "\u001b[0;32mC:\\anaconda\\lib\\site-packages\\jsonapi_client\\session.py\u001b[0m in \u001b[0;36m_ext_fetch_by_url\u001b[0;34m(self, url)\u001b[0m\n\u001b[1;32m    467\u001b[0m \u001b[1;33m\u001b[0m\u001b[0m\n\u001b[1;32m    468\u001b[0m     \u001b[1;32mdef\u001b[0m \u001b[0m_ext_fetch_by_url\u001b[0m\u001b[1;33m(\u001b[0m\u001b[0mself\u001b[0m\u001b[1;33m,\u001b[0m \u001b[0murl\u001b[0m\u001b[1;33m:\u001b[0m \u001b[0mstr\u001b[0m\u001b[1;33m)\u001b[0m \u001b[1;33m->\u001b[0m \u001b[1;34m'Document'\u001b[0m\u001b[1;33m:\u001b[0m\u001b[1;33m\u001b[0m\u001b[0m\n\u001b[0;32m--> 469\u001b[0;31m         \u001b[0mjson_data\u001b[0m \u001b[1;33m=\u001b[0m \u001b[0mself\u001b[0m\u001b[1;33m.\u001b[0m\u001b[0m_fetch_json\u001b[0m\u001b[1;33m(\u001b[0m\u001b[0murl\u001b[0m\u001b[1;33m)\u001b[0m\u001b[1;33m\u001b[0m\u001b[0m\n\u001b[0m\u001b[1;32m    470\u001b[0m         \u001b[1;32mreturn\u001b[0m \u001b[0mself\u001b[0m\u001b[1;33m.\u001b[0m\u001b[0mread\u001b[0m\u001b[1;33m(\u001b[0m\u001b[0mjson_data\u001b[0m\u001b[1;33m,\u001b[0m \u001b[0murl\u001b[0m\u001b[1;33m)\u001b[0m\u001b[1;33m\u001b[0m\u001b[0m\n\u001b[1;32m    471\u001b[0m \u001b[1;33m\u001b[0m\u001b[0m\n",
      "\u001b[0;32mC:\\anaconda\\lib\\site-packages\\jsonapi_client\\session.py\u001b[0m in \u001b[0;36m_fetch_json\u001b[0;34m(self, url)\u001b[0m\n\u001b[1;32m    492\u001b[0m                                 \u001b[1;34mf'{error_from_response(response)}'\u001b[0m\u001b[1;33m,\u001b[0m\u001b[1;33m\u001b[0m\u001b[0m\n\u001b[1;32m    493\u001b[0m                                 \u001b[0merrors\u001b[0m\u001b[1;33m=\u001b[0m\u001b[1;33m{\u001b[0m\u001b[1;34m'status_code'\u001b[0m\u001b[1;33m:\u001b[0m \u001b[0mresponse\u001b[0m\u001b[1;33m.\u001b[0m\u001b[0mstatus_code\u001b[0m\u001b[1;33m}\u001b[0m\u001b[1;33m,\u001b[0m\u001b[1;33m\u001b[0m\u001b[0m\n\u001b[0;32m--> 494\u001b[0;31m                                 response=response)\n\u001b[0m\u001b[1;32m    495\u001b[0m \u001b[1;33m\u001b[0m\u001b[0m\n\u001b[1;32m    496\u001b[0m     \u001b[1;33masync\u001b[0m \u001b[1;32mdef\u001b[0m \u001b[0m_fetch_json_async\u001b[0m\u001b[1;33m(\u001b[0m\u001b[0mself\u001b[0m\u001b[1;33m,\u001b[0m \u001b[0murl\u001b[0m\u001b[1;33m:\u001b[0m \u001b[0mstr\u001b[0m\u001b[1;33m)\u001b[0m \u001b[1;33m->\u001b[0m \u001b[0mdict\u001b[0m\u001b[1;33m:\u001b[0m\u001b[1;33m\u001b[0m\u001b[0m\n",
      "\u001b[0;31mDocumentError\u001b[0m: Error 404: ?"
     ]
    }
   ],
   "source": [
    "extension = 'JSON Biom'\n",
    "df_result_m_back = pd.read_csv('06_sampled_biom_'+study+'.csv')\n",
    "\n",
<<<<<<< HEAD
    "with Session(API_BASE) as s:\n",
    "    params = {\n",
    "        'study_accession': study1,\n",
    "        'include': 'biome',\n",
    "        'page_size': 100,\n",
    "    }\n",
    "    f = Filter(urlencode(params))\n",
    "    for sample in s.iterate('study', f):\n",
    "        df.loc[sample.accession] = [\n",
    "            sample.sample_name, sample.biome.id,\n",
    "            get_metadata(sample.sample_metadata, temp_label),\n",
    "            get_metadata(sample.sample_metadata, depth_label),\n",
    "            sample.longitude, sample.latitude\n",
    "        ]\n",
    "df"
=======
    "#Ambil data dari EBI\n",
    "for i in tqdm_notebook(df_result_m_back.index):\n",
    "    os.chdir(new_dir) #pindah ke folder output\n",
    "    filename = df_result_m_back.loc[i, \"Sample_ID\"]+'.biom'\n",
    "    if not os.path.isfile(filename):\n",
    "        link = get_analysis_result(df_result_m_back.loc[i, \"Run_ID\"], extension)\n",
    "        with open(filename, 'wb') as f:\n",
    "            c = pycurl.Curl()\n",
    "            c.setopt(c.URL, link)\n",
    "            c.setopt(c.WRITEDATA, f)\n",
    "            c.perform()\n",
    "            c.close()\n",
    "    os.chdir(cwd) #balik ke folder semula"
>>>>>>> a31cd396f0ffb961202d10f450ab912417ac233d
   ]
  },
  {
   "cell_type": "markdown",
   "metadata": {},
   "source": [
    "## Download accompanying metadata for downloaded file"
   ]
  },
  {
   "cell_type": "code",
<<<<<<< HEAD
   "execution_count": 22,
=======
   "execution_count": null,
>>>>>>> a31cd396f0ffb961202d10f450ab912417ac233d
   "metadata": {},
   "outputs": [],
   "source": [
    "df_meta_random = DataFrame(columns=('#SampleID','BarcodeSequence','LinkerPrimerSequence', 'RunID', 'Sex', 'BodySite', 'Description'))"
   ]
  },
  {
   "cell_type": "code",
<<<<<<< HEAD
   "execution_count": 23,
=======
   "execution_count": null,
>>>>>>> a31cd396f0ffb961202d10f450ab912417ac233d
   "metadata": {},
   "outputs": [],
   "source": [
    "df_meta_random"
   ]
  },
  {
   "cell_type": "code",
<<<<<<< HEAD
   "execution_count": 24,
=======
   "execution_count": null,
>>>>>>> a31cd396f0ffb961202d10f450ab912417ac233d
   "metadata": {},
   "outputs": [],
   "source": [
    "df9 = pd.read_csv('06_sampled_biom_'+study+'.csv')\n",
    "\n",
    "pbar = tqdm_notebook(range(len(df9))) #to make progressbar\n",
    "for i in pbar:\n",
    "    df_meta_random.loc[i] = [df9.loc[i, 'Sample_ID'], \\\n",
    "                            '_', \\\n",
    "                            '_', \\\n",
    "                            df9.loc[i, 'Run_ID'], \\\n",
    "                            df9.loc[i, 'Sex'], \\\n",
    "                            df9.loc[i, 'Body_site'], \\\n",
    "                            '_'\n",
    "                           ]\n",
    "df_meta_random"
   ]
  },
  {
   "cell_type": "code",
<<<<<<< HEAD
   "execution_count": 25,
=======
   "execution_count": null,
   "metadata": {},
   "outputs": [],
   "source": [
    "df_meta_random.to_csv('07_metadata.txt', sep=\"\\t\", index = False)"
   ]
  },
  {
   "cell_type": "markdown",
   "metadata": {},
   "source": [
    "## Download file lain"
   ]
  },
  {
   "cell_type": "code",
<<<<<<< HEAD
   "execution_count": 167,
=======
   "execution_count": 111,
>>>>>>> a31cd396f0ffb961202d10f450ab912417ac233d
   "metadata": {},
   "outputs": [
    {
     "name": "stdout",
     "output_type": "stream",
     "text": [
<<<<<<< HEAD
      "D:\\Jupyter\\KetiakProject\\src\n"
=======
      "sort_by_meta female antecubital crease .csv\n",
      "sort_by_meta female antecubital fossa .csv\n",
      "sort_by_meta female back .csv\n",
      "sort_by_meta female external auditory canal .csv\n",
      "sort_by_meta female glabella .csv\n",
      "sort_by_meta female hypothenar palm .csv\n",
      "sort_by_meta female inguinal crease .csv\n",
      "sort_by_meta female manubrium .csv\n",
      "sort_by_meta female nare .csv\n",
      "sort_by_meta female occiput .csv\n",
      "sort_by_meta female plantar heel .csv\n",
      "sort_by_meta female popliteal fossa .csv\n",
      "sort_by_meta female retroauricular crease .csv\n",
      "sort_by_meta female toenail .csv\n",
      "sort_by_meta female toeweb .csv\n",
      "sort_by_meta female vagina .csv\n"
     ]
    },
    {
     "ename": "KeyboardInterrupt",
     "evalue": "",
     "output_type": "error",
     "traceback": [
      "\u001b[1;31m---------------------------------------------------------------------------\u001b[0m",
      "\u001b[1;31mKeyboardInterrupt\u001b[0m                         Traceback (most recent call last)",
      "\u001b[1;32m<ipython-input-111-38120447fe65>\u001b[0m in \u001b[0;36m<module>\u001b[1;34m()\u001b[0m\n\u001b[0;32m     34\u001b[0m     \u001b[1;31m#df_list.append(dataframe)\u001b[0m\u001b[1;33m\u001b[0m\u001b[1;33m\u001b[0m\u001b[0m\n\u001b[0;32m     35\u001b[0m     \u001b[1;31m#Disini sudah mulai error\u001b[0m\u001b[1;33m\u001b[0m\u001b[1;33m\u001b[0m\u001b[0m\n\u001b[1;32m---> 36\u001b[1;33m     \u001b[0mdf_random_sample\u001b[0m \u001b[1;33m=\u001b[0m \u001b[0mrandom_sampling\u001b[0m\u001b[1;33m(\u001b[0m\u001b[0mdataframe\u001b[0m\u001b[1;33m,\u001b[0m \u001b[0mamount\u001b[0m\u001b[1;33m)\u001b[0m\u001b[1;33m\u001b[0m\u001b[0m\n\u001b[0m\u001b[0;32m     37\u001b[0m     \u001b[0mdf_list\u001b[0m\u001b[1;33m.\u001b[0m\u001b[0mappend\u001b[0m\u001b[1;33m(\u001b[0m\u001b[0mdf_random_sample\u001b[0m\u001b[1;33m)\u001b[0m\u001b[1;33m\u001b[0m\u001b[0m\n\u001b[0;32m     38\u001b[0m     \u001b[0mrandom_frame\u001b[0m \u001b[1;33m=\u001b[0m \u001b[0mpd\u001b[0m\u001b[1;33m.\u001b[0m\u001b[0mconcat\u001b[0m\u001b[1;33m(\u001b[0m\u001b[0mdf_list\u001b[0m\u001b[1;33m,\u001b[0m \u001b[0mignore_index\u001b[0m\u001b[1;33m=\u001b[0m\u001b[1;32mTrue\u001b[0m\u001b[1;33m)\u001b[0m\u001b[1;33m\u001b[0m\u001b[0m\n",
      "\u001b[1;32m<ipython-input-39-b9201c880dd2>\u001b[0m in \u001b[0;36mrandom_sampling\u001b[1;34m(dataframe, amount)\u001b[0m\n\u001b[0;32m      6\u001b[0m         \u001b[0mi\u001b[0m \u001b[1;33m=\u001b[0m \u001b[0mnp\u001b[0m\u001b[1;33m.\u001b[0m\u001b[0mrandom\u001b[0m\u001b[1;33m.\u001b[0m\u001b[0mchoice\u001b[0m\u001b[1;33m(\u001b[0m\u001b[0mdataframe\u001b[0m\u001b[1;33m.\u001b[0m\u001b[0mindex\u001b[0m\u001b[1;33m.\u001b[0m\u001b[0mvalues\u001b[0m\u001b[1;33m,\u001b[0m \u001b[1;36m1\u001b[0m\u001b[1;33m)\u001b[0m\u001b[1;33m\u001b[0m\u001b[0m\n\u001b[0;32m      7\u001b[0m         \u001b[0mcontainer\u001b[0m \u001b[1;33m=\u001b[0m \u001b[0mdf_random\u001b[0m\u001b[1;33m.\u001b[0m\u001b[0mloc\u001b[0m\u001b[1;33m[\u001b[0m\u001b[1;33m:\u001b[0m\u001b[1;33m,\u001b[0m \u001b[1;34m'Sample_ID'\u001b[0m\u001b[1;33m]\u001b[0m\u001b[1;33m\u001b[0m\u001b[0m\n\u001b[1;32m----> 8\u001b[1;33m         \u001b[1;32mif\u001b[0m \u001b[1;32mnot\u001b[0m \u001b[0mcontainer\u001b[0m\u001b[1;33m.\u001b[0m\u001b[0misin\u001b[0m\u001b[1;33m(\u001b[0m\u001b[1;33m[\u001b[0m\u001b[0mdataframe\u001b[0m\u001b[1;33m.\u001b[0m\u001b[0mloc\u001b[0m\u001b[1;33m[\u001b[0m\u001b[0mi\u001b[0m\u001b[1;33m[\u001b[0m\u001b[1;36m0\u001b[0m\u001b[1;33m]\u001b[0m\u001b[1;33m,\u001b[0m \u001b[1;34m'Sample_ID'\u001b[0m\u001b[1;33m]\u001b[0m\u001b[1;33m]\u001b[0m\u001b[1;33m)\u001b[0m\u001b[1;33m.\u001b[0m\u001b[0many\u001b[0m\u001b[1;33m(\u001b[0m\u001b[1;33m)\u001b[0m\u001b[1;33m:\u001b[0m\u001b[1;33m\u001b[0m\u001b[0m\n\u001b[0m\u001b[0;32m      9\u001b[0m             df_random.loc[i[0]] = [dataframe.loc[i[0], 'Sample_ID'],                                    dataframe.loc[i[0], 'Run_ID'],                                    dataframe.loc[i[0], 'Release_version'],                                    dataframe.loc[i[0], 'Sex'],                                    dataframe.loc[i[0], 'Body_site']\n\u001b[0;32m     10\u001b[0m                                   ]\n",
      "\u001b[1;32mC:\\ProgramData\\Anaconda3\\lib\\site-packages\\pandas\\core\\generic.py\u001b[0m in \u001b[0;36mlogical_func\u001b[1;34m(self, axis, bool_only, skipna, level, **kwargs)\u001b[0m\n\u001b[0;32m   7392\u001b[0m         return self._reduce(f, axis=axis, skipna=skipna,\n\u001b[0;32m   7393\u001b[0m                             \u001b[0mnumeric_only\u001b[0m\u001b[1;33m=\u001b[0m\u001b[0mbool_only\u001b[0m\u001b[1;33m,\u001b[0m \u001b[0mfilter_type\u001b[0m\u001b[1;33m=\u001b[0m\u001b[1;34m'bool'\u001b[0m\u001b[1;33m,\u001b[0m\u001b[1;33m\u001b[0m\u001b[0m\n\u001b[1;32m-> 7394\u001b[1;33m                             name=name)\n\u001b[0m\u001b[0;32m   7395\u001b[0m \u001b[1;33m\u001b[0m\u001b[0m\n\u001b[0;32m   7396\u001b[0m     \u001b[1;32mreturn\u001b[0m \u001b[0mset_function_name\u001b[0m\u001b[1;33m(\u001b[0m\u001b[0mlogical_func\u001b[0m\u001b[1;33m,\u001b[0m \u001b[0mname\u001b[0m\u001b[1;33m,\u001b[0m \u001b[0mcls\u001b[0m\u001b[1;33m)\u001b[0m\u001b[1;33m\u001b[0m\u001b[0m\n",
      "\u001b[1;32mC:\\ProgramData\\Anaconda3\\lib\\site-packages\\pandas\\core\\series.py\u001b[0m in \u001b[0;36m_reduce\u001b[1;34m(self, op, name, axis, skipna, numeric_only, filter_type, **kwds)\u001b[0m\n\u001b[0;32m   2575\u001b[0m                                           'numeric_only.'.format(name))\n\u001b[0;32m   2576\u001b[0m             \u001b[1;32mwith\u001b[0m \u001b[0mnp\u001b[0m\u001b[1;33m.\u001b[0m\u001b[0merrstate\u001b[0m\u001b[1;33m(\u001b[0m\u001b[0mall\u001b[0m\u001b[1;33m=\u001b[0m\u001b[1;34m'ignore'\u001b[0m\u001b[1;33m)\u001b[0m\u001b[1;33m:\u001b[0m\u001b[1;33m\u001b[0m\u001b[0m\n\u001b[1;32m-> 2577\u001b[1;33m                 \u001b[1;32mreturn\u001b[0m \u001b[0mop\u001b[0m\u001b[1;33m(\u001b[0m\u001b[0mdelegate\u001b[0m\u001b[1;33m,\u001b[0m \u001b[0mskipna\u001b[0m\u001b[1;33m=\u001b[0m\u001b[0mskipna\u001b[0m\u001b[1;33m,\u001b[0m \u001b[1;33m**\u001b[0m\u001b[0mkwds\u001b[0m\u001b[1;33m)\u001b[0m\u001b[1;33m\u001b[0m\u001b[0m\n\u001b[0m\u001b[0;32m   2578\u001b[0m \u001b[1;33m\u001b[0m\u001b[0m\n\u001b[0;32m   2579\u001b[0m         return delegate._reduce(op=op, name=name, axis=axis, skipna=skipna,\n",
      "\u001b[1;32mC:\\ProgramData\\Anaconda3\\lib\\site-packages\\pandas\\core\\nanops.py\u001b[0m in \u001b[0;36mnanany\u001b[1;34m(values, axis, skipna)\u001b[0m\n\u001b[0;32m    317\u001b[0m \u001b[1;33m\u001b[0m\u001b[0m\n\u001b[0;32m    318\u001b[0m \u001b[1;32mdef\u001b[0m \u001b[0mnanany\u001b[0m\u001b[1;33m(\u001b[0m\u001b[0mvalues\u001b[0m\u001b[1;33m,\u001b[0m \u001b[0maxis\u001b[0m\u001b[1;33m=\u001b[0m\u001b[1;32mNone\u001b[0m\u001b[1;33m,\u001b[0m \u001b[0mskipna\u001b[0m\u001b[1;33m=\u001b[0m\u001b[1;32mTrue\u001b[0m\u001b[1;33m)\u001b[0m\u001b[1;33m:\u001b[0m\u001b[1;33m\u001b[0m\u001b[0m\n\u001b[1;32m--> 319\u001b[1;33m     \u001b[0mvalues\u001b[0m\u001b[1;33m,\u001b[0m \u001b[0mmask\u001b[0m\u001b[1;33m,\u001b[0m \u001b[0mdtype\u001b[0m\u001b[1;33m,\u001b[0m \u001b[0m_\u001b[0m \u001b[1;33m=\u001b[0m \u001b[0m_get_values\u001b[0m\u001b[1;33m(\u001b[0m\u001b[0mvalues\u001b[0m\u001b[1;33m,\u001b[0m \u001b[0mskipna\u001b[0m\u001b[1;33m,\u001b[0m \u001b[1;32mFalse\u001b[0m\u001b[1;33m,\u001b[0m \u001b[0mcopy\u001b[0m\u001b[1;33m=\u001b[0m\u001b[0mskipna\u001b[0m\u001b[1;33m)\u001b[0m\u001b[1;33m\u001b[0m\u001b[0m\n\u001b[0m\u001b[0;32m    320\u001b[0m     \u001b[1;32mreturn\u001b[0m \u001b[0mvalues\u001b[0m\u001b[1;33m.\u001b[0m\u001b[0many\u001b[0m\u001b[1;33m(\u001b[0m\u001b[0maxis\u001b[0m\u001b[1;33m)\u001b[0m\u001b[1;33m\u001b[0m\u001b[0m\n\u001b[0;32m    321\u001b[0m \u001b[1;33m\u001b[0m\u001b[0m\n",
      "\u001b[1;32mC:\\ProgramData\\Anaconda3\\lib\\site-packages\\pandas\\core\\nanops.py\u001b[0m in \u001b[0;36m_get_values\u001b[1;34m(values, skipna, fill_value, fill_value_typ, isfinite, copy)\u001b[0m\n\u001b[0;32m    210\u001b[0m         \u001b[0mmask\u001b[0m \u001b[1;33m=\u001b[0m \u001b[0m_isfinite\u001b[0m\u001b[1;33m(\u001b[0m\u001b[0mvalues\u001b[0m\u001b[1;33m)\u001b[0m\u001b[1;33m\u001b[0m\u001b[0m\n\u001b[0;32m    211\u001b[0m     \u001b[1;32melse\u001b[0m\u001b[1;33m:\u001b[0m\u001b[1;33m\u001b[0m\u001b[0m\n\u001b[1;32m--> 212\u001b[1;33m         \u001b[0mmask\u001b[0m \u001b[1;33m=\u001b[0m \u001b[0misna\u001b[0m\u001b[1;33m(\u001b[0m\u001b[0mvalues\u001b[0m\u001b[1;33m)\u001b[0m\u001b[1;33m\u001b[0m\u001b[0m\n\u001b[0m\u001b[0;32m    213\u001b[0m \u001b[1;33m\u001b[0m\u001b[0m\n\u001b[0;32m    214\u001b[0m     \u001b[0mdtype\u001b[0m \u001b[1;33m=\u001b[0m \u001b[0mvalues\u001b[0m\u001b[1;33m.\u001b[0m\u001b[0mdtype\u001b[0m\u001b[1;33m\u001b[0m\u001b[0m\n",
      "\u001b[1;32mC:\\ProgramData\\Anaconda3\\lib\\site-packages\\pandas\\core\\dtypes\\missing.py\u001b[0m in \u001b[0;36misna\u001b[1;34m(obj)\u001b[0m\n\u001b[0;32m     43\u001b[0m     \u001b[0mpandas\u001b[0m\u001b[1;33m.\u001b[0m\u001b[0misnull\u001b[0m\u001b[1;33m:\u001b[0m \u001b[0malias\u001b[0m \u001b[0mof\u001b[0m \u001b[0misna\u001b[0m\u001b[1;33m\u001b[0m\u001b[0m\n\u001b[0;32m     44\u001b[0m     \"\"\"\n\u001b[1;32m---> 45\u001b[1;33m     \u001b[1;32mreturn\u001b[0m \u001b[0m_isna\u001b[0m\u001b[1;33m(\u001b[0m\u001b[0mobj\u001b[0m\u001b[1;33m)\u001b[0m\u001b[1;33m\u001b[0m\u001b[0m\n\u001b[0m\u001b[0;32m     46\u001b[0m \u001b[1;33m\u001b[0m\u001b[0m\n\u001b[0;32m     47\u001b[0m \u001b[1;33m\u001b[0m\u001b[0m\n",
      "\u001b[1;32mC:\\ProgramData\\Anaconda3\\lib\\site-packages\\pandas\\core\\dtypes\\missing.py\u001b[0m in \u001b[0;36m_isna_new\u001b[1;34m(obj)\u001b[0m\n\u001b[0;32m     56\u001b[0m         \u001b[1;32mraise\u001b[0m \u001b[0mNotImplementedError\u001b[0m\u001b[1;33m(\u001b[0m\u001b[1;34m\"isna is not defined for MultiIndex\"\u001b[0m\u001b[1;33m)\u001b[0m\u001b[1;33m\u001b[0m\u001b[0m\n\u001b[0;32m     57\u001b[0m     \u001b[1;32melif\u001b[0m \u001b[0misinstance\u001b[0m\u001b[1;33m(\u001b[0m\u001b[0mobj\u001b[0m\u001b[1;33m,\u001b[0m \u001b[1;33m(\u001b[0m\u001b[0mABCSeries\u001b[0m\u001b[1;33m,\u001b[0m \u001b[0mnp\u001b[0m\u001b[1;33m.\u001b[0m\u001b[0mndarray\u001b[0m\u001b[1;33m,\u001b[0m \u001b[0mABCIndexClass\u001b[0m\u001b[1;33m)\u001b[0m\u001b[1;33m)\u001b[0m\u001b[1;33m:\u001b[0m\u001b[1;33m\u001b[0m\u001b[0m\n\u001b[1;32m---> 58\u001b[1;33m         \u001b[1;32mreturn\u001b[0m \u001b[0m_isna_ndarraylike\u001b[0m\u001b[1;33m(\u001b[0m\u001b[0mobj\u001b[0m\u001b[1;33m)\u001b[0m\u001b[1;33m\u001b[0m\u001b[0m\n\u001b[0m\u001b[0;32m     59\u001b[0m     \u001b[1;32melif\u001b[0m \u001b[0misinstance\u001b[0m\u001b[1;33m(\u001b[0m\u001b[0mobj\u001b[0m\u001b[1;33m,\u001b[0m \u001b[0mABCGeneric\u001b[0m\u001b[1;33m)\u001b[0m\u001b[1;33m:\u001b[0m\u001b[1;33m\u001b[0m\u001b[0m\n\u001b[0;32m     60\u001b[0m         \u001b[1;32mreturn\u001b[0m \u001b[0mobj\u001b[0m\u001b[1;33m.\u001b[0m\u001b[0m_constructor\u001b[0m\u001b[1;33m(\u001b[0m\u001b[0mobj\u001b[0m\u001b[1;33m.\u001b[0m\u001b[0m_data\u001b[0m\u001b[1;33m.\u001b[0m\u001b[0misna\u001b[0m\u001b[1;33m(\u001b[0m\u001b[0mfunc\u001b[0m\u001b[1;33m=\u001b[0m\u001b[0misna\u001b[0m\u001b[1;33m)\u001b[0m\u001b[1;33m)\u001b[0m\u001b[1;33m\u001b[0m\u001b[0m\n",
      "\u001b[1;32mC:\\ProgramData\\Anaconda3\\lib\\site-packages\\pandas\\core\\dtypes\\missing.py\u001b[0m in \u001b[0;36m_isna_ndarraylike\u001b[1;34m(obj)\u001b[0m\n\u001b[0;32m    151\u001b[0m         \u001b[0mresult\u001b[0m \u001b[1;33m=\u001b[0m \u001b[0mvalues\u001b[0m\u001b[1;33m.\u001b[0m\u001b[0mview\u001b[0m\u001b[1;33m(\u001b[0m\u001b[1;34m'i8'\u001b[0m\u001b[1;33m)\u001b[0m \u001b[1;33m==\u001b[0m \u001b[0miNaT\u001b[0m\u001b[1;33m\u001b[0m\u001b[0m\n\u001b[0;32m    152\u001b[0m     \u001b[1;32melse\u001b[0m\u001b[1;33m:\u001b[0m\u001b[1;33m\u001b[0m\u001b[0m\n\u001b[1;32m--> 153\u001b[1;33m         \u001b[0mresult\u001b[0m \u001b[1;33m=\u001b[0m \u001b[0mnp\u001b[0m\u001b[1;33m.\u001b[0m\u001b[0misnan\u001b[0m\u001b[1;33m(\u001b[0m\u001b[0mvalues\u001b[0m\u001b[1;33m)\u001b[0m\u001b[1;33m\u001b[0m\u001b[0m\n\u001b[0m\u001b[0;32m    154\u001b[0m \u001b[1;33m\u001b[0m\u001b[0m\n\u001b[0;32m    155\u001b[0m     \u001b[1;31m# box\u001b[0m\u001b[1;33m\u001b[0m\u001b[1;33m\u001b[0m\u001b[0m\n",
      "\u001b[1;31mKeyboardInterrupt\u001b[0m: "
>>>>>>> a31cd396f0ffb961202d10f450ab912417ac233d
     ]
    }
   ],
   "source": [
    "cwd = os.getcwd() #get current working directory\n",
    "os.chdir('D:\\Jupyter\\KetiakProject\\src\\sorted files')\n",
    "import glob\n",
    "filenames = glob.glob('sort_by_meta*.csv')\n",
    "random_frame = pd.DataFrame()\n",
    "df_list = []\n",
    "amount = 5\n",
    "\n",
    "print(filenames[10])\n",
    "dataframe = pd.read_csv(filenames[10])\n",
    "df_random_sample1 = random_sampling(dataframe, amount)\n",
    "df_random_sample1\n",
    "\n",
    "#print(filenames[15])\n",
    "#dataframe = pd.read_csv(filenames[15])\n",
    "#df_random_sample2 = random_sampling(dataframe, amount)\n",
    "#df_random_sample2\n",
    "\n",
    "os.chdir(cwd)    "
   ]
  },
  {
   "cell_type": "code",
   "execution_count": null,
>>>>>>> 0d4ccf8d2e810056d8f602443abb8101dc2b2a17
   "metadata": {},
   "outputs": [],
   "source": [
    "cwd = os.getcwd() #get current working directory\n",
    "os.chdir('D:\\Jupyter\\KetiakProject\\src\\sorted files')\n",
    "import glob\n",
    "filenames = glob.glob('sort_by_meta*.csv')\n",
    "df_list = []\n",
    "amount = 5\n",
    "\n",
    "for i in range(len(filenames)):\n",
    "    #print(filenames[i])\n",
    "    dataframe = pd.read_csv(filenames[i])\n",
    "    df_random_sample = random_sampling(dataframe, amount)\n",
    "    df_list.append(df_random_sample)\n",
    "    random_frame = pd.concat(df_list, ignore_index=False)\n",
    "    #print('________________________________________________________________')\n",
    "\n",
    "random_frame\n",
    "random_frame.to_csv('sorted_metadata.csv', index=False)\n",
    "\n",
    "os.chdir(cwd)    "
   ]
  },
  {
   "cell_type": "code",
<<<<<<< HEAD
   "execution_count": 163,
=======
<<<<<<< HEAD
   "execution_count": 26,
=======
   "execution_count": null,
>>>>>>> a31cd396f0ffb961202d10f450ab912417ac233d
>>>>>>> 0d4ccf8d2e810056d8f602443abb8101dc2b2a17
   "metadata": {},
   "outputs": [
    {
     "data": {
      "application/vnd.jupyter.widget-view+json": {
       "model_id": "d59c56a59abf4bd4bb12db3b725baac7",
       "version_major": 2,
       "version_minor": 0
      },
      "text/plain": [
       "HBox(children=(IntProgress(value=0, max=5), HTML(value='')))"
      ]
     },
     "metadata": {},
     "output_type": "display_data"
    },
    {
     "name": "stdout",
     "output_type": "stream",
     "text": [
      "\n"
     ]
    },
    {
     "ename": "NameError",
     "evalue": "name 'new_dir' is not defined",
     "output_type": "error",
     "traceback": [
      "\u001b[1;31m---------------------------------------------------------------------------\u001b[0m",
      "\u001b[1;31mNameError\u001b[0m                                 Traceback (most recent call last)",
      "\u001b[1;32m<ipython-input-163-65899f03d29f>\u001b[0m in \u001b[0;36m<module>\u001b[1;34m()\u001b[0m\n\u001b[0;32m      4\u001b[0m \u001b[1;31m#Ambil data dari EBI\u001b[0m\u001b[1;33m\u001b[0m\u001b[1;33m\u001b[0m\u001b[0m\n\u001b[0;32m      5\u001b[0m \u001b[1;32mfor\u001b[0m \u001b[0mi\u001b[0m \u001b[1;32min\u001b[0m \u001b[0mtqdm_notebook\u001b[0m\u001b[1;33m(\u001b[0m\u001b[0mdf_result_m_back\u001b[0m\u001b[1;33m.\u001b[0m\u001b[0mindex\u001b[0m\u001b[1;33m)\u001b[0m\u001b[1;33m:\u001b[0m\u001b[1;33m\u001b[0m\u001b[0m\n\u001b[1;32m----> 6\u001b[1;33m     \u001b[0mos\u001b[0m\u001b[1;33m.\u001b[0m\u001b[0mchdir\u001b[0m\u001b[1;33m(\u001b[0m\u001b[0mnew_dir\u001b[0m\u001b[1;33m)\u001b[0m \u001b[1;31m#pindah ke folder output\u001b[0m\u001b[1;33m\u001b[0m\u001b[0m\n\u001b[0m\u001b[0;32m      7\u001b[0m     \u001b[0mfilename\u001b[0m \u001b[1;33m=\u001b[0m \u001b[0mdf_result_m_back\u001b[0m\u001b[1;33m.\u001b[0m\u001b[0mloc\u001b[0m\u001b[1;33m[\u001b[0m\u001b[0mi\u001b[0m\u001b[1;33m,\u001b[0m \u001b[1;34m\"Sample_ID\"\u001b[0m\u001b[1;33m]\u001b[0m\u001b[1;33m+\u001b[0m\u001b[1;34m'.biom'\u001b[0m\u001b[1;33m\u001b[0m\u001b[0m\n\u001b[0;32m      8\u001b[0m     \u001b[1;32mif\u001b[0m \u001b[1;32mnot\u001b[0m \u001b[0mos\u001b[0m\u001b[1;33m.\u001b[0m\u001b[0mpath\u001b[0m\u001b[1;33m.\u001b[0m\u001b[0misfile\u001b[0m\u001b[1;33m(\u001b[0m\u001b[0mfilename\u001b[0m\u001b[1;33m)\u001b[0m\u001b[1;33m:\u001b[0m\u001b[1;33m\u001b[0m\u001b[0m\n",
      "\u001b[1;31mNameError\u001b[0m: name 'new_dir' is not defined"
     ]
    }
   ],
   "source": [
    "extension = 'JSON Biom'\n",
    "df_result_m_back = pd.read_csv('ujicoba.csv')\n",
    "\n",
    "#Ambil data dari EBI\n",
    "for i in tqdm_notebook(df_result_m_back.index):\n",
    "    os.chdir(new_dir) #pindah ke folder output\n",
    "    filename = df_result_m_back.loc[i, \"Sample_ID\"]+'.biom'\n",
    "    if not os.path.isfile(filename):\n",
    "        link = get_analysis_result(df_result_m_back.loc[i, \"Run_ID\"], extension)\n",
    "        with open(filename, 'wb') as f:\n",
    "            c = pycurl.Curl()\n",
    "            c.setopt(c.URL, link)\n",
    "            c.setopt(c.WRITEDATA, f)\n",
    "            c.perform()\n",
    "            c.close()\n",
    "    os.chdir(cwd) #balik ke folder semula"
   ]
  },
  {
   "cell_type": "code",
   "execution_count": null,
   "metadata": {},
   "outputs": [],
   "source": []
  },
  {
   "cell_type": "markdown",
   "metadata": {},
   "source": [
    "### References\n",
    "---\n",
    "<a id='ref1'></a>\n",
    "1. Alex L Mitchell, Maxim Scheremetjew, Hubert Denise, Simon Potter, Aleksandra Tarkowska, Matloob Qureshi, Gustavo A Salazar, Sebastien Pesseat, Miguel A Boland, Fiona M I Hunter, Petra ten Hoopen, Blaise Alako, Clara Amid, Darren J Wilkinson, Thomas P Curtis, Guy Cochrane, Robert D Finn; EBI Metagenomics in 2017: enriching the analysis of microbial communities, from sequence reads to assemblies, Nucleic Acids Research, Volume 46, Issue D1, 4 January 2018, Pages D726–D735, https://doi.org/10.1093/nar/gkx967"
   ]
  },
  {
   "cell_type": "code",
   "execution_count": null,
   "metadata": {},
   "outputs": [],
   "source": []
  }
 ],
 "metadata": {
  "kernelspec": {
   "display_name": "Python 3",
   "language": "python",
   "name": "python3"
  },
  "language_info": {
   "codemirror_mode": {
    "name": "ipython",
    "version": 3
   },
   "file_extension": ".py",
   "mimetype": "text/x-python",
   "name": "python",
   "nbconvert_exporter": "python",
   "pygments_lexer": "ipython3",
   "version": "3.6.0"
  }
 },
 "nbformat": 4,
 "nbformat_minor": 2
}
