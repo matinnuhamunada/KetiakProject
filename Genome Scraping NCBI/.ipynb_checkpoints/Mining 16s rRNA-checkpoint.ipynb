{
 "cells": [
  {
   "cell_type": "code",
   "execution_count": 21,
   "metadata": {},
   "outputs": [],
   "source": [
    "from Bio.SeqRecord import SeqRecord\n",
    "from Bio.Alphabet import IUPAC\n",
    "from Bio import SeqIO\n",
    "from pandas import DataFrame\n",
    "import pandas as pd\n",
    "import os, sys\n",
    "from tqdm import tqdm_notebook"
   ]
  },
  {
   "cell_type": "code",
   "execution_count": 22,
   "metadata": {},
   "outputs": [],
   "source": [
    "def find_rRNA(filename):\n",
    "    rRNAs = []\n",
    "    handle = open(filename)\n",
    "    for seq_record in SeqIO.parse(filename, \"genbank\"):\n",
    "        for gene in seq_record.features:\n",
    "            if gene.type==\"rRNA\":\n",
    "                if 'product' in gene.qualifiers:\n",
    "                    if '16S' in gene.qualifiers['product'][0]:\n",
    "                        start = gene.location.nofuzzy_start\n",
    "                        end = gene.location.nofuzzy_end\n",
    "                        if 'db_xref' in gene.qualifiers:\n",
    "                            gi=[]\n",
    "                            gi=str(gene.qualifiers['db_xref'])\n",
    "                            gi=gi.split(\":\")[1]\n",
    "                            gi=gi.split(\"'\")[0]\n",
    "                            #print (\">GeneId|%s|16S rRNA|%s\\n%s\" % (gi,seq_record.description,seq_record.seq[start:end]))\n",
    "                            #record = SeqRecord(Seq_record.seq[start:end], id = \"Id|%s|GeneId|%s|16S rRNA|%s\" % (seq_record.id, gi, seq_record.description))\n",
    "                            record = SeqRecord(seq_record.seq[start:end], id = \"%s |%s |%s\" % (seq_record.id, seq_record.annotations[\"organism\"], seq_record.annotations[\"taxonomy\"]))\n",
    "                            rRNAs.append(record)\n",
    "                        else:\n",
    "                            #print (\">GeneId|NoGenID|16S rRNA|%s\\n%s\" % (seq_record.description,seq_record.seq[start:end]))\n",
    "                            #record = SeqRecord(seq_record.seq[start:end], id = \"Id|%s|GeneId|NoGenID|16S rRNA|%s\" % (seq_record.id, seq_record.description))\n",
    "                            record = SeqRecord(seq_record.seq[start:end], id = \"%s |%s |%s\" % (seq_record.id, seq_record.annotations[\"organism\"], seq_record.annotations[\"taxonomy\"]))\n",
    "                            rRNAs.append(record)\n",
    "    return rRNAs"
   ]
  },
  {
   "cell_type": "code",
   "execution_count": 33,
   "metadata": {},
   "outputs": [
    {
     "data": {
      "application/vnd.jupyter.widget-view+json": {
       "model_id": "45aee184e7da4bf88e0b1a1fef227be7",
       "version_major": 2,
       "version_minor": 0
      },
      "text/plain": [
       "HBox(children=(IntProgress(value=0, max=10), HTML(value='')))"
      ]
     },
     "metadata": {},
     "output_type": "display_data"
    },
    {
     "name": "stdout",
     "output_type": "stream",
     "text": [
      "E:\\Jupyter_Lab\\KetiakProject\\Genome Scraping NCBI\\Result\\Cutibacterium acnes\n",
      "E:\\Jupyter_Lab\\KetiakProject\\Genome Scraping NCBI\\Result\\Cutibacterium acnes\\bacteria-0d831a99-8910-49d3-a1da-d0cad3cd7818\\input\n",
      "['NC_017534.1.gbk']\n",
      "E:\\Jupyter_Lab\\KetiakProject\\Genome Scraping NCBI\\Result\\Cutibacterium acnes\\bacteria-2c2e55ab-be74-42ac-9723-c4f2f2d7c969\\input\n",
      "['NC_017535.1.gbk']\n",
      "E:\\Jupyter_Lab\\KetiakProject\\Genome Scraping NCBI\\Result\\Cutibacterium acnes\\bacteria-d60d4f59-db34-4322-86aa-8a7761637ded\\input\n",
      "['NC_006085.1.gbk']\n",
      "E:\\Jupyter_Lab\\KetiakProject\\Genome Scraping NCBI\\Result\\Cutibacterium acnes\\bacteria-e262a1d6-8929-4950-8b7a-22e19a740944\\input\n",
      "['NC_017550.1.gbk']\n",
      "E:\\Jupyter_Lab\\KetiakProject\\Genome Scraping NCBI\\Result\\Cutibacterium acnes\\bacteria-ee59b24d-c1e1-4d9e-8c34-99538a1ea044\\input\n",
      "['NC_014039.1.gbk']\n",
      "E:\\Jupyter_Lab\\KetiakProject\\Genome Scraping NCBI\\Result\\Staphylococcus epidermidis\n",
      "E:\\Jupyter_Lab\\KetiakProject\\Genome Scraping NCBI\\Result\\Corynebacterium tuberculostearicum\n",
      "E:\\Jupyter_Lab\\KetiakProject\\Genome Scraping NCBI\\Result\\Staphylococcus capitis\n",
      "E:\\Jupyter_Lab\\KetiakProject\\Genome Scraping NCBI\\Result\\Corynebacterium simulans\n",
      "E:\\Jupyter_Lab\\KetiakProject\\Genome Scraping NCBI\\Result\\Streptococcus mitis\n",
      "E:\\Jupyter_Lab\\KetiakProject\\Genome Scraping NCBI\\Result\\Streptococcus mitis\\bacteria-3e94d18d-c31a-455e-8d6a-43f0df8363f1\\input\n",
      "['NC_013853.1.gbk']\n",
      "E:\\Jupyter_Lab\\KetiakProject\\Genome Scraping NCBI\\Result\\Streptococcus mitis\\bacteria-81a30bf0-edea-4e88-99b8-dbc7e1c5e8d4\\input\n",
      "['NZ_CP014326.1.gbk']\n",
      "E:\\Jupyter_Lab\\KetiakProject\\Genome Scraping NCBI\\Result\\Streptococcus mitis\\bacteria-bedba1e2-4651-4976-a912-3475f4496424\\input\n",
      "['NZ_CP012646.1.gbk']\n",
      "E:\\Jupyter_Lab\\KetiakProject\\Genome Scraping NCBI\\Result\\Staphylococcus hominis\n",
      "E:\\Jupyter_Lab\\KetiakProject\\Genome Scraping NCBI\\Result\\Staphylococcus hominis\\bacteria-1b761747-c243-40b1-9255-665fbf7ebea6\\input\n",
      "['NZ_LT963442.1.gbk']\n",
      "E:\\Jupyter_Lab\\KetiakProject\\Genome Scraping NCBI\\Result\\Staphylococcus hominis\\bacteria-da5f800b-559e-4a9b-8179-2a479a792c73\\input\n",
      "['NZ_CP020618.1.gbk']\n",
      "E:\\Jupyter_Lab\\KetiakProject\\Genome Scraping NCBI\\Result\\Staphylococcus hominis\\bacteria-f98b495a-21a4-47fb-9a35-ba3e3d9d17a3\\input\n",
      "['NZ_CP014107.1.gbk']\n",
      "E:\\Jupyter_Lab\\KetiakProject\\Genome Scraping NCBI\\Result\\Staphylococcus hominis\\bacteria-f9e85a7f-cf7d-4343-a798-e044a0bf35b1\\input\n",
      "['NZ_LT963438.1.gbk']\n",
      "E:\\Jupyter_Lab\\KetiakProject\\Genome Scraping NCBI\\Result\\Corynebacterium aurimucosum\n",
      "E:\\Jupyter_Lab\\KetiakProject\\Genome Scraping NCBI\\Result\\Corynebacterium kroppenstedtii\n",
      "E:\\Jupyter_Lab\\KetiakProject\\Genome Scraping NCBI\\Result\\Corynebacterium kroppenstedtii\\bacteria-972454e9-640c-425f-873b-0f1be0541491\\input\n",
      "['NC_012704.1.gbk']\n",
      "\n"
     ]
    }
   ],
   "source": [
    "cwd = os.getcwd()\n",
    "os.chdir(cwd)\n",
    "#os.chdir('E:/Jupyter_Lab/KetiakProject/Genome Scraping NCBI/')\n",
    "species = pd.read_csv('02_NCBI_Result_WGS.csv')\n",
    "for i in tqdm_notebook(range(len(species))):\n",
    "    try:\n",
    "        refseq = pd.read_csv('Refseq_'+species.loc[i,\"Genus\"]+'_'+species.loc[i,\"Species\"]+'.csv')\n",
    "        #print(os.getcwd())\n",
    "        #os.chdir(\"E:/Jupyter_Lab/KetiakProject/Genome Scraping NCBI/Result/\"+species.loc[i,\"Genus\"]+\" \"+species.loc[i,\"Species\"]+\"/\")\n",
    "        os.chdir(cwd+\"/Result/\"+species.loc[i,\"Genus\"]+\" \"+species.loc[i,\"Species\"]+\"/\")\n",
    "        print(os.getcwd())\n",
    "        result = os.listdir()\n",
    "        for x in range(len(result)):\n",
    "            if 'bacteria' in result[x]:\n",
    "                #print (result[x])\n",
    "                os.chdir(result[x]+\"/input/\")\n",
    "                print(os.getcwd())\n",
    "                result2 = os.listdir()\n",
    "                if '.gbk' in result2[0]:\n",
    "                    print(result2)\n",
    "                    rRNA = find_rRNA(result2[0]) \n",
    "                os.chdir(\"../..\")\n",
    "                SeqIO.write(rRNA, '16s_'+result2[0]+'.fasta', 'fasta')\n",
    "            else:        \n",
    "                #os.chdir('E:/Jupyter_Lab/KetiakProject/Genome Scraping NCBI/')                           \n",
    "                os.chdir(cwd)\n",
    "    except OSError:\n",
    "        #os.chdir('E:/Jupyter_Lab/KetiakProject/Genome Scraping NCBI/')                \n",
    "        os.chdir(cwd)\n",
    "        pass"
   ]
  },
  {
   "cell_type": "code",
   "execution_count": null,
   "metadata": {},
   "outputs": [],
   "source": []
  }
 ],
 "metadata": {
  "kernelspec": {
   "display_name": "Python 3",
   "language": "python",
   "name": "python3"
  },
  "language_info": {
   "codemirror_mode": {
    "name": "ipython",
    "version": 3
   },
   "file_extension": ".py",
   "mimetype": "text/x-python",
   "name": "python",
   "nbconvert_exporter": "python",
   "pygments_lexer": "ipython3",
   "version": "3.6.0"
  }
 },
 "nbformat": 4,
 "nbformat_minor": 2
}
