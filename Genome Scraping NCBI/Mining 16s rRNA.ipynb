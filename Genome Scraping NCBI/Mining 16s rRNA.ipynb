{
 "cells": [
  {
   "cell_type": "code",
   "execution_count": 166,
   "metadata": {},
   "outputs": [],
   "source": [
    "from Bio.SeqRecord import SeqRecord\n",
    "from Bio.Alphabet import IUPAC\n",
    "from Bio import SeqIO\n",
    "from Bio import AlignIO\n",
    "from pandas import DataFrame\n",
    "import pandas as pd\n",
    "import os, sys\n",
    "from tqdm import tqdm_notebook"
   ]
  },
  {
   "cell_type": "code",
   "execution_count": 167,
   "metadata": {},
   "outputs": [],
   "source": [
    "def find_rRNA(filename):\n",
    "    rRNAs = []\n",
    "    handle = open(filename)\n",
    "    for seq_record in SeqIO.parse(filename, \"genbank\"):\n",
    "        for gene in seq_record.features:\n",
    "            if gene.type==\"rRNA\":\n",
    "                if 'product' in gene.qualifiers:\n",
    "                    if '16S' in gene.qualifiers['product'][0]:\n",
    "                        start = gene.location.nofuzzy_start\n",
    "                        end = gene.location.nofuzzy_end\n",
    "                        if 'db_xref' in gene.qualifiers:\n",
    "                            gi=[]\n",
    "                            gi=str(gene.qualifiers['db_xref'])\n",
    "                            gi=gi.split(\":\")[1]\n",
    "                            gi=gi.split(\"'\")[0]\n",
    "                            #print (\">GeneId|%s|16S rRNA|%s\\n%s\" % (gi,seq_record.description,seq_record.seq[start:end]))\n",
    "                            #record = SeqRecord(Seq_record.seq[start:end], id = \"Id|%s|GeneId|%s|16S rRNA|%s\" % (seq_record.id, gi, seq_record.description))\n",
    "                            record = SeqRecord(seq_record.seq[start:end], id = \"%s |%s |%s\" % (seq_record.id, seq_record.annotations[\"organism\"], seq_record.annotations[\"taxonomy\"]))\n",
    "                            rRNAs.append(record)\n",
    "                        else:\n",
    "                            #print (\">GeneId|NoGenID|16S rRNA|%s\\n%s\" % (seq_record.description,seq_record.seq[start:end]))\n",
    "                            #record = SeqRecord(seq_record.seq[start:end], id = \"Id|%s|GeneId|NoGenID|16S rRNA|%s\" % (seq_record.id, seq_record.description))\n",
    "                            record = SeqRecord(seq_record.seq[start:end], id = \"%s |%s |%s\" % (seq_record.id, seq_record.annotations[\"organism\"], seq_record.annotations[\"taxonomy\"]))\n",
    "                            rRNAs.append(record)\n",
    "    return rRNAs"
   ]
  },
  {
   "cell_type": "code",
   "execution_count": 168,
   "metadata": {},
   "outputs": [],
   "source": [
    "\"\"\"\n",
    "__author__ = 'M. Chimal & Pauley'\n",
    "Fis Manuel Chimal, Instituto de Ciencias Nucleares,UNAM, mjchimal@gmail.com\n",
    "MSc Paulina Ponfifes, Facultad de Ciencias, UNAM, pontifes.pa@gmail.com\n",
    "\"\"\"\n",
    "\"\"\"\n",
    "This script drops duplicate sequence records in a fasta file, keeping only unique records. \n",
    "Uses Biopy modules \n",
    "\"\"\"\n",
    "\n",
    "def drop_duplicates_fasta(f_fasta,unique=False,separator='&'):\n",
    "    \"\"\"\n",
    "    Drops duplicate sequence records in a fasta file, keeping only unique records\n",
    "    Parametes\n",
    "    ---------\n",
    "    f_fasta : str\n",
    "    fasta file name\n",
    "    unique  : bool\n",
    "    True  := drop duplicate sequence records\n",
    "    False := creates unique ids for all records\n",
    "    separator: str\n",
    "    if user sets \"unique\" argument to True, it will add an & + index (by default) to all records. This makes every\n",
    "    record unique\n",
    "    Output\n",
    "    fasta file  \n",
    "    \"\"\"\n",
    "    if unique == False:\n",
    "        d_seq = {record.id:record for record in SeqIO.parse(f_fasta,'fasta')}\n",
    "        pass\n",
    "    elif unique == True:\n",
    "        d_seq  ={'%s%s%i'%(record.id.strip(),separator,i):record for i,record in enumerate(SeqIO.parse(f_fasta,'fasta'))}\n",
    "        pass \n",
    "    SeqIO.write([SeqRecord(record.seq ,id=record.id,name=record.name,description=record.description) for key,record in d_seq.items()],'%s_clean'%(f_fasta),'fasta')\n",
    "    print (\"It's done\")\n",
    "    return 1"
   ]
  },
  {
   "cell_type": "code",
   "execution_count": 184,
   "metadata": {},
   "outputs": [
    {
     "data": {
      "application/vnd.jupyter.widget-view+json": {
       "model_id": "090cc52e34ac4b9bbc513ac1e2ababb5",
       "version_major": 2,
       "version_minor": 0
      },
      "text/plain": [
       "HBox(children=(IntProgress(value=0, max=10), HTML(value='')))"
      ]
     },
     "metadata": {},
     "output_type": "display_data"
    },
    {
     "name": "stdout",
     "output_type": "stream",
     "text": [
      "NC_017534.1.gbk\n",
      "E:\\Jupyter_Lab\\KetiakProject\\Genome Scraping NCBI\\Result\\Cutibacterium acnes\n",
      "NC_017535.1.gbk\n",
      "E:\\Jupyter_Lab\\KetiakProject\\Genome Scraping NCBI\\Result\\Cutibacterium acnes\n",
      "NC_006085.1.gbk\n",
      "E:\\Jupyter_Lab\\KetiakProject\\Genome Scraping NCBI\\Result\\Cutibacterium acnes\n",
      "NC_017550.1.gbk\n",
      "E:\\Jupyter_Lab\\KetiakProject\\Genome Scraping NCBI\\Result\\Cutibacterium acnes\n",
      "NC_014039.1.gbk\n",
      "E:\\Jupyter_Lab\\KetiakProject\\Genome Scraping NCBI\\Result\\Cutibacterium acnes\n",
      "NZ_CP020463.1.gbk\n",
      "E:\\Jupyter_Lab\\KetiakProject\\Genome Scraping NCBI\\Result\\Staphylococcus epidermidis\n",
      "NC_004461.1.gbk\n",
      "E:\\Jupyter_Lab\\KetiakProject\\Genome Scraping NCBI\\Result\\Staphylococcus epidermidis\n",
      "NC_002976.3.gbk\n",
      "E:\\Jupyter_Lab\\KetiakProject\\Genome Scraping NCBI\\Result\\Staphylococcus epidermidis\n",
      "NZ_HG813242.1.gbk\n",
      "E:\\Jupyter_Lab\\KetiakProject\\Genome Scraping NCBI\\Result\\Staphylococcus epidermidis\n",
      "NZ_CP009046.1.gbk\n",
      "E:\\Jupyter_Lab\\KetiakProject\\Genome Scraping NCBI\\Result\\Staphylococcus epidermidis\n",
      "NZ_AP014956.1.gbk\n",
      "E:\\Jupyter_Lab\\KetiakProject\\Genome Scraping NCBI\\Result\\Staphylococcus capitis\n",
      "NZ_CP023966.1.gbk\n",
      "E:\\Jupyter_Lab\\KetiakProject\\Genome Scraping NCBI\\Result\\Staphylococcus capitis\n",
      "NZ_CP007601.1.gbk\n",
      "E:\\Jupyter_Lab\\KetiakProject\\Genome Scraping NCBI\\Result\\Staphylococcus capitis\n",
      "NZ_CP014634.1.gbk\n",
      "E:\\Jupyter_Lab\\KetiakProject\\Genome Scraping NCBI\\Result\\Corynebacterium simulans\n",
      "NZ_CP014635.1.gbk\n",
      "E:\\Jupyter_Lab\\KetiakProject\\Genome Scraping NCBI\\Result\\Corynebacterium simulans\n",
      "NC_013853.1.gbk\n",
      "E:\\Jupyter_Lab\\KetiakProject\\Genome Scraping NCBI\\Result\\Streptococcus mitis\n",
      "NZ_CP014326.1.gbk\n",
      "E:\\Jupyter_Lab\\KetiakProject\\Genome Scraping NCBI\\Result\\Streptococcus mitis\n",
      "NZ_CP012646.1.gbk\n",
      "E:\\Jupyter_Lab\\KetiakProject\\Genome Scraping NCBI\\Result\\Streptococcus mitis\n",
      "NZ_LT963442.1.gbk\n",
      "E:\\Jupyter_Lab\\KetiakProject\\Genome Scraping NCBI\\Result\\Staphylococcus hominis\n",
      "NZ_CP020618.1.gbk\n",
      "E:\\Jupyter_Lab\\KetiakProject\\Genome Scraping NCBI\\Result\\Staphylococcus hominis\n",
      "NZ_CP014107.1.gbk\n",
      "E:\\Jupyter_Lab\\KetiakProject\\Genome Scraping NCBI\\Result\\Staphylococcus hominis\n",
      "NZ_LT963438.1.gbk\n",
      "E:\\Jupyter_Lab\\KetiakProject\\Genome Scraping NCBI\\Result\\Staphylococcus hominis\n",
      "NC_012590.1.gbk\n",
      "E:\\Jupyter_Lab\\KetiakProject\\Genome Scraping NCBI\\Result\\Corynebacterium aurimucosum\n",
      "NC_012704.1.gbk\n",
      "E:\\Jupyter_Lab\\KetiakProject\\Genome Scraping NCBI\\Result\\Corynebacterium kroppenstedtii\n",
      "ERROR_Corynebacterium amycolatum\n",
      "\n"
     ]
    }
   ],
   "source": [
    "#os.chdir('E:/Jupyter_Lab/KetiakProject/Genome Scraping NCBI/')\n",
    "cwd = os.getcwd()\n",
    "id = pd.read_csv('02_NCBI_Result_WGS.csv')\n",
    "for i in tqdm_notebook(range(len(id))):    \n",
    "    try:\n",
    "        genus = id.loc[i, \"Genus\"]\n",
    "        species = id.loc[i, \"Species\"]\n",
    "        refseq = pd.read_csv('Refseq_'+genus+'_'+species+'.csv')\n",
    "        os.chdir(cwd+\"/Result/\"+genus+\" \"+species)\n",
    "        #_______________________________________________________\n",
    "        cwd2 = (os.getcwd())\n",
    "        result = os.listdir()\n",
    "        for z in range(len(result)):\n",
    "            #print(result[z])\n",
    "            if 'bacteria' in result[z]:\n",
    "                os.chdir(result[z]+\"/input/\")\n",
    "                #___________________________________________________\n",
    "                dir_ref = os.listdir()\n",
    "                for y in range(len(dir_ref)):\n",
    "                    if '.gbk' in dir_ref[y]:\n",
    "                        print (dir_ref[y])\n",
    "                        rRNA = find_rRNA(dir_ref[y])\n",
    "                        #print(rRNA)\n",
    "                        os.chdir(cwd2)\n",
    "                        #____________________________________________\n",
    "                        SeqIO.write(rRNA, '16s_'+dir_ref[y]+'.fasta', 'fasta')\n",
    "                #print('_____________________________________________')\n",
    "                os.chdir(cwd2)\n",
    "                print(os.getcwd())\n",
    "            os.chdir(cwd2)\n",
    "        os.chdir(cwd)\n",
    "    except OSError:\n",
    "        print('ERROR_'+genus+' '+species)\n",
    "        os.chdir(cwd)\n",
    "        #pass"
   ]
  },
  {
   "cell_type": "code",
   "execution_count": 185,
   "metadata": {},
   "outputs": [
    {
     "data": {
      "application/vnd.jupyter.widget-view+json": {
       "model_id": "265fc14e94ea4fb287d96d6533a5515c",
       "version_major": 2,
       "version_minor": 0
      },
      "text/plain": [
       "HBox(children=(IntProgress(value=0, max=10), HTML(value='')))"
      ]
     },
     "metadata": {},
     "output_type": "display_data"
    },
    {
     "name": "stdout",
     "output_type": "stream",
     "text": [
      "16s_NC_006085.1.gbk.fasta\n",
      "E:\\Jupyter_Lab\\KetiakProject\\Genome Scraping NCBI\\Result\\Cutibacterium acnes\n",
      "16s_NC_014039.1.gbk.fasta\n",
      "E:\\Jupyter_Lab\\KetiakProject\\Genome Scraping NCBI\\Result\\Cutibacterium acnes\n",
      "16s_NC_017534.1.gbk.fasta\n",
      "E:\\Jupyter_Lab\\KetiakProject\\Genome Scraping NCBI\\Result\\Cutibacterium acnes\n",
      "16s_NC_017535.1.gbk.fasta\n",
      "E:\\Jupyter_Lab\\KetiakProject\\Genome Scraping NCBI\\Result\\Cutibacterium acnes\n",
      "16s_NC_017550.1.gbk.fasta\n",
      "E:\\Jupyter_Lab\\KetiakProject\\Genome Scraping NCBI\\Result\\Cutibacterium acnes\n",
      "16s_NC_002976.3.gbk.fasta\n",
      "E:\\Jupyter_Lab\\KetiakProject\\Genome Scraping NCBI\\Result\\Staphylococcus epidermidis\n",
      "16s_NC_004461.1.gbk.fasta\n",
      "E:\\Jupyter_Lab\\KetiakProject\\Genome Scraping NCBI\\Result\\Staphylococcus epidermidis\n",
      "16s_NC_012704.1.gbk.fasta\n",
      "E:\\Jupyter_Lab\\KetiakProject\\Genome Scraping NCBI\\Result\\Staphylococcus epidermidis\n",
      "16s_NZ_CP009046.1.gbk.fasta\n",
      "E:\\Jupyter_Lab\\KetiakProject\\Genome Scraping NCBI\\Result\\Staphylococcus epidermidis\n",
      "16s_NZ_CP020463.1.gbk.fasta\n",
      "E:\\Jupyter_Lab\\KetiakProject\\Genome Scraping NCBI\\Result\\Staphylococcus epidermidis\n",
      "16s_NZ_HG813242.1.gbk.fasta\n",
      "E:\\Jupyter_Lab\\KetiakProject\\Genome Scraping NCBI\\Result\\Staphylococcus epidermidis\n",
      "16s_NZ_AP014956.1.gbk.fasta\n",
      "E:\\Jupyter_Lab\\KetiakProject\\Genome Scraping NCBI\\Result\\Staphylococcus capitis\n",
      "16s_NZ_CP007601.1.gbk.fasta\n",
      "E:\\Jupyter_Lab\\KetiakProject\\Genome Scraping NCBI\\Result\\Staphylococcus capitis\n",
      "16s_NZ_CP023966.1.gbk.fasta\n",
      "E:\\Jupyter_Lab\\KetiakProject\\Genome Scraping NCBI\\Result\\Staphylococcus capitis\n",
      "16s_NZ_CP014634.1.gbk.fasta\n",
      "E:\\Jupyter_Lab\\KetiakProject\\Genome Scraping NCBI\\Result\\Corynebacterium simulans\n",
      "16s_NZ_CP014635.1.gbk.fasta\n",
      "E:\\Jupyter_Lab\\KetiakProject\\Genome Scraping NCBI\\Result\\Corynebacterium simulans\n",
      "16s_NC_013853.1.gbk.fasta\n",
      "E:\\Jupyter_Lab\\KetiakProject\\Genome Scraping NCBI\\Result\\Streptococcus mitis\n",
      "16s_NZ_CP012646.1.gbk.fasta\n",
      "E:\\Jupyter_Lab\\KetiakProject\\Genome Scraping NCBI\\Result\\Streptococcus mitis\n",
      "16s_NZ_CP014326.1.gbk.fasta\n",
      "E:\\Jupyter_Lab\\KetiakProject\\Genome Scraping NCBI\\Result\\Streptococcus mitis\n",
      "16s_NZ_CP014107.1.gbk.fasta\n",
      "E:\\Jupyter_Lab\\KetiakProject\\Genome Scraping NCBI\\Result\\Staphylococcus hominis\n",
      "16s_NZ_CP020618.1.gbk.fasta\n",
      "E:\\Jupyter_Lab\\KetiakProject\\Genome Scraping NCBI\\Result\\Staphylococcus hominis\n",
      "16s_NZ_LT963438.1.gbk.fasta\n",
      "E:\\Jupyter_Lab\\KetiakProject\\Genome Scraping NCBI\\Result\\Staphylococcus hominis\n",
      "16s_NZ_LT963442.1.gbk.fasta\n",
      "E:\\Jupyter_Lab\\KetiakProject\\Genome Scraping NCBI\\Result\\Staphylococcus hominis\n",
      "16s_NC_012590.1.gbk.fasta\n",
      "E:\\Jupyter_Lab\\KetiakProject\\Genome Scraping NCBI\\Result\\Corynebacterium aurimucosum\n",
      "16s_NC_012704.1.gbk.fasta\n",
      "E:\\Jupyter_Lab\\KetiakProject\\Genome Scraping NCBI\\Result\\Corynebacterium kroppenstedtii\n",
      "ERROR_Corynebacterium amycolatum\n",
      "\n"
     ]
    }
   ],
   "source": [
    "#os.chdir('E:/Jupyter_Lab/KetiakProject/Genome Scraping NCBI/')\n",
    "cwd = os.getcwd()\n",
    "id = pd.read_csv('02_NCBI_Result_WGS.csv')\n",
    "for i in tqdm_notebook(range(len(id))):    \n",
    "    try:\n",
    "        genus = id.loc[i, \"Genus\"]\n",
    "        species = id.loc[i, \"Species\"]\n",
    "        refseq = pd.read_csv('Refseq_'+genus+'_'+species+'.csv')\n",
    "        os.chdir(cwd+\"/Result/\"+genus+\" \"+species)\n",
    "        #_______________________________________________________\n",
    "        cwd2 = (os.getcwd())\n",
    "        result = os.listdir()\n",
    "        for z in range(len(result)):\n",
    "            #print(result[z])\n",
    "            if '.gbk.fasta' in result[z]:\n",
    "                print(result[z])\n",
    "                os.chdir(cwd2)\n",
    "                print(os.getcwd())\n",
    "            os.chdir(cwd2)\n",
    "        os.chdir(cwd)\n",
    "    except OSError:\n",
    "        print('ERROR_'+genus+' '+species)\n",
    "        os.chdir(cwd)\n",
    "        #pass"
   ]
  },
  {
   "cell_type": "code",
   "execution_count": 179,
   "metadata": {},
   "outputs": [
    {
     "ename": "SyntaxError",
     "evalue": "can't assign to literal (<ipython-input-179-342b0e19c321>, line 14)",
     "output_type": "error",
     "traceback": [
      "\u001b[1;36m  File \u001b[1;32m\"<ipython-input-179-342b0e19c321>\"\u001b[1;36m, line \u001b[1;32m14\u001b[0m\n\u001b[1;33m    for '16s' in result[z]:\u001b[0m\n\u001b[1;37m       ^\u001b[0m\n\u001b[1;31mSyntaxError\u001b[0m\u001b[1;31m:\u001b[0m can't assign to literal\n"
     ]
    }
   ],
   "source": [
    "#os.chdir('E:/Jupyter_Lab/KetiakProject/Genome Scraping NCBI/')\n",
    "cwd = os.getcwd()\n",
    "id = pd.read_csv('02_NCBI_Result_WGS.csv')\n",
    "for i in tqdm_notebook(range(len(id))):    \n",
    "    try:\n",
    "        genus = id.loc[i, \"Genus\"]\n",
    "        species = id.loc[i, \"Species\"]\n",
    "        refseq = pd.read_csv('Refseq_'+genus+'_'+species+'.csv')\n",
    "        os.chdir(cwd+\"/Result/\"+genus+\" \"+species)\n",
    "        #_______________________________________________________\n",
    "        cwd2 = (os.getcwd())\n",
    "        result = os.listdir()\n",
    "        for z in range(len(result)):\n",
    "            if '16s' in result[z]:\n",
    "                #os.chdir(result[z]+\"/input/\")\n",
    "                #___________________________________________________\n",
    "                dir_ref = os.listdir()\n",
    "                print(result[z])\n",
    "                #os.chdir(cwd2)\n",
    "                print(os.getcwd())\n",
    "            #os.chdir(cwd2)\n",
    "        os.chdir(cwd)\n",
    "    except OSError:\n",
    "        print('ERROR_'+genus+' '+species)\n",
    "        os.chdir(cwd)\n",
    "        #pass"
   ]
  },
  {
   "cell_type": "code",
   "execution_count": 155,
   "metadata": {},
   "outputs": [
    {
     "data": {
      "application/vnd.jupyter.widget-view+json": {
       "model_id": "323c979ac0034913bc40cd28f8309ee5",
       "version_major": 2,
       "version_minor": 0
      },
      "text/plain": [
       "HBox(children=(IntProgress(value=0, max=10), HTML(value='')))"
      ]
     },
     "metadata": {},
     "output_type": "display_data"
    },
    {
     "name": "stdout",
     "output_type": "stream",
     "text": [
      "16s_NC_006085.1.gbk.fasta\n",
      "E:\\Jupyter_Lab\\KetiakProject\\Genome Scraping NCBI\\Result\\Cutibacterium acnes\n",
      "16s_NC_014039.1.gbk.fasta\n",
      "E:\\Jupyter_Lab\\KetiakProject\\Genome Scraping NCBI\n",
      "16s_NC_017534.1.gbk.fasta\n",
      "E:\\Jupyter_Lab\\KetiakProject\\Genome Scraping NCBI\n",
      "16s_NC_017535.1.gbk.fasta\n",
      "E:\\Jupyter_Lab\\KetiakProject\\Genome Scraping NCBI\n",
      "16s_NC_017550.1.gbk.fasta\n",
      "E:\\Jupyter_Lab\\KetiakProject\\Genome Scraping NCBI\n",
      "16s_NC_002976.3.gbk.fasta\n",
      "E:\\Jupyter_Lab\\KetiakProject\\Genome Scraping NCBI\\Result\\Staphylococcus epidermidis\n",
      "16s_NC_004461.1.gbk.fasta\n",
      "E:\\Jupyter_Lab\\KetiakProject\\Genome Scraping NCBI\n",
      "16s_NZ_CP009046.1.gbk.fasta\n",
      "E:\\Jupyter_Lab\\KetiakProject\\Genome Scraping NCBI\n",
      "16s_NZ_CP020463.1.gbk.fasta\n",
      "E:\\Jupyter_Lab\\KetiakProject\\Genome Scraping NCBI\n",
      "16s_NZ_HG813242.1.gbk.fasta\n",
      "E:\\Jupyter_Lab\\KetiakProject\\Genome Scraping NCBI\n",
      "16s_NZ_CP014634.1.gbk.fasta\n",
      "E:\\Jupyter_Lab\\KetiakProject\\Genome Scraping NCBI\\Result\\Corynebacterium simulans\n",
      "16s_NZ_CP014635.1.gbk.fasta\n",
      "E:\\Jupyter_Lab\\KetiakProject\\Genome Scraping NCBI\n",
      "16s_NC_013853.1.gbk.fasta\n",
      "E:\\Jupyter_Lab\\KetiakProject\\Genome Scraping NCBI\\Result\\Streptococcus mitis\n",
      "16s_NZ_CP012646.1.gbk.fasta\n",
      "E:\\Jupyter_Lab\\KetiakProject\\Genome Scraping NCBI\n",
      "16s_NZ_CP014326.1.gbk.fasta\n",
      "E:\\Jupyter_Lab\\KetiakProject\\Genome Scraping NCBI\n",
      "16s_NZ_CP014107.1.gbk.fasta\n",
      "E:\\Jupyter_Lab\\KetiakProject\\Genome Scraping NCBI\\Result\\Staphylococcus hominis\n",
      "16s_NZ_CP020618.1.gbk.fasta\n",
      "E:\\Jupyter_Lab\\KetiakProject\\Genome Scraping NCBI\n",
      "16s_NZ_LT963438.1.gbk.fasta\n",
      "E:\\Jupyter_Lab\\KetiakProject\\Genome Scraping NCBI\n",
      "16s_NZ_LT963442.1.gbk.fasta\n",
      "E:\\Jupyter_Lab\\KetiakProject\\Genome Scraping NCBI\n",
      "16s_NC_012590.1.gbk.fasta\n",
      "E:\\Jupyter_Lab\\KetiakProject\\Genome Scraping NCBI\\Result\\Corynebacterium aurimucosum\n",
      "16s_NC_012704.1.gbk.fasta\n",
      "E:\\Jupyter_Lab\\KetiakProject\\Genome Scraping NCBI\\Result\\Corynebacterium kroppenstedtii\n",
      "\n"
     ]
    }
   ],
   "source": [
    "os.chdir(cwd)\n",
    "os.chdir('E:/Jupyter_Lab/KetiakProject/Genome Scraping NCBI/')\n",
    "species = pd.read_csv('02_NCBI_Result_WGS.csv')\n",
    "for i in tqdm_notebook(range(len(species))):\n",
    "    try:\n",
    "        refseq = pd.read_csv('Refseq_'+species.loc[i,\"Genus\"]+'_'+species.loc[i,\"Species\"]+'.csv')\n",
    "        os.chdir(cwd+\"/Result/\"+species.loc[i,\"Genus\"]+\" \"+species.loc[i,\"Species\"]+\"/\")\n",
    "        cwd2 = os.getcwd()\n",
    "        result = os.listdir()\n",
    "        for x in range(len(result)):\n",
    "            #print(result[x])\n",
    "            if 'fasta' in result[x]:\n",
    "                if 'clean' not in result[x]:\n",
    "                    print(result[x])\n",
    "                    print(os.getcwd())\n",
    "                    #drop_duplicates_fasta(result[x], unique=False, separator='&')\n",
    "                    os.chdir(cwd2)\n",
    "                os.chdir(cwd)\n",
    "            #os.chdir(cwd2)\n",
    "    except OSError:\n",
    "        os.chdir(cwd)\n",
    "        pass"
   ]
  },
  {
   "cell_type": "code",
   "execution_count": 123,
   "metadata": {},
   "outputs": [
    {
     "data": {
      "application/vnd.jupyter.widget-view+json": {
       "model_id": "1b8cd71516e74ac8a671e963ea3a659d",
       "version_major": 2,
       "version_minor": 0
      },
      "text/plain": [
       "HBox(children=(IntProgress(value=0, max=10), HTML(value='')))"
      ]
     },
     "metadata": {},
     "output_type": "display_data"
    },
    {
     "name": "stdout",
     "output_type": "stream",
     "text": [
      "E:\\Jupyter_Lab\\KetiakProject\\Genome Scraping NCBI\\Result\\Cutibacterium acnes\n",
      "16s_NC_006085.1.gbk.fasta_clean\n",
      "16s_NC_014039.1.gbk.fasta_clean\n",
      "16s_NC_017534.1.gbk.fasta_clean\n",
      "16s_NC_017535.1.gbk.fasta_clean\n",
      "16s_NC_017550.1.gbk.fasta_clean\n",
      "E:\\Jupyter_Lab\\KetiakProject\\Genome Scraping NCBI\\Result\\Staphylococcus epidermidis\n",
      "E:\\Jupyter_Lab\\KetiakProject\\Genome Scraping NCBI\\Result\\Corynebacterium tuberculostearicum\n",
      "E:\\Jupyter_Lab\\KetiakProject\\Genome Scraping NCBI\\Result\\Staphylococcus capitis\n",
      "E:\\Jupyter_Lab\\KetiakProject\\Genome Scraping NCBI\\Result\\Corynebacterium simulans\n",
      "E:\\Jupyter_Lab\\KetiakProject\\Genome Scraping NCBI\\Result\\Streptococcus mitis\n",
      "16s_NC_013853.1.gbk.fasta_clean\n",
      "16s_NZ_CP012646.1.gbk.fasta_clean\n",
      "16s_NZ_CP014326.1.gbk.fasta_clean\n",
      "E:\\Jupyter_Lab\\KetiakProject\\Genome Scraping NCBI\\Result\\Staphylococcus hominis\n",
      "16s_NZ_CP014107.1.gbk.fasta_clean\n",
      "16s_NZ_CP020618.1.gbk.fasta_clean\n",
      "16s_NZ_LT963438.1.gbk.fasta_clean\n",
      "16s_NZ_LT963442.1.gbk.fasta_clean\n",
      "E:\\Jupyter_Lab\\KetiakProject\\Genome Scraping NCBI\\Result\\Corynebacterium aurimucosum\n",
      "E:\\Jupyter_Lab\\KetiakProject\\Genome Scraping NCBI\\Result\\Corynebacterium kroppenstedtii\n",
      "16s_NC_012704.1.gbk.fasta_clean\n",
      "\n"
     ]
    }
   ],
   "source": [
    "os.chdir(cwd)\n",
    "#os.chdir('E:/Jupyter_Lab/KetiakProject/Genome Scraping NCBI/')\n",
    "species = pd.read_csv('02_NCBI_Result_WGS.csv')\n",
    "seq = []\n",
    "for i in tqdm_notebook(range(len(species))):\n",
    "    try:\n",
    "        refseq = pd.read_csv('Refseq_'+species.loc[i,\"Genus\"]+'_'+species.loc[i,\"Species\"]+'.csv')\n",
    "        os.chdir(cwd+\"/Result/\"+species.loc[i,\"Genus\"]+\" \"+species.loc[i,\"Species\"]+\"/\")\n",
    "        print(os.getcwd())\n",
    "        result = os.listdir()\n",
    "        for x in range(len(result)):\n",
    "            if '16s' and 'clean' in result[x]:\n",
    "                print(result[x])\n",
    "                seq_x = SeqIO.read(result[x],\"fasta\")\n",
    "                seq.append(seq_x)\n",
    "            else:\n",
    "                pass\n",
    "        os.chdir(cwd)\n",
    "    except OSError:\n",
    "        os.chdir(cwd)\n",
    "        pass"
   ]
  },
  {
   "cell_type": "code",
   "execution_count": 97,
   "metadata": {},
   "outputs": [
    {
     "data": {
      "image/png": "[encoded data removed]",
      "text/plain": [
       "<Figure size 432x288 with 1 Axes>"
      ]
     },
     "metadata": {},
     "output_type": "display_data"
    },
    {
     "name": "stdout",
     "output_type": "stream",
     "text": [
      "                                                  __________ NZ_CP020618.1\n",
      "  _______________________________________________|\n",
      " |                                               |__________ NZ_CP014107.1\n",
      " |\n",
      " |                                                          , NZ_LT963442.1\n",
      "_|  ________________________________________________________|\n",
      " |,|                                                        | NZ_LT963438.1\n",
      " |||\n",
      " |||________________________________________________________ NZ_CP014326.1\n",
      " ||\n",
      " ||     _______________________________________________________ NC_013853.1\n",
      "  |   _|\n",
      "  |  | |          _____________________________________________ NC_012704.1\n",
      "  |  | |_________|\n",
      "  |__|           |_____________________________________________ NC_017550.1\n",
      "     |\n",
      "     |     ____________________________________________________ NZ_CP012646.1\n",
      "     |    |\n",
      "     |____|                                                   , NC_014039.1\n",
      "          |                                                   |\n",
      "          |___________________________________________________|, NC_017535.1\n",
      "                                                              ,|\n",
      "                                                              || NC_017534.1\n",
      "                                                              |\n",
      "                                                              | NC_006085.1\n",
      "\n"
     ]
    }
   ],
   "source": [
    "from Bio.Align import MultipleSeqAlignment\n",
    "from Bio import Seq\n",
    "from Bio import Phylo\n",
    "from Bio.Phylo.TreeConstruction import DistanceCalculator\n",
    "from Bio.Phylo.TreeConstruction import DistanceTreeConstructor\n",
    "from Bio import AlignIO\n",
    "\n",
    "len_seq = []\n",
    "for i in range(len(seq)):\n",
    "    x = len(seq[i])\n",
    "    len_seq.append(x)\n",
    "maxlen = max(len_seq)\n",
    "\n",
    "for i in range(len(seq)):\n",
    "    if len(seq[i]) != maxlen:\n",
    "        sequence = str(seq[i].seq).ljust(maxlen, '.')\n",
    "        seq[i].seq = Seq.Seq(sequence)\n",
    "        #print(sequence)\n",
    "\n",
    "a = seq[0]\n",
    "b = seq[1]\n",
    "c = seq[2]\n",
    "        \n",
    "aln = MultipleSeqAlignment(seq)\n",
    "\n",
    "calculator = DistanceCalculator('identity')\n",
    "dm = calculator.get_distance(aln)\n",
    "\n",
    "# Print the distance Matrix\n",
    "#print('\\nDistance Matrix\\n===================')\n",
    "#print(dm)\n",
    "\n",
    "# Construct the phylogenetic tree using UPGMA algorithm\n",
    "constructor = DistanceTreeConstructor()\n",
    "tree = constructor.upgma(dm)\n",
    "\n",
    "# Draw the phylogenetic tree\n",
    "Phylo.draw(tree)\n",
    "\n",
    "# Print the phylogenetic tree in the terminal\n",
    "#print('\\nPhylogenetic Tree\\n===================')\n",
    "Phylo.draw_ascii(tree)"
   ]
  },
  {
   "cell_type": "code",
   "execution_count": 98,
   "metadata": {},
   "outputs": [
    {
     "data": {
      "text/plain": [
       "Bio.Phylo.BaseTree.Tree"
      ]
     },
     "execution_count": 98,
     "metadata": {},
     "output_type": "execute_result"
    }
   ],
   "source": [
    "type(tree)"
   ]
  },
  {
   "cell_type": "code",
   "execution_count": 99,
   "metadata": {},
   "outputs": [
    {
     "data": {
      "text/plain": [
       "1"
      ]
     },
     "execution_count": 99,
     "metadata": {},
     "output_type": "execute_result"
    }
   ],
   "source": [
    "Phylo.write(tree, 'tree.xml', 'phyloxml')\n",
    "Phylo.write(tree, 'tree.nh', 'newick')"
   ]
  },
  {
   "cell_type": "code",
   "execution_count": 107,
   "metadata": {},
   "outputs": [],
   "source": [
    "from ete3 import Phyloxml\n",
    "project = Phyloxml()\n",
    "project.build_from_file(\"tree.xml\")"
   ]
  },
  {
   "cell_type": "code",
   "execution_count": 106,
   "metadata": {},
   "outputs": [
    {
     "name": "stdout",
     "output_type": "stream",
     "text": [
      "\n",
      "      /-NZ_CP020618.1\n",
      "   /-|\n",
      "  |   \\-NZ_CP014107.1\n",
      "  |\n",
      "  |         /-NZ_LT963442.1\n",
      "--|      /-|\n",
      "  |   /-|   \\-NZ_LT963438.1\n",
      "  |  |  |\n",
      "  |  |   \\-NZ_CP014326.1\n",
      "  |  |\n",
      "   \\-|      /-NC_013853.1\n",
      "     |   /-|\n",
      "     |  |  |   /-NC_012704.1\n",
      "     |  |   \\-|\n",
      "      \\-|      \\-NC_017550.1\n",
      "        |\n",
      "        |   /-NZ_CP012646.1\n",
      "        |  |\n",
      "         \\-|   /-NC_014039.1\n",
      "           |  |\n",
      "            \\-|      /-NC_017535.1\n",
      "              |   /-|\n",
      "               \\-|   \\-NC_017534.1\n",
      "                 |\n",
      "                  \\-NC_006085.1\n"
     ]
    }
   ],
   "source": [
    "for i in project.get_phylogeny():\n",
    "    print (i)"
   ]
  },
  {
   "cell_type": "code",
   "execution_count": 110,
   "metadata": {},
   "outputs": [
    {
     "ename": "ModuleNotFoundError",
     "evalue": "No module named 'PyQt4'",
     "output_type": "error",
     "traceback": [
      "\u001b[1;31m---------------------------------------------------------------------------\u001b[0m",
      "\u001b[1;31mModuleNotFoundError\u001b[0m                       Traceback (most recent call last)",
      "\u001b[1;32m<ipython-input-110-fe7e89b2eec6>\u001b[0m in \u001b[0;36m<module>\u001b[1;34m()\u001b[0m\n\u001b[0;32m      1\u001b[0m \u001b[1;32mfrom\u001b[0m \u001b[0mete3\u001b[0m \u001b[1;32mimport\u001b[0m \u001b[0mTree\u001b[0m\u001b[1;33m\u001b[0m\u001b[0m\n\u001b[1;32m----> 2\u001b[1;33m \u001b[0mi\u001b[0m\u001b[1;33m.\u001b[0m\u001b[0mrender\u001b[0m\u001b[1;33m(\u001b[0m\u001b[1;34m\"mytree.png\"\u001b[0m\u001b[1;33m,\u001b[0m \u001b[0mw\u001b[0m\u001b[1;33m=\u001b[0m\u001b[1;36m183\u001b[0m\u001b[1;33m,\u001b[0m \u001b[0munits\u001b[0m\u001b[1;33m=\u001b[0m\u001b[1;34m\"mm\"\u001b[0m\u001b[1;33m)\u001b[0m\u001b[1;33m\u001b[0m\u001b[0m\n\u001b[0m",
      "\u001b[1;32mC:\\ProgramData\\Anaconda3\\lib\\site-packages\\ete3\\coretype\\tree.py\u001b[0m in \u001b[0;36mrender\u001b[1;34m(self, file_name, layout, w, h, tree_style, units, dpi)\u001b[0m\n\u001b[0;32m   1352\u001b[0m         \"\"\"\n\u001b[0;32m   1353\u001b[0m \u001b[1;33m\u001b[0m\u001b[0m\n\u001b[1;32m-> 1354\u001b[1;33m         \u001b[1;32mfrom\u001b[0m \u001b[1;33m.\u001b[0m\u001b[1;33m.\u001b[0m\u001b[0mtreeview\u001b[0m \u001b[1;32mimport\u001b[0m \u001b[0mdrawer\u001b[0m\u001b[1;33m\u001b[0m\u001b[0m\n\u001b[0m\u001b[0;32m   1355\u001b[0m         \u001b[1;32mif\u001b[0m \u001b[0mfile_name\u001b[0m \u001b[1;33m==\u001b[0m \u001b[1;34m'%%return'\u001b[0m\u001b[1;33m:\u001b[0m\u001b[1;33m\u001b[0m\u001b[0m\n\u001b[0;32m   1356\u001b[0m             return drawer.get_img(self, w=w, h=h,\n",
      "\u001b[1;32mC:\\ProgramData\\Anaconda3\\lib\\site-packages\\ete3\\treeview\\__init__.py\u001b[0m in \u001b[0;36m<module>\u001b[1;34m()\u001b[0m\n\u001b[0;32m     40\u001b[0m \u001b[1;33m\u001b[0m\u001b[0m\n\u001b[0;32m     41\u001b[0m \u001b[1;33m\u001b[0m\u001b[0m\n\u001b[1;32m---> 42\u001b[1;33m \u001b[1;32mfrom\u001b[0m \u001b[1;33m.\u001b[0m\u001b[0mmain\u001b[0m \u001b[1;32mimport\u001b[0m \u001b[1;33m*\u001b[0m\u001b[1;33m\u001b[0m\u001b[0m\n\u001b[0m\u001b[0;32m     43\u001b[0m \u001b[1;32mfrom\u001b[0m \u001b[1;33m.\u001b[0m\u001b[0mfaces\u001b[0m \u001b[1;32mimport\u001b[0m \u001b[1;33m*\u001b[0m\u001b[1;33m\u001b[0m\u001b[0m\n\u001b[0;32m     44\u001b[0m \u001b[1;32mfrom\u001b[0m \u001b[1;33m.\u001b[0m\u001b[0msvg_colors\u001b[0m \u001b[1;32mimport\u001b[0m \u001b[1;33m*\u001b[0m\u001b[1;33m\u001b[0m\u001b[0m\n",
      "\u001b[1;32mC:\\ProgramData\\Anaconda3\\lib\\site-packages\\ete3\\treeview\\main.py\u001b[0m in \u001b[0;36m<module>\u001b[1;34m()\u001b[0m\n\u001b[0;32m     46\u001b[0m \u001b[1;32mfrom\u001b[0m \u001b[0msys\u001b[0m \u001b[1;32mimport\u001b[0m \u001b[0mstderr\u001b[0m\u001b[1;33m\u001b[0m\u001b[0m\n\u001b[0;32m     47\u001b[0m \u001b[1;33m\u001b[0m\u001b[0m\n\u001b[1;32m---> 48\u001b[1;33m \u001b[1;32mfrom\u001b[0m \u001b[0mPyQt4\u001b[0m\u001b[1;33m.\u001b[0m\u001b[0mQtGui\u001b[0m \u001b[1;32mimport\u001b[0m \u001b[1;33m*\u001b[0m\u001b[1;33m\u001b[0m\u001b[0m\n\u001b[0m\u001b[0;32m     49\u001b[0m \u001b[1;32mfrom\u001b[0m \u001b[0mPyQt4\u001b[0m \u001b[1;32mimport\u001b[0m \u001b[0mQtCore\u001b[0m\u001b[1;33m\u001b[0m\u001b[0m\n\u001b[0;32m     50\u001b[0m \u001b[1;33m\u001b[0m\u001b[0m\n",
      "\u001b[1;31mModuleNotFoundError\u001b[0m: No module named 'PyQt4'"
     ]
    }
   ],
   "source": [
    "from ete3 import Tree\n",
    "i.render(\"mytree.png\", w=183, units=\"mm\")"
   ]
  },
  {
   "cell_type": "code",
   "execution_count": null,
   "metadata": {},
   "outputs": [],
   "source": []
  }
 ],
 "metadata": {
  "kernelspec": {
   "display_name": "Python 3",
   "language": "python",
   "name": "python3"
  },
  "language_info": {
   "codemirror_mode": {
    "name": "ipython",
    "version": 3
   },
   "file_extension": ".py",
   "mimetype": "text/x-python",
   "name": "python",
   "nbconvert_exporter": "python",
   "pygments_lexer": "ipython3",
   "version": "3.6.0"
  }
 },
 "nbformat": 4,
 "nbformat_minor": 2
}
