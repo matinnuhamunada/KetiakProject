{
 "cells": [
  {
   "cell_type": "code",
   "execution_count": 39,
   "metadata": {},
   "outputs": [],
   "source": [
    "from pandas import DataFrame\n",
    "import pandas as pd\n",
    "import numpy as np\n",
    "from Bio import Entrez \n",
    "import pycurl\n",
    "import matplotlib.pyplot as plt"
   ]
  },
  {
   "cell_type": "code",
   "execution_count": 2,
   "metadata": {},
   "outputs": [
    {
     "name": "stdout",
     "output_type": "stream",
     "text": [
      "E:\\Jupyter_Lab\\Genome Mining\n"
     ]
    }
   ],
   "source": [
    "#Create ouput folder\n",
    "import os, sys\n",
    "\n",
    "cwd = os.getcwd()\n",
    "output_folder = \"output\" #name output folder, use \\ for directory\n",
    "\n",
    "if not os.path.isdir(cwd + output_folder):\n",
    "    os.mkdir(cwd + output_folder)\n",
    "\n",
    "new_dir = cwd + output_folder\n",
    "    \n",
    "print(cwd)"
   ]
  },
  {
   "cell_type": "code",
   "execution_count": 3,
   "metadata": {},
   "outputs": [
    {
     "name": "stdout",
     "output_type": "stream",
     "text": [
      "0               Propionibacterium acnes\n",
      "1            Staphylococcus epidermidis\n",
      "2    Corynebacterium tuberculostearicum\n",
      "3                Staphylococcus capitis\n",
      "4              Corynebacterium simulans\n",
      "5                   Streptococcus mitis\n",
      "6                Staphylococcus hominis\n",
      "7           Corynebacterium aurimucosum\n",
      "8        Corynebacterium kroppenstedtii\n",
      "9            Corynebacterium amycolatum\n",
      "Name: Sebaceous, dtype: object\n"
     ]
    }
   ],
   "source": [
    "#Pilih data dari Sebaceous\n",
    "df1 = pd.read_csv(\"Byrd_2018_Bacteria.csv\")\n",
    "#print(df1)\n",
    "df2 = df1.loc[:,'Sebaceous']\n",
    "print(df2)"
   ]
  },
  {
   "cell_type": "code",
   "execution_count": 4,
   "metadata": {},
   "outputs": [
    {
     "name": "stdout",
     "output_type": "stream",
     "text": [
      "['1140']\n",
      "\"Cutibacterium acnes\"[Organism]\n"
     ]
    }
   ],
   "source": [
    "#Email for NCBI\n",
    "Entrez.email = \"matin_nuhamunada@mail.ugm.ac.id\"\n",
    "handle = Entrez.esearch(db=\"genome\", term=df2[0])\n",
    "record = Entrez.read(handle)\n",
    "print(record['IdList'])\n",
    "print(record['QueryTranslation'])"
   ]
  },
  {
   "cell_type": "code",
   "execution_count": 8,
   "metadata": {},
   "outputs": [],
   "source": [
    "def get_GenomeAssembly(G, S):\n",
    "    F = G+'_'+S+'.csv'\n",
    "    if not os.path.isfile(F):\n",
    "        with open(F, 'wb') as f:\n",
    "            c = pycurl.Curl()\n",
    "            c.setopt(c.URL, 'https://www.ncbi.nlm.nih.gov/genomes/Genome2BE/genome2srv.cgi?action=download&orgn=%22'+G+'%20'+S+'%22[orgn]&status=50|40||30|20&report=proks&group=--%20All%20Prokaryotes%20--&subgroup=--%20All%20Prokaryotes%20--&format=csv')\n",
    "            c.setopt(c.WRITEDATA, f)\n",
    "            c.perform()\n",
    "            c.close()\n",
    "    return F"
   ]
  },
  {
   "cell_type": "code",
   "execution_count": 9,
   "metadata": {},
   "outputs": [
    {
     "data": {
      "text/plain": [
       "'Cutibacterium_acnes.csv'"
      ]
     },
     "execution_count": 9,
     "metadata": {},
     "output_type": "execute_result"
    }
   ],
   "source": [
    "get_GenomeAssembly('Cutibacterium', 'acnes')"
   ]
  },
  {
   "cell_type": "code",
   "execution_count": 79,
   "metadata": {},
   "outputs": [
    {
     "data": {
      "text/html": [
       "<div>\n",
       "<style scoped>\n",
       "    .dataframe tbody tr th:only-of-type {\n",
       "        vertical-align: middle;\n",
       "    }\n",
       "\n",
       "    .dataframe tbody tr th {\n",
       "        vertical-align: top;\n",
       "    }\n",
       "\n",
       "    .dataframe thead th {\n",
       "        text-align: right;\n",
       "    }\n",
       "</style>\n",
       "<table border=\"1\" class=\"dataframe\">\n",
       "  <thead>\n",
       "    <tr style=\"text-align: right;\">\n",
       "      <th></th>\n",
       "      <th>#Organism/Name</th>\n",
       "      <th>Strain</th>\n",
       "      <th>CladeID</th>\n",
       "      <th>BioSample</th>\n",
       "      <th>BioProject</th>\n",
       "      <th>Group</th>\n",
       "      <th>SubGroup</th>\n",
       "      <th>Assembly</th>\n",
       "      <th>Size (Mb)</th>\n",
       "      <th>GC%</th>\n",
       "      <th>Replicons</th>\n",
       "      <th>WGS</th>\n",
       "      <th>Scaffolds</th>\n",
       "      <th>Genes</th>\n",
       "      <th>Proteins</th>\n",
       "      <th>Release Date</th>\n",
       "      <th>Modify Date</th>\n",
       "      <th>Level</th>\n",
       "      <th>RefSeq FTP</th>\n",
       "      <th>GenBank FTP</th>\n",
       "    </tr>\n",
       "  </thead>\n",
       "  <tbody>\n",
       "    <tr>\n",
       "      <th>0</th>\n",
       "      <td>Cutibacterium acnes KPA171202</td>\n",
       "      <td>KPA171202</td>\n",
       "      <td>20872</td>\n",
       "      <td>SAMN02603281</td>\n",
       "      <td>PRJNA12460</td>\n",
       "      <td>Terrabacteria group</td>\n",
       "      <td>Actinobacteria</td>\n",
       "      <td>GCA_000008345.1</td>\n",
       "      <td>2.56026</td>\n",
       "      <td>60.0</td>\n",
       "      <td>chromosome:NC_006085.1/AE017283.1</td>\n",
       "      <td>-</td>\n",
       "      <td>1</td>\n",
       "      <td>2565</td>\n",
       "      <td>2416</td>\n",
       "      <td>2004/07/30</td>\n",
       "      <td>2017/03/29</td>\n",
       "      <td>Complete Genome</td>\n",
       "      <td>ftp://ftp.ncbi.nlm.nih.gov/genomes/all/GCF/000...</td>\n",
       "      <td>ftp://ftp.ncbi.nlm.nih.gov/genomes/all/GCA/000...</td>\n",
       "    </tr>\n",
       "    <tr>\n",
       "      <th>1</th>\n",
       "      <td>Cutibacterium acnes SK137</td>\n",
       "      <td>SK137</td>\n",
       "      <td>20872</td>\n",
       "      <td>SAMN00000718</td>\n",
       "      <td>PRJNA31005</td>\n",
       "      <td>Terrabacteria group</td>\n",
       "      <td>Actinobacteria</td>\n",
       "      <td>GCA_000025765.1</td>\n",
       "      <td>2.49533</td>\n",
       "      <td>60.1</td>\n",
       "      <td>chromosome:NC_014039.1/CP001977.1</td>\n",
       "      <td>-</td>\n",
       "      <td>1</td>\n",
       "      <td>2525</td>\n",
       "      <td>2390</td>\n",
       "      <td>2010/03/23</td>\n",
       "      <td>2017/03/30</td>\n",
       "      <td>Complete Genome</td>\n",
       "      <td>ftp://ftp.ncbi.nlm.nih.gov/genomes/all/GCF/000...</td>\n",
       "      <td>ftp://ftp.ncbi.nlm.nih.gov/genomes/all/GCA/000...</td>\n",
       "    </tr>\n",
       "  </tbody>\n",
       "</table>\n",
       "</div>"
      ],
      "text/plain": [
       "                  #Organism/Name     Strain CladeID      BioSample  \\\n",
       "0  Cutibacterium acnes KPA171202  KPA171202   20872  SAMN02603281    \n",
       "1      Cutibacterium acnes SK137      SK137   20872  SAMN00000718    \n",
       "\n",
       "   BioProject                Group        SubGroup          Assembly  \\\n",
       "0  PRJNA12460  Terrabacteria group  Actinobacteria  GCA_000008345.1    \n",
       "1  PRJNA31005  Terrabacteria group  Actinobacteria  GCA_000025765.1    \n",
       "\n",
       "   Size (Mb)   GC%                          Replicons WGS  Scaffolds Genes  \\\n",
       "0    2.56026  60.0  chromosome:NC_006085.1/AE017283.1   -          1  2565   \n",
       "1    2.49533  60.1  chromosome:NC_014039.1/CP001977.1   -          1  2525   \n",
       "\n",
       "  Proteins Release Date Modify Date            Level  \\\n",
       "0     2416   2004/07/30  2017/03/29  Complete Genome   \n",
       "1     2390   2010/03/23  2017/03/30  Complete Genome   \n",
       "\n",
       "                                          RefSeq FTP  \\\n",
       "0  ftp://ftp.ncbi.nlm.nih.gov/genomes/all/GCF/000...   \n",
       "1  ftp://ftp.ncbi.nlm.nih.gov/genomes/all/GCF/000...   \n",
       "\n",
       "                                         GenBank FTP  \n",
       "0  ftp://ftp.ncbi.nlm.nih.gov/genomes/all/GCA/000...  \n",
       "1  ftp://ftp.ncbi.nlm.nih.gov/genomes/all/GCA/000...  "
      ]
     },
     "execution_count": 79,
     "metadata": {},
     "output_type": "execute_result"
    }
   ],
   "source": [
    "df3 = pd.read_csv('Cutibacterium_acnes.csv')\n",
    "df3.head(n=2)"
   ]
  },
  {
   "cell_type": "code",
   "execution_count": 80,
   "metadata": {},
   "outputs": [
    {
     "data": {
      "text/plain": [
       "'chromosome:NC_021085.1/CP003293.1; plasmid unnamed:NC_021086.1/CP003294.1'"
      ]
     },
     "execution_count": 80,
     "metadata": {},
     "output_type": "execute_result"
    }
   ],
   "source": [
    "#Filter by \"Organism/Name\", \"Strain\", \"Size(Mb)\", \"GC%\", \"Replicons\", \"Level\"\n",
    "df4 = df3.loc[:,'Replicons']\n",
    "df4[9]"
   ]
  },
  {
   "cell_type": "code",
   "execution_count": 85,
   "metadata": {},
   "outputs": [],
   "source": [
    "df_Complete = df3[df3['Level'].str.contains(\"Complete Genome\")]\n",
    "df_Complete = df_Complete[['#Organism/Name','Strain', 'Size (Mb)', 'GC%', 'Replicons', 'Level', 'Genes', 'Proteins']]"
   ]
  },
  {
   "cell_type": "code",
   "execution_count": 91,
   "metadata": {},
   "outputs": [],
   "source": [
    "df_Complete.head(n=2)\n",
    "\n",
    "df_Complete.loc[:, 'Genes'] = df_Complete.loc[:, 'Genes'].astype(int)\n",
    "df_Complete.loc[:, 'Proteins'] = df_Complete.loc[:, 'Proteins'].astype(int)"
   ]
  },
  {
   "cell_type": "code",
   "execution_count": 121,
   "metadata": {},
   "outputs": [
    {
     "data": {
      "image/png": "[encoded data removed]",
      "text/plain": [
       "<Figure size 864x432 with 4 Axes>"
      ]
     },
     "metadata": {},
     "output_type": "display_data"
    }
   ],
   "source": [
    "%matplotlib inline\n",
    "\n",
    "f = plt.figure(figsize=(12,6))\n",
    "f.\n",
    "f.add_subplot(221)\n",
    "df_Complete.loc[:, 'GC%'].plot(kind='bar')\n",
    "plt.ylabel('GC%')\n",
    "\n",
    "f.add_subplot(222)\n",
    "df_Complete.loc[:, 'Size (Mb)'].plot(kind='bar')\n",
    "plt.ylabel('Size (Mb)')\n",
    "\n",
    "f.add_subplot(223)\n",
    "df_Complete.loc[:, 'Genes'].plot(kind='bar')\n",
    "plt.ylabel('Genes (n)')\n",
    "\n",
    "f.add_subplot(224)\n",
    "df_Complete.loc[:, 'Proteins'].plot(kind='bar')\n",
    "plt.ylabel('Proteins (n)')\n",
    "\n",
    "plt.show()\n"
   ]
  },
  {
   "cell_type": "code",
   "execution_count": null,
   "metadata": {},
   "outputs": [],
   "source": []
  }
 ],
 "metadata": {
  "kernelspec": {
   "display_name": "Python 3",
   "language": "python",
   "name": "python3"
  },
  "language_info": {
   "codemirror_mode": {
    "name": "ipython",
    "version": 3
   },
   "file_extension": ".py",
   "mimetype": "text/x-python",
   "name": "python",
   "nbconvert_exporter": "python",
   "pygments_lexer": "ipython3",
   "version": "3.6.0"
  }
 },
 "nbformat": 4,
 "nbformat_minor": 2
}
