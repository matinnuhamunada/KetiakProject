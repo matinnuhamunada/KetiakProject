{
 "cells": [
  {
   "cell_type": "code",
   "execution_count": 26,
   "metadata": {},
   "outputs": [],
   "source": [
    "from Bio import SeqIO\n",
    "from pandas import DataFrame\n",
    "import pandas as pd"
   ]
  },
  {
   "cell_type": "code",
   "execution_count": 33,
   "metadata": {},
   "outputs": [],
   "source": [
    "# Set input file, output file to write to\n",
    "\n",
    "df = pd.read_csv(\"Refseq_Cutibacterium_acnes.csv\")\n",
    "refseq = df[\"Refseq\"]"
   ]
  },
  {
   "cell_type": "code",
   "execution_count": 35,
   "metadata": {},
   "outputs": [
    {
     "name": "stdout",
     "output_type": "stream",
     "text": [
      "NC_006085.1.final.gbk\n"
     ]
    },
    {
     "data": {
      "text/html": [
       "<div>\n",
       "<style scoped>\n",
       "    .dataframe tbody tr th:only-of-type {\n",
       "        vertical-align: middle;\n",
       "    }\n",
       "\n",
       "    .dataframe tbody tr th {\n",
       "        vertical-align: top;\n",
       "    }\n",
       "\n",
       "    .dataframe thead th {\n",
       "        text-align: right;\n",
       "    }\n",
       "</style>\n",
       "<table border=\"1\" class=\"dataframe\">\n",
       "  <thead>\n",
       "    <tr style=\"text-align: right;\">\n",
       "      <th></th>\n",
       "      <th>Cluster No</th>\n",
       "      <th>Cluster Type</th>\n",
       "    </tr>\n",
       "  </thead>\n",
       "  <tbody>\n",
       "    <tr>\n",
       "      <th>0</th>\n",
       "      <td>Cluster_number_1</td>\n",
       "      <td>bacteriocin</td>\n",
       "    </tr>\n",
       "    <tr>\n",
       "      <th>1</th>\n",
       "      <td>Cluster_number_2</td>\n",
       "      <td>thiopeptide</td>\n",
       "    </tr>\n",
       "    <tr>\n",
       "      <th>2</th>\n",
       "      <td>Cluster_number_3</td>\n",
       "      <td>nrps</td>\n",
       "    </tr>\n",
       "  </tbody>\n",
       "</table>\n",
       "</div>"
      ],
      "text/plain": [
       "         Cluster No Cluster Type\n",
       "0  Cluster_number_1  bacteriocin\n",
       "1  Cluster_number_2  thiopeptide\n",
       "2  Cluster_number_3         nrps"
      ]
     },
     "execution_count": 35,
     "metadata": {},
     "output_type": "execute_result"
    }
   ],
   "source": [
    "gbk_file = refseq[0]+\".final.gbk\"\n",
    "print (gbk_file)\n",
    "df_antismash = DataFrame(columns=(\"Cluster No\",\"Cluster Type\"))\n",
    "# Extract Cluster info, write to file\n",
    "for seq_record in SeqIO.parse(gbk_file, \"genbank\"):\n",
    "    for seq_feat in seq_record.features:\n",
    "        if seq_feat.type == \"cluster\":\n",
    "            cluster_number = seq_feat.qualifiers[\"note\"][0].replace(\" \",\"_\").replace(\":\",\"\")\n",
    "            cluster_type = seq_feat.qualifiers[\"product\"][0]\n",
    "            df = pd.DataFrame([[cluster_number, cluster_type]], columns=(\"Cluster No\", \"Cluster Type\"))\n",
    "            df_antismash = df_antismash.append(df, ignore_index=True)\n",
    "df_antismash.to_csv(\"BGC_result_\"+refseq[0]+\".csv\")\n",
    "df_antismash"
   ]
  },
  {
   "cell_type": "code",
   "execution_count": 41,
   "metadata": {},
   "outputs": [
    {
     "data": {
      "text/plain": [
       "bacteriocin    1\n",
       "nrps           1\n",
       "thiopeptide    1\n",
       "Name: Cluster Type, dtype: int64"
      ]
     },
     "execution_count": 41,
     "metadata": {},
     "output_type": "execute_result"
    }
   ],
   "source": [
    "df = pd.read_csv(\"BGC_result_\"+refseq[0]+\".csv\")\n",
    "df2 = df[\"Cluster Type\"].value_counts()\n",
    "df2"
   ]
  },
  {
   "cell_type": "code",
   "execution_count": null,
   "metadata": {},
   "outputs": [],
   "source": []
  }
 ],
 "metadata": {
  "kernelspec": {
   "display_name": "Python 3",
   "language": "python",
   "name": "python3"
  },
  "language_info": {
   "codemirror_mode": {
    "name": "ipython",
    "version": 3
   },
   "file_extension": ".py",
   "mimetype": "text/x-python",
   "name": "python",
   "nbconvert_exporter": "python",
   "pygments_lexer": "ipython3",
   "version": "3.6.0"
  }
 },
 "nbformat": 4,
 "nbformat_minor": 2
}
